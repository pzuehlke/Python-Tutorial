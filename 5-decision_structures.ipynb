{
 "cells": [
  {
   "attachments": {},
   "cell_type": "markdown",
   "metadata": {},
   "source": [
    "# Decision structures (`if-elif-else` and `match`)\n",
    "\n",
    "\n",
    "## $ \\S 1 $ Printing messages and receiving input\n",
    "\n",
    "### $ 1.1 $ The `input` function\n",
    "\n",
    "Many programs require some kind of text input from the user during their execution. For this purpose, Python provides the function `input`.\n",
    "\n",
    "__Example:__"
   ]
  },
  {
   "cell_type": "code",
   "execution_count": 1,
   "metadata": {},
   "outputs": [
    {
     "name": "stdout",
     "output_type": "stream",
     "text": [
      "23 <class 'str'>\n"
     ]
    }
   ],
   "source": [
    "age_str = input(\"Type your age:\\n\")  # '\\n' is the newline character.\n",
    "print(age_str, type(age_str))                \n",
    "# The output of the 'input' function is always of type 'str'."
   ]
  },
  {
   "attachments": {},
   "cell_type": "markdown",
   "metadata": {},
   "source": [
    "More formally, `input` operates as follows:\n",
    "* It takes a single argument of type `str`, which is displayed on the screen as\n",
    "  a _prompt_ to the user (if no argument is provided, the prompt message is taken\n",
    "  to be the empty string);\n",
    "* Execution is halted in order for the user to type her input;\n",
    "* When `Return` (a.k.a. `Enter`) is pressed, the characters typed in by the user\n",
    "  are joined to form a string which is returned as the output (after stripping\n",
    "  the trailing newline character). In particular, this string can be assigned to\n",
    "  a variable and manipulated later.\n",
    "\n",
    "__Exercise:__ Write a script that asks for a person's name and prints it\n",
    "back in reverse order."
   ]
  },
  {
   "cell_type": "code",
   "execution_count": null,
   "metadata": {},
   "outputs": [],
   "source": []
  },
  {
   "attachments": {},
   "cell_type": "markdown",
   "metadata": {},
   "source": [
    "### $ 1.2 $ f-strings\n",
    "\n",
    "<div class=\"alert alert-info\">To insert the <i>value</i> of a variable or of an\n",
    "expression inside a string, we can prepend the opening quotation mark with an\n",
    "<code>f</code> (or <code>F</code>), for <i>'format'</i>, and enclose the name of\n",
    "the variable or expression in curly braces <code>{}</code>. A string of this\n",
    "type is called an\n",
    "<b>f-string</b>. </div>\n",
    "\n",
    "__Example:__"
   ]
  },
  {
   "cell_type": "code",
   "execution_count": 1,
   "metadata": {},
   "outputs": [
    {
     "name": "stdout",
     "output_type": "stream",
     "text": [
      "You are 99 years old.\n",
      "You have lived for at least ... 5162 weeks thus far!\n"
     ]
    }
   ],
   "source": [
    "age_str = input(\"Type your age:\\n\")\n",
    "\n",
    "print(f\"You are {age_str} years old.\")\n",
    "\n",
    "age = int(age_str)    # Converting the input to an integer.\n",
    "\n",
    "print(f\"You have lived for at least ... {(365 * age) // 7} weeks thus far!\")"
   ]
  },
  {
   "attachments": {},
   "cell_type": "markdown",
   "metadata": {},
   "source": [
    "__Exercise:__ Continuing the preceding example, write a script that asks for a\n",
    "person's age and prints a message stating how many hours she/he has lived so\n",
    "far."
   ]
  },
  {
   "cell_type": "code",
   "execution_count": null,
   "metadata": {},
   "outputs": [],
   "source": []
  },
  {
   "attachments": {},
   "cell_type": "markdown",
   "metadata": {},
   "source": [
    "## $ \\S 2 $ Decision structures\n",
    "\n",
    "### $ 2.1 $ The `if` construct\n",
    "\n",
    "Perhaps the most important tool of high-level programming languages is the\n",
    "__conditional execution__ of code, also known as __branching__. It allows one to\n",
    "instruct the computer to examine a boolean expression and to take a\n",
    "corresponding action depending on whether this expression evaluates to `True` or\n",
    "`False`.\n",
    "\n",
    "__Example (simple `if` construct):__"
   ]
  },
  {
   "cell_type": "code",
   "execution_count": 6,
   "metadata": {},
   "outputs": [
    {
     "name": "stdout",
     "output_type": "stream",
     "text": [
      "Congratulations!\n",
      "Since you are 18 years old, you are allowed to drive.\n"
     ]
    }
   ],
   "source": [
    "age = int(input(\"Tell me your age: \"))\n",
    "\n",
    "if age >= 18:\n",
    "    print(\"Congratulations!\")\n",
    "    print(f\"Since you are {age} years old, you are allowed to drive.\")\n",
    "\n",
    "print(\"Rest of the program goes here.\")"
   ]
  },
  {
   "attachments": {},
   "cell_type": "markdown",
   "metadata": {},
   "source": [
    "At the core of every `if` construct is a __conditional test__, which must be a\n",
    "_boolean expression_, that is, it must evaluate to either `True` or `False`. In\n",
    "the foregoing example, this expression is `age >= 18`.\n",
    "* If the conditional test yields `True`, then the __if-block__ defined\n",
    "  by the next level of indentation relative to the if-statement is executed.\n",
    "* Otherwise, the if-block is skipped and execution continues immediately after it ends."
   ]
  },
  {
   "cell_type": "markdown",
   "metadata": {},
   "source": [
    "__Exercise:__ Write a script that prompts the user for a number and returns its absolute value. _Hint:_ Use two separate `if` constructs."
   ]
  },
  {
   "cell_type": "code",
   "execution_count": null,
   "metadata": {},
   "outputs": [],
   "source": []
  },
  {
   "attachments": {},
   "cell_type": "markdown",
   "metadata": {},
   "source": [
    "__Exercise:__ Write a script that prompts the user for a word $ w $ and prints the message \"The word <word> begins with a vowel\" \n",
    "in case the initial letter of $ w $ is a vowel. _Hint:_ There are at least three options:\n",
    "\n",
    "1. Check if the letter coincides with one of the vowels, as in: `if w[0] == 'A' or w[0] == 'a' or w[0] == 'E' or` ... . \n",
    "\n",
    "2. Check for membership in a list (or tuple) of vowels, as in: `if w[0] in ['A', 'a', 'E', 'e', 'I', 'i', 'O', 'o', 'U', 'u']:`\n",
    "\n",
    "2. Check for membership of the letter in a string which includes all vowels, but no other character, as in: `if w[0] in \"AEIOUaeiou:\"`\n",
    "\n",
    "\n",
    "Note that Python is CaSE-seNsITivE!"
   ]
  },
  {
   "cell_type": "code",
   "execution_count": null,
   "metadata": {},
   "outputs": [],
   "source": []
  },
  {
   "attachments": {},
   "cell_type": "markdown",
   "metadata": {},
   "source": [
    "<div class=\"alert alert-warning\">In Python, the body of a block or declaration is delimited by its <b>indentation</b>. Thus, in contrast to some programming languages, <i>spaces are an integral part of the syntax</i>. Although any number of spaces can be used for indentation, the most common choices are either <i>two</i> or <i>four</i> spaces. Inconsistent identation may lead to an <code>IndentationError</code>.</div>"
   ]
  },
  {
   "attachments": {},
   "cell_type": "markdown",
   "metadata": {},
   "source": [
    "**Example (inconsistent indentation):**"
   ]
  },
  {
   "cell_type": "code",
   "execution_count": 8,
   "metadata": {},
   "outputs": [
    {
     "ename": "IndentationError",
     "evalue": "unindent does not match any outer indentation level (<string>, line 7)",
     "output_type": "error",
     "traceback": [
      "\u001b[0;36m  File \u001b[0;32m<string>:7\u001b[0;36m\u001b[0m\n\u001b[0;31m    print(\"Inconsistent indentation raises an indentation error.\")\u001b[0m\n\u001b[0m                                                                   ^\u001b[0m\n\u001b[0;31mIndentationError\u001b[0m\u001b[0;31m:\u001b[0m unindent does not match any outer indentation level\n"
     ]
    }
   ],
   "source": [
    "a = 2\n",
    "b = 3\n",
    "c = 4\n",
    "\n",
    "if (a - b) - c != a - (b - c):\n",
    "    print(\"Subtraction is not associative!\")\n",
    "  print(\"Inconsistent indentation raises an indentation error.\") "
   ]
  },
  {
   "attachments": {},
   "cell_type": "markdown",
   "metadata": {},
   "source": [
    "Note the use of the colon `:` after the conditional test.\n",
    "\n",
    "<div class=\"alert alert-warning\">The colon <code>:</code> must be used whenever one needs to <i>declare the beginning of an indented block</i>, such as after <code>if</code>, <code>else</code>, <code>for</code> or <code>while</code> statements.</div>\n",
    "\n",
    "This use of the symbol `:` has nothing to do with the slicing operator discussed in the previous notebook.\n",
    "\n",
    "\n",
    "__Nested__ if-statements are allowed (and common), that is, one may have an\n",
    "if-block inside an if-block inside another if-block and so on."
   ]
  },
  {
   "attachments": {},
   "cell_type": "markdown",
   "metadata": {},
   "source": [
    "__Exercise:__ Write a script that prompts a user for two real numbers $ x $\n",
    "and $ y $ and returns their product only when both $ x $ and $ y $ are\n",
    "positive. Do this in the following two different ways:\n",
    "\n",
    "(a) Using a single conditional test involving `and`.\n",
    "\n",
    "(b) Using two nested if-blocks."
   ]
  },
  {
   "cell_type": "code",
   "execution_count": null,
   "metadata": {},
   "outputs": [],
   "source": []
  },
  {
   "attachments": {},
   "cell_type": "markdown",
   "metadata": {},
   "source": [
    "### $ 2.2 $ `if`-`else` constructs\n",
    "\n",
    "To perform an alternative action in case a conditional test fails, one can\n",
    "include an __else-block__ after the if-block.\n",
    "\n",
    "__Example (`if`-`else` construct):__"
   ]
  },
  {
   "cell_type": "code",
   "execution_count": 10,
   "metadata": {},
   "outputs": [
    {
     "name": "stdout",
     "output_type": "stream",
     "text": [
      "Hi Test McTester, your name has an odd number of letters.\n"
     ]
    }
   ],
   "source": [
    "name = input(\"Please type you name: \")\n",
    "\n",
    "if len(name) % 2 == 0:    # The number of letters is even\n",
    "    print(f\"Hi {name}, your name has an even number of letters.\")              \n",
    "else:                     # The number of letters is odd\n",
    "    print(f\"Hi {name}, your name has an odd number of letters.\")              "
   ]
  },
  {
   "attachments": {},
   "cell_type": "markdown",
   "metadata": {},
   "source": [
    "More formally, in an `if-else` construct we again have a conditional test which\n",
    "controls the subsequent behavior of the interpreter:\n",
    "* If the conditional test yields `True`, then the if-block defined\n",
    "  by the next level of indentation relative to the if-statement is executed,\n",
    "  and the corresponding else-block is ignored.\n",
    "* Otherwise, the if-block is ignored and only the else-block is executed.\n",
    "\n",
    "It is not necessary to include an else-statement for every if-statement."
   ]
  },
  {
   "attachments": {},
   "cell_type": "markdown",
   "metadata": {},
   "source": [
    "__Exercise (a betting game):__ The function `randint` with arguments $ 0 $ and $ 2 $\n",
    "given in the code cell below chooses one of the two numbers $ 0 $ and $ 1 $ in\n",
    "a (pseudo-)random way.  Using this function, write a program that prompts the\n",
    "user to input either $ 0 $ or $ 1 $ and displays a win/loss message according to\n",
    "whether the guess matches the computer's choice."
   ]
  },
  {
   "cell_type": "code",
   "execution_count": 9,
   "metadata": {},
   "outputs": [
    {
     "data": {
      "text/plain": [
       "1"
      ]
     },
     "execution_count": 9,
     "metadata": {},
     "output_type": "execute_result"
    }
   ],
   "source": [
    "from numpy.random import randint\n",
    "randint(0, 2)"
   ]
  },
  {
   "attachments": {},
   "cell_type": "markdown",
   "metadata": {},
   "source": [
    "### $ 2.3 $ `if`-`elif` constructs"
   ]
  },
  {
   "attachments": {},
   "cell_type": "markdown",
   "metadata": {},
   "source": [
    "Finally, we can branch our code in more than two ways based on some prescribed conditions\n",
    "using an __`if`-`elif`__ __construct__.\n",
    "\n",
    "📝 \"__elif__\" is an abbreviation of \"else if\".\n",
    "\n",
    "__Example (`if`-`elif` constructs):__ In a _leap year_ February has $ 29 $ days;\n",
    "in a non-leap year, it has $ 28 $ days. To determine whether a year $ n $ in the\n",
    "Gregorian calendar (the usual calendar in Western countries) is a leap year,\n",
    "we use the following set of rules:\n",
    "* If $ n $ is divisible by $ 4 $, then it is a leap year.\n",
    "* However, when $ n $ is also divisible by $ 100 $, it is not a leap year.\n",
    "* Despite the preceding rule, whenever $ n $ is divisible by $ 400 $, it _is_ a leap year.\n",
    "\n",
    "We encode this as a script that asks the user for an input year and decides whether it is\n",
    "a leap year using `if`, `elif` and `else`:"
   ]
  },
  {
   "cell_type": "code",
   "execution_count": 4,
   "metadata": {},
   "outputs": [
    {
     "name": "stdout",
     "output_type": "stream",
     "text": [
      "The year 1999 isn't a leap year.\n"
     ]
    }
   ],
   "source": [
    "n = int(input(\"Type in a year and I'll check whether it is a leap year: \"))\n",
    "\n",
    "if n % 400 == 0:\n",
    "    print(f\"The year {n} is a leap year.\")\n",
    "elif n % 100 == 0:\n",
    "    print(f\"The year {n} isn't a leap year.\")\n",
    "elif n % 4 == 0:\n",
    "    print(f\"The year {n} is a leap year.\")\n",
    "else:\n",
    "    print(f\"The year {n} isn't a leap year.\")"
   ]
  },
  {
   "cell_type": "markdown",
   "metadata": {},
   "source": [
    "__Exercise:__ Decide whether the following are leap years, then check your\n",
    "answer using the preceding script.\n",
    "\n",
    "(a) $ 2026 $;\n",
    "\n",
    "(b) $ 2024 $;\n",
    "\n",
    "(c) $ 2000 $;\n",
    "\n",
    "(d) $ 2100 $."
   ]
  },
  {
   "cell_type": "code",
   "execution_count": null,
   "metadata": {},
   "outputs": [],
   "source": []
  },
  {
   "attachments": {},
   "cell_type": "markdown",
   "metadata": {},
   "source": [
    "<div class=\"alert alert-warning\">In an <b>if-elif</b> construct, the interpreter\n",
    "checks each conditional statement in order. As soon as one of these\n",
    "evaluates to <code>True</code>, the corresponding block of code is executed\n",
    "<i>and the remaining tests/blocks are skipped</i>. This is important because\n",
    "there may be more than one conditional expression which is <code>True</code>. If\n",
    "this occurs, then only the block corresponding to the first such\n",
    "expression will be executed.</div>\n"
   ]
  },
  {
   "cell_type": "markdown",
   "metadata": {},
   "source": [
    "__Exercise:__\n",
    "\n",
    "(a) What would happen in the leap year script if we replaced each `elif` by an `if`? \n",
    "\n",
    "(b) Modify the program so that it prints a different message depending on\n",
    "whether the year provided by the user precedes or comes after the current year.\n",
    "For example, if `n = 2020`, the message should be that it _was_ a leap year."
   ]
  },
  {
   "cell_type": "code",
   "execution_count": null,
   "metadata": {},
   "outputs": [],
   "source": []
  },
  {
   "cell_type": "markdown",
   "metadata": {},
   "source": [
    "__Exercise:__ Write a script that asks for the lengths of the sides of a triangle\n",
    "and displays a message according to whether the triangle is equilateral,\n",
    "isosceles or scalene (only one message should be displayed in any case)."
   ]
  },
  {
   "cell_type": "code",
   "execution_count": null,
   "metadata": {},
   "outputs": [],
   "source": []
  },
  {
   "attachments": {},
   "cell_type": "markdown",
   "metadata": {},
   "source": [
    "An `if-elif` construct may contain as many elif-statements as one wants.\n",
    "Moreover, just as for a single if-statement in an `if-elif` construct, the final\n",
    "else-block is optional."
   ]
  },
  {
   "attachments": {},
   "cell_type": "markdown",
   "metadata": {},
   "source": [
    "### $ 2.4 $ Checking whether an object is an element of another one using `in`\n",
    "\n",
    "A conditional test need not be based on a comparison. We can also check whether\n",
    "some object is an element of another sequential object (such as `str`, `list` or\n",
    "`tuple`) using the keyword `in`.\n",
    "\n",
    "\n",
    "__Example (checking membership in a list):__"
   ]
  },
  {
   "cell_type": "code",
   "execution_count": 17,
   "metadata": {},
   "outputs": [
    {
     "name": "stdout",
     "output_type": "stream",
     "text": [
      "Gandalf is not one of our clients.\n"
     ]
    }
   ],
   "source": [
    "# Checking whether something (in this case a string) is an element of a list:\n",
    "clients = [\"Alice\",\n",
    "           \"Bob\",\n",
    "           \"Charlotte\",\n",
    "           \"Donald\",\n",
    "           \"Edward\",\n",
    "           \"Frodo\"]\n",
    "\n",
    "name = \"Gandalf\"\n",
    "if name in clients:\n",
    "    print(f\"{name} is currently one of our clients.\")\n",
    "else:\n",
    "    print(f\"{name} is not one of our clients.\")"
   ]
  },
  {
   "attachments": {},
   "cell_type": "markdown",
   "metadata": {},
   "source": [
    "__Exercise (checking membership in a tuple):__ Given the sample of ages stored\n",
    "in a tuple in the code cell below, use `in` to write a script that checks\n",
    "whether there is a person aged $ 50 $ in the sample and displays a corresponding\n",
    "message."
   ]
  },
  {
   "cell_type": "code",
   "execution_count": 7,
   "metadata": {},
   "outputs": [],
   "source": [
    "ages = (28, 34, 32, 40, 23, 45, 18, 25, 67, 30,\n",
    "        31, 22, 35, 45, 29, 50, 62, 38, 33, 47,\n",
    "        26, 54, 19, 27, 5, 65, 73, 39, 44, 55,\n",
    "        20, 36, 40, 60, 58, 29, 51, 42, 17, 24,\n",
    "        61, 37, 52, 48, 32, 25, 41, 63, 71, 22,\n",
    "        46, 56, 30, 49, 53, 26, 43, 59, 102, 8)"
   ]
  },
  {
   "attachments": {},
   "cell_type": "markdown",
   "metadata": {},
   "source": [
    "__Example (checking for substrings):__"
   ]
  },
  {
   "cell_type": "code",
   "execution_count": 8,
   "metadata": {},
   "outputs": [
    {
     "name": "stdout",
     "output_type": "stream",
     "text": [
      "The text \"powerful ancient magic spells\" does not contain the letter 'b'.\n",
      "The text \"powerful ancient magic spells\" contains the substring 'magic'.\n"
     ]
    }
   ],
   "source": [
    "# Checking whether a string (incl. a character) is a substring of another one:\n",
    "text = \"powerful ancient magic spells\"\n",
    "\n",
    "if \"b\" in text:\n",
    "    print(f\"The text \\\"{text}\\\" contains the letter 'b'.\")\n",
    "else:\n",
    "    print(f\"The text \\\"{text}\\\" does not contain the letter 'b'.\")\n",
    "    \n",
    "if \"magic\" in text:\n",
    "    print(f\"The text \\\"{text}\\\" contains the substring 'magic'.\")\n",
    "else:\n",
    "    print(f\"The text \\\"{text}\\\" does not contain the substring 'magic'.\")"
   ]
  },
  {
   "attachments": {},
   "cell_type": "markdown",
   "metadata": {},
   "source": [
    "## $ \\S 3 $ The `range` function\n",
    "\n",
    "Suppose that we would like to construct the sequence of all integers from $ 0 $\n",
    "to $ 20 $. Instead of typing all of them one by one, we can instead use the\n",
    "`range` function, which has the syntax `range(<start>, <stop>, <step size>)`.\n",
    "\n",
    "⚠️ All three arguments of `range` must be integers. Moreover, the starting index\n",
    "is _inclusive_, while the stopping index is _exclusive_, i.e., _the range goes up\n",
    "to but does not include the end index_. \n",
    "\n",
    "If the third argument is omitted, then the step size (also called the _stride_)\n",
    "is set to $ 1 $ by default. Thus in our case, to generate the integers from $ 0 $\n",
    "to $ 20 $ (including $ 20 $), we would let:"
   ]
  },
  {
   "cell_type": "code",
   "execution_count": 1,
   "metadata": {},
   "outputs": [
    {
     "name": "stdout",
     "output_type": "stream",
     "text": [
      "range(0, 21) <class 'range'>\n"
     ]
    }
   ],
   "source": [
    "numbers = range(0, 21)         # Generate integers n satisfying 0 <= n < 21.\n",
    "print(numbers, type(numbers))"
   ]
  },
  {
   "attachments": {},
   "cell_type": "markdown",
   "metadata": {},
   "source": [
    "As we can see, `range` does not generate a list nor a tuple; rather, it produces\n",
    "an object of type `range`. However, we can easily convert it to the desired type\n",
    "using `list` or `tuple` afterwards:"
   ]
  },
  {
   "cell_type": "code",
   "execution_count": 2,
   "metadata": {},
   "outputs": [
    {
     "name": "stdout",
     "output_type": "stream",
     "text": [
      "[0, 1, 2, 3, 4, 5, 6, 7, 8, 9, 10, 11, 12, 13, 14, 15, 16, 17, 18, 19, 20] <class 'list'>\n",
      "(0, 1, 2, 3, 4, 5, 6, 7, 8, 9, 10, 11, 12, 13, 14, 15, 16, 17, 18, 19, 20) <class 'tuple'>\n"
     ]
    }
   ],
   "source": [
    "numbers = list(numbers)\n",
    "print(numbers, type(numbers))\n",
    "\n",
    "numbers = tuple(numbers)\n",
    "print(numbers, type(numbers))"
   ]
  },
  {
   "attachments": {},
   "cell_type": "markdown",
   "metadata": {},
   "source": [
    "__Exercise:__ Determine the output of the following statements:\n",
    "\n",
    "(a) `list(range(1, 10))`\n",
    "\n",
    "(b) `tuple(range(11))`\n",
    "\n",
    "(c) `list(range(0, 11, 2))`\n",
    "\n",
    "(d) `list(range(0, 10, 2))`\n",
    "\n",
    "(e) `tuple(range(0, 11, -1))`\n",
    "\n",
    "(f) `tuple(range(11, 0, -1))`\n",
    "\n",
    "(g) `list(range(10, -3, -2))`\n",
    "\n",
    "(h) `list(range(1.5, 10, 1))`\n"
   ]
  },
  {
   "cell_type": "code",
   "execution_count": null,
   "metadata": {},
   "outputs": [],
   "source": []
  },
  {
   "attachments": {},
   "cell_type": "markdown",
   "metadata": {},
   "source": [
    "📝 If only one argument $ n $ is provided to `range`, then the resulting object\n",
    "consists of all integers from $ 0 $ up to and including $ n - 1 $.\n",
    "\n",
    "__Example:__"
   ]
  },
  {
   "cell_type": "code",
   "execution_count": null,
   "metadata": {},
   "outputs": [
    {
     "name": "stdout",
     "output_type": "stream",
     "text": [
      "[0, 1, 2, 3, 4, 5, 6, 7, 8, 9]\n"
     ]
    }
   ],
   "source": [
    "print(list(range(10)))"
   ]
  },
  {
   "attachments": {},
   "cell_type": "markdown",
   "metadata": {},
   "source": [
    "__Exercise:__ Generate:\n",
    "\n",
    "(a) A tuple consisting of all even integers from $ 0 $ to $ 20 $.\n",
    "\n",
    "(b) A list consisting of all odd integers from $ 3 $ to $ 11 $.\n",
    "\n",
    "(c) A tuple consisting of all integers between $ 1 $ and $ 50 $\n",
    "which are divisible by $ 7 $, listed in descending order."
   ]
  },
  {
   "cell_type": "code",
   "execution_count": null,
   "metadata": {},
   "outputs": [],
   "source": []
  },
  {
   "cell_type": "markdown",
   "metadata": {},
   "source": [
    "## $ \\S 4 $ `match`\n",
    "\n",
    "An alternative way to handle complex branching logic, which is often more\n",
    "convenient than using multiple `if`s and `elif`s, is the `match`\n",
    "statement. Several other languages provide similar constructs (for example,\n",
    "`switch` in C and Java).  The general syntax is sketched in the following\n",
    "example."
   ]
  },
  {
   "cell_type": "markdown",
   "metadata": {},
   "source": [
    "__Example__: Let's use `match` to simulate taking a customer's order in an\n",
    "Italian restaurant."
   ]
  },
  {
   "cell_type": "code",
   "execution_count": 14,
   "metadata": {},
   "outputs": [
    {
     "name": "stdout",
     "output_type": "stream",
     "text": [
      "Freshly made pasta with your favorite sauce. $15.99\n"
     ]
    }
   ],
   "source": [
    "choice = input(\"What would you like to order: pasta, pizza, salad or soup? \")\n",
    "match choice:\n",
    "    case \"Pasta\" | \"pasta\":     # '|' (read: 'or') is used to match one of several patterns\n",
    "        print(\"Freshly made pasta with your favorite sauce. $15.99\")\n",
    "    case \"Pizza\" | \"pizza\":\n",
    "        print(\"Stone-baked pizza with a variety of toppings. $12.99\")\n",
    "    case \"Salad\" | \"salad\":\n",
    "        print(\"Garden-fresh salad with a selection of dressings. $9.99\")\n",
    "    case \"Soup\" | \"soup\":\n",
    "        print(\"A bowl of our homemade seasonal soup. $7.99\")\n",
    "    case _:                     # default case: matches any pattern\n",
    "        print(\"Sorry, we don't offer this item. $0.00\")"
   ]
  },
  {
   "cell_type": "markdown",
   "metadata": {},
   "source": [
    "__Exercise:__ Write a script that takes an integer representing a\n",
    "day of the week from the user and prints the corresponding name for that day,\n",
    "according to the following rules:\n",
    "\n",
    "* If the number is 1, print `\"Monday\"`.\n",
    "* If the number is 2, print `\"Tuesday\"`.\n",
    "* If the number is 3, print `\"Wednesday\"`.\n",
    "* If the number is 4, print `\"Thursday\"`.\n",
    "* If the number is 5, print `\"Friday\"`.\n",
    "* If the number is 6, print `\"Saturday\"`.\n",
    "* If the number is 7, print `\"Sunday\"`.\n",
    "* For any other case, print `\"Invalid Day\"`."
   ]
  },
  {
   "cell_type": "code",
   "execution_count": null,
   "metadata": {},
   "outputs": [],
   "source": []
  },
  {
   "cell_type": "markdown",
   "metadata": {},
   "source": [
    "⚠️ Once a pattern is matched, only the corresponding code block for that pattern\n",
    "is executed, and then the execution of the match statement is complete. (This\n",
    "behavior is different from that of C's `switch`, whose execution falls through\n",
    "to subsequent patterns.)"
   ]
  },
  {
   "attachments": {},
   "cell_type": "markdown",
   "metadata": {},
   "source": [
    "## $ \\S 5 $ List comprehensions\n",
    "\n",
    "__Example:__ Suppose that we would like to generate a list of the _squares_ of\n",
    "all integers between $ 1 $ and $ 20 $ which are either multiples of $ 2 $ or\n",
    "multiples of $ 3 $ (or both). We can solve this problem as follows:"
   ]
  },
  {
   "cell_type": "code",
   "execution_count": 3,
   "metadata": {},
   "outputs": [
    {
     "name": "stdout",
     "output_type": "stream",
     "text": [
      "[0, 4, 9, 16, 36, 64, 81, 100, 144, 196, 225, 256, 324, 400] <class 'list'>\n"
     ]
    }
   ],
   "source": [
    "squares = [n**2 for n in range(21) if n % 2 == 0 or n % 3 == 0]\n",
    "print(squares, type(squares))"
   ]
  },
  {
   "attachments": {},
   "cell_type": "markdown",
   "metadata": {},
   "source": [
    "This construction is called a __list comprehension__. It is analogous\n",
    "to the notation\n",
    "$$\n",
    "\\left\\{f(x) : x \\in S\\,,\\ \\  p(x) \\text{ holds}\\right\\}\n",
    "$$\n",
    "used to describe sets in mathematics. For example:\n",
    "$$\n",
    "\\text{odd\\_cubes} = \\{n^3 : 0 \\le n \\le 10,\\  \\text{$ n $ is odd}\\}\n",
    "$$\n",
    "describes the set of cubes of integers between $ 0 $ and $ 10 $.\n",
    "In Python we would construct the corresponding list as follows:"
   ]
  },
  {
   "cell_type": "code",
   "execution_count": 8,
   "metadata": {},
   "outputs": [
    {
     "name": "stdout",
     "output_type": "stream",
     "text": [
      "[1, 27, 125, 343, 729]\n"
     ]
    }
   ],
   "source": [
    "odd_cubes = [n**3 for n in range(0, 11) if n % 2 == 1]\n",
    "\n",
    "print(odd_cubes)"
   ]
  },
  {
   "cell_type": "markdown",
   "metadata": {},
   "source": [
    "If desired, this could then be converted to a set; but note how in this case the\n",
    "order in which the elements are listed becomes arbitrary:"
   ]
  },
  {
   "cell_type": "code",
   "execution_count": 9,
   "metadata": {},
   "outputs": [
    {
     "name": "stdout",
     "output_type": "stream",
     "text": [
      "{1, 343, 729, 27, 125}\n"
     ]
    }
   ],
   "source": [
    "print(set(odd_cubes))"
   ]
  },
  {
   "cell_type": "markdown",
   "metadata": {},
   "source": [
    "The full syntax of a list comprehension is:\n",
    "`[f(x) for x in <iterable> if p(x)]`, where $ f(x) $ is any function of\n",
    "$ x $ and $ p(x) $ is some __predicate__, that is, a function of $ x $ which\n",
    "evaluates to either `True` or `False`. \n",
    "\n",
    "* If we just let $ f(x) = x $, then the list comprehension\n",
    "  `[x for x in <iterable> if p(x)]` is the result of selecting only those\n",
    "  elements of the original iterable that satisfy the predicate $ p $. This\n",
    "  operation is called __filter__.\n",
    "* The predicate is optional; if it is omitted, then the corresponding\n",
    "  list comprehension `[f(x) for x in <iterable>]` is the result of\n",
    "  applying the function $ f $ to each element of the original iterable.\n",
    "  This operation is called __map__.\n",
    "\n",
    "📝 Many programming languages support the map and filter operations in some\n",
    "way."
   ]
  },
  {
   "attachments": {},
   "cell_type": "markdown",
   "metadata": {},
   "source": [
    "__Exercise:__ Using list comprehensions, generate a list consisting of:\n",
    "\n",
    "(a) All square roots of odd integers between $ 1 $ and $ 10 $.\n",
    "\n",
    "(b) All strings in the list `[\"referral\", \"continental\", \"horseshoe\", \"know\",\n",
    "\"terrify\", \"thaw\", \"wolf\", \"medal\", \"vat\", \"stomach\", \"mosaic\", \"manual\"]`\n",
    "whose second letter comes after 'e' in the alphabet.\n",
    "\n",
    "(c) All numbers between $ 1 $ and $ 20 $ which are divisible by $ 3 $, expressed\n",
    "in binary notation (the function `bin` gives the binary representation of its\n",
    "argument, preceded by '0b'; use a slice to remove this part)."
   ]
  },
  {
   "cell_type": "code",
   "execution_count": null,
   "metadata": {},
   "outputs": [],
   "source": []
  },
  {
   "attachments": {},
   "cell_type": "markdown",
   "metadata": {},
   "source": [
    "__Exercise:__ Write a script that asks the user for a positive integer $ n $ and\n",
    "returns `True` or `False` according to whether $ n $ is prime or not. (_Hint:_\n",
    "Use a list comprehension and the `%` operator to obtain the list of divisors of\n",
    "$ n $, then decide if $ n $ is prime based on the length of this list.)"
   ]
  },
  {
   "cell_type": "code",
   "execution_count": null,
   "metadata": {},
   "outputs": [],
   "source": []
  },
  {
   "attachments": {},
   "cell_type": "markdown",
   "metadata": {},
   "source": [
    "📝 It is also possible to use list comprehensions by iterating over two or more iterables.\n",
    "\n",
    "__Example:__ Generate a list of all pairs of integers $ (m, n) $ such that  $ 1 \\le n \\le 6 $ and\n",
    "$ 1 \\le m < n $ and $ m $ divides $ n $."
   ]
  },
  {
   "cell_type": "code",
   "execution_count": 9,
   "metadata": {},
   "outputs": [
    {
     "name": "stdout",
     "output_type": "stream",
     "text": [
      "[(1, 2), (1, 3), (1, 4), (2, 4), (1, 5), (1, 6), (2, 6), (3, 6)]\n"
     ]
    }
   ],
   "source": [
    "answer = [(m, n) for n in range(1, 7) for m in range(1, n) if n % m == 0]\n",
    "print(answer)"
   ]
  },
  {
   "attachments": {},
   "cell_type": "markdown",
   "metadata": {},
   "source": [
    "__Exercise:__ Using a list comprehension, create a list of all pairs $ (x, y) $ such that:\n",
    "* $ x $ and $ y $ are integers, $ 0 \\le x < 5 $ and $ 0 \\le y < x $.\n",
    "* $ x^y > y^x $."
   ]
  },
  {
   "cell_type": "code",
   "execution_count": null,
   "metadata": {},
   "outputs": [],
   "source": []
  }
 ],
 "metadata": {
  "kernelspec": {
   "display_name": "Python 3",
   "language": "python",
   "name": "python3"
  },
  "language_info": {
   "codemirror_mode": {
    "name": "ipython",
    "version": 3
   },
   "file_extension": ".py",
   "mimetype": "text/x-python",
   "name": "python",
   "nbconvert_exporter": "python",
   "pygments_lexer": "ipython3",
   "version": "3.12.3"
  },
  "orig_nbformat": 4
 },
 "nbformat": 4,
 "nbformat_minor": 2
}
