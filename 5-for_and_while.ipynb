{
 "cells": [
  {
   "attachments": {},
   "cell_type": "markdown",
   "id": "c92411c7",
   "metadata": {},
   "source": [
    "# Loops (`for` and `while`)"
   ]
  },
  {
   "attachments": {},
   "cell_type": "markdown",
   "id": "4dba1b66",
   "metadata": {},
   "source": [
    "## $ \\S 1 $ `for` loops\n",
    "\n",
    "One of the most common tasks dealt with in the context of programming is that of\n",
    "automatically performing similar actions multiple times. Constructs which allow\n",
    "the solution to this problem are called __loops__.\n",
    "\n",
    "The iterations in a loop are frequently performed by running through the\n",
    "elements of a list, tuple or string in order. However, any object capable of\n",
    "returning its members one at a time can be used; such an object is said to be\n",
    "__iterable__.\n",
    "\n",
    "For example, one might wish to separately consider each number between $ 1 $ and $ 1\\,000\\,000 $ and test whether it is prime, performing an action (such as appending it to a list of primes) if that is the case. As another example, a bank may need to run daily through its record of clients and to send a warning message to those clients whose balance became negative on the previous day.\n",
    "\n",
    "In order to run through all elements of an iterable type, Python provides the\n",
    "`for` keyword.  Here is the general syntax of a `for` loop:"
   ]
  },
  {
   "cell_type": "code",
   "execution_count": null,
   "id": "7ea270b5",
   "metadata": {},
   "outputs": [],
   "source": [
    "for <variable> in <iterable>:\n",
    "    # code to be executed \n",
    "    # in each iteration\n",
    "    # of the for loop\n",
    "# code to be executed after\n",
    "# the for loop is exited"
   ]
  },
  {
   "cell_type": "markdown",
   "id": "d8c81bce",
   "metadata": {},
   "source": [
    "__Example:__"
   ]
  },
  {
   "cell_type": "code",
   "execution_count": 3,
   "id": "5131e17b",
   "metadata": {
    "scrolled": true
   },
   "outputs": [
    {
     "name": "stdout",
     "output_type": "stream",
     "text": [
      "The letter 'R' appears in the word 'Recursion'.\n",
      "The letter 'e' appears in the word 'Recursion'.\n",
      "The letter 'c' appears in the word 'Recursion'.\n",
      "The letter 'u' appears in the word 'Recursion'.\n",
      "The letter 'r' appears in the word 'Recursion'.\n",
      "The letter 's' appears in the word 'Recursion'.\n",
      "The letter 'i' appears in the word 'Recursion'.\n",
      "The letter 'o' appears in the word 'Recursion'.\n",
      "The letter 'n' appears in the word 'Recursion'.\n",
      "['R', 'e', 'c', 'u', 'r', 's', 'i', 'o', 'n']\n"
     ]
    }
   ],
   "source": [
    "word = \"Recursion\"\n",
    "letters = []\n",
    "\n",
    "for letter in word:\n",
    "    print(f\"The letter '{letter}' appears in the word '{word}'.\")\n",
    "    letters.append(letter)\n",
    "print(letters)"
   ]
  },
  {
   "attachments": {},
   "cell_type": "markdown",
   "id": "df4866fe",
   "metadata": {},
   "source": [
    "More formally:\n",
    "\n",
    "* The line containing the `for` keyword specifies the name of the variable\n",
    "  ('letter', in the preceding example) that will store each element of the\n",
    "  iterable ('word') in turn.  In particular, note how the value of this variable\n",
    "  changes depending on the step of the iteration.\n",
    "* A colon `:` terminates the top line.\n",
    "* The __for-block__ begins at the first indented line following the colon\n",
    "and ends at (but does not include) the first line whose indentation level is the\n",
    "same as that of the for-statement. Each line in the for-block is executed exactly\n",
    "once for each iteration."
   ]
  },
  {
   "cell_type": "markdown",
   "id": "97986dcf",
   "metadata": {},
   "source": [
    "**Example (a `for` loop with a nested `if` statement):**"
   ]
  },
  {
   "cell_type": "code",
   "execution_count": 4,
   "id": "17ba10e0",
   "metadata": {},
   "outputs": [
    {
     "name": "stdout",
     "output_type": "stream",
     "text": [
      "Warning, Bob. Your balance is negative:$ -23.29\n",
      "Warning, Donald. Your balance is negative:$ -19729375.49\n",
      "\n",
      "Clients currently in debt:\n",
      "[('Bob', -23.29), ('Donald', -19729375.49)]\n"
     ]
    }
   ],
   "source": [
    "# The following is a list of tuples. Each tuple provides a simplified\n",
    "# representation of a client's data and consists of her/his name\n",
    "# and current balance.\n",
    "\n",
    "list_of_clients = [('Alice', 103.45),\n",
    "                   ('Bob', -23.29),\n",
    "                   ('Charlotte', 681.00),\n",
    "                   ('Donald', -19729375.49),\n",
    "                   ('Edward', 0.00),\n",
    "                   ('Frodo', 4846.10)]\n",
    "clients_in_debt = []     # This list will store the records of clients in debt.\n",
    "\n",
    "for record in list_of_clients:\n",
    "    # The first (not 0th!) item of the current record is assigned to balance.\n",
    "    balance = record[1]  \n",
    "    if balance < 0:\n",
    "        print(f\"Warning, {record[0]}. Your balance is negative:\"\n",
    "              f\"$ -{abs(balance)}\")\n",
    "        clients_in_debt.append(record)\n",
    "   \n",
    "print(\"\\nClients currently in debt:\")\n",
    "print(clients_in_debt)"
   ]
  },
  {
   "attachments": {},
   "cell_type": "markdown",
   "id": "db5d0b00",
   "metadata": {},
   "source": [
    "__Exercise:__ Write a script that prompts the user for some text and prints the\n",
    "total number of vowels in the text. _Hint:_ Use a `for` loop to iterate over the\n",
    "text and a variable that stores the number of vowels seen so far."
   ]
  },
  {
   "cell_type": "code",
   "execution_count": null,
   "id": "345a231d",
   "metadata": {},
   "outputs": [],
   "source": []
  },
  {
   "attachments": {},
   "cell_type": "markdown",
   "id": "49873bbe",
   "metadata": {},
   "source": [
    "__Exercise:__ Given the list of numbers in the code cell below, write a script that\n",
    "returns a new list containing only those numbers in it that are divisible by $ 3 $\n",
    "or $ 5 $.\n",
    "\n",
    "(a) Using a list comprehension.\n",
    "\n",
    "(b) Using a `for` loop. _Hint:_ Create a list to store the numbers which have\n",
    "this property and then `append` each such element to this list as it is\n",
    "encountered."
   ]
  },
  {
   "cell_type": "code",
   "execution_count": null,
   "id": "6a003911",
   "metadata": {},
   "outputs": [],
   "source": [
    "ns = [-28, 17, 1, 0, -17, -5, 0, -6, 15, 28, 22, 24, 5, -6, 22, 14, 9, 2, -5]"
   ]
  },
  {
   "attachments": {},
   "cell_type": "markdown",
   "id": "617f5c4b",
   "metadata": {},
   "source": [
    "__Exercise:__ Determine every square number between $ 1 $ and $ 10\\,000 $ that is\n",
    "divisible by $ 7 $ but not by $ 3 $.\n",
    "\n",
    "(a) Using a list comprehension.\n",
    "\n",
    "(b) Using a `for` loop."
   ]
  },
  {
   "cell_type": "code",
   "execution_count": null,
   "id": "5ce0488b",
   "metadata": {},
   "outputs": [],
   "source": []
  },
  {
   "attachments": {},
   "cell_type": "markdown",
   "id": "99443f03",
   "metadata": {},
   "source": [
    "__Exercise:__ For each number $ n $ between $ 10 $ and $ 20 $, print all the\n",
    "positive divisors of $ n $. Each line should consist of all of the divisors\n",
    "of a single value of $ n $. _Hint:_ Use two nested `for` loops."
   ]
  },
  {
   "cell_type": "code",
   "execution_count": null,
   "id": "029e6dd3",
   "metadata": {},
   "outputs": [],
   "source": []
  },
  {
   "attachments": {},
   "cell_type": "markdown",
   "id": "7e4db729",
   "metadata": {},
   "source": [
    "## $ \\S 2 $ Using `for` with `range`\n",
    "\n",
    "`for` loops frequently involve iterating over a collection of numbers produced\n",
    "using the `range` function discussed in the previous notebook.  Recall that \n",
    "`range(i, j, step)` yields an iterable object consisting of the integers from $\n",
    "i $ (_inclusive_) to $ j $ (_exclusive_) proceeding through steps of size\n",
    "_step_.\n",
    "\n",
    "__Example:__"
   ]
  },
  {
   "cell_type": "code",
   "execution_count": 46,
   "id": "6a55ce68",
   "metadata": {
    "scrolled": true
   },
   "outputs": [
    {
     "name": "stdout",
     "output_type": "stream",
     "text": [
      "0\n",
      "3\n",
      "6\n",
      "9\n"
     ]
    }
   ],
   "source": [
    "for n in range(0, 12, 3):\n",
    "    print(n)"
   ]
  },
  {
   "attachments": {},
   "cell_type": "markdown",
   "id": "5ad50f9f",
   "metadata": {},
   "source": [
    "📝 In the notation above, only the index $ j $ is a required argument; the other two ($ i $ and _step_) are optional:\n",
    "* The default value of the starting number is $ 0 $.\n",
    "* The default value of the step size is $ 1 $.\n",
    "\n",
    "__Exercise:__ Write a script that prompts the user of a positive integer $ n $\n",
    "and, if $ n $ really is positive, returns the factorial\n",
    "$$\n",
    "n! = n \\times (n - 1) \\times \\cdots \\times 2 \\times 1\\,. $$"
   ]
  },
  {
   "cell_type": "code",
   "execution_count": null,
   "id": "6e6db34a",
   "metadata": {},
   "outputs": [],
   "source": []
  },
  {
   "attachments": {},
   "cell_type": "markdown",
   "id": "a6c70120",
   "metadata": {},
   "source": [
    "## $ \\S 3 $ `break` and `continue`\n",
    "\n",
    "### $ 3.1 $ `break`\n",
    "\n",
    "A `for` loop will iterate over its block of code exactly once for every element\n",
    "of the corresponding iterable. However, it is sometimes desirable to skip the\n",
    "rest of a loop, i.e., to terminate it prematurely. This can be achieved with the\n",
    "`break` command.\n",
    "\n",
    "__Example:__ Find the $ 100 $-th positive integer which is divisible by either 3, 5 or 7."
   ]
  },
  {
   "cell_type": "code",
   "execution_count": 16,
   "id": "5be72360",
   "metadata": {},
   "outputs": [
    {
     "name": "stdout",
     "output_type": "stream",
     "text": [
      "183\n"
     ]
    }
   ],
   "source": [
    "solution_count = 0\n",
    "\n",
    "# We need only check as long as the 100th solution has not been found.\n",
    "for n in range(500):\n",
    "    if n % 3 == 0 or n % 5 == 0 or n % 7 == 0:\n",
    "        solution_count += 1\n",
    "        if solution_count == 100:\n",
    "            print(n)\n",
    "            # The 100th solution has been found, so we can terminate the loop:\n",
    "            break"
   ]
  },
  {
   "attachments": {},
   "cell_type": "markdown",
   "id": "c715278c",
   "metadata": {},
   "source": [
    "📝 Note how in the previous example we have an if-block inside another\n",
    "if-block inside a for-block. This kind of multiple nesting arises quite\n",
    "frequently. Python allows as much nesting as necessary."
   ]
  },
  {
   "attachments": {},
   "cell_type": "markdown",
   "id": "4b900086",
   "metadata": {},
   "source": [
    "⚠️ It is recommended that `break` statements be used only sparingly (if at all).\n",
    "Because they abruptly change the control flow of the program, in general they\n",
    "make the code harder to understand."
   ]
  },
  {
   "attachments": {},
   "cell_type": "markdown",
   "id": "99cd03aa",
   "metadata": {},
   "source": [
    "__Exercise:__ Suppose that we list all rational numbers of the form\n",
    "$ \\frac{n}{d} $ where $ 1 \\le n < d $ in order of increasing $ n $,\n",
    "for each $ d = 2,\\,3,\\, 4,\\, \\dots $ in sequence: $ \\frac{1}{2} $,\n",
    "$ \\frac{1}{3} $, $\\frac{2}{3} $, $ \\frac{1}{4} $, $ \\frac{2}{4} $, $ \\frac{3}{4} $,\n",
    "$ \\dots $.  Find the sum of the first $ 100 $ such fractions. Repetitions such\n",
    "as $ 1 / 2 = 2 / 4 $ should be included in the sum. _Hint:_ Use two nested `for`\n",
    "loops, the outermost iterating over the denominators $ d $ and the innermost\n",
    "iterating over the numerators $ n $. Use a counter to store the number of\n",
    "fractions seen so far. Use a flag variable to break out of the two `for` loops\n",
    "simultaneously."
   ]
  },
  {
   "cell_type": "code",
   "execution_count": null,
   "id": "f8cabab4",
   "metadata": {},
   "outputs": [],
   "source": []
  },
  {
   "attachments": {},
   "cell_type": "markdown",
   "id": "fd4bb4a8",
   "metadata": {},
   "source": [
    "### $ 3.2 $ `continue`\n",
    "\n",
    "Instead of terminating the loop prematurely, we can also skip the rest of the\n",
    "code in the loop block _only for the current_ iteration using `continue`.\n",
    "\n",
    "__Example:__ We can use a `for` loop together with `continue` to count the number of\n",
    "consonants of a piece of text."
   ]
  },
  {
   "cell_type": "code",
   "execution_count": 1,
   "id": "c5b60aed",
   "metadata": {},
   "outputs": [
    {
     "name": "stdout",
     "output_type": "stream",
     "text": [
      "25\n"
     ]
    }
   ],
   "source": [
    "consonant_count = 0\n",
    "# We will test instead if the letters in the text are _not_\n",
    "# vowels. Assume that the text conists only of letters and spaces.\n",
    "vowels = \"AEIOUaeiou \"\n",
    "# Note the space at the end of the string.\n",
    "\n",
    "for letter in \"this string consists of some random words\":\n",
    "    if letter in vowels:\n",
    "        continue\n",
    "    consonant_count += 1\n",
    "        \n",
    "print(consonant_count)"
   ]
  },
  {
   "attachments": {},
   "cell_type": "markdown",
   "id": "a65ae875",
   "metadata": {},
   "source": [
    "__Exercise:__ Rewrite the preceding script so that `continue` is not used."
   ]
  },
  {
   "cell_type": "code",
   "execution_count": null,
   "id": "edcce514",
   "metadata": {},
   "outputs": [],
   "source": []
  },
  {
   "attachments": {},
   "cell_type": "markdown",
   "id": "60f08cea",
   "metadata": {},
   "source": [
    "📝 It is always possible to avoid using `continue`, and usually this can be\n",
    "achieved through a simple modification of the code. Its greatest usefulness is\n",
    "to improve legibility in the following situation: Suppose that within a `for`\n",
    "loop, we want to check several conditions and execute a block of code only when\n",
    "none of them holds. Then we can test each condition separately, and use\n",
    "`continue` whenever one of them passes instead of having multiple\n",
    "nested if-blocks. In this situation, `continue` would also yield faster\n",
    "performance.\n",
    "\n",
    "__Example__: Find all numbers between $ 100 $ and $ 999 $ which are even,\n",
    "palindromic and whose midddle digit is greater than $ 7 $. (A string is\n",
    "_palindromic_ if it is the same when read backwards.)"
   ]
  },
  {
   "cell_type": "code",
   "execution_count": 14,
   "id": "78bfb0ed",
   "metadata": {},
   "outputs": [
    {
     "name": "stdout",
     "output_type": "stream",
     "text": [
      "[282, 292, 484, 494, 686, 696, 888, 898]\n"
     ]
    }
   ],
   "source": [
    "# Store the lower and upper bounds of the range in two variables.\n",
    "# The underscore in the value of b improves legibility,\n",
    "# but is ignored by the interpreter:\n",
    "a = 100\n",
    "b = 1_000\n",
    "\n",
    "solutions = []\n",
    "for n in range(a, b):         # For each number between 100 and 999 (not 1000!):\n",
    "    if n % 2 != 0:\n",
    "        continue\n",
    "    str_n = str(n)            # Convert n into a string.\n",
    "    if str_n != str_n[::-1]:  # Check whether str_n is palindromic.\n",
    "        continue\n",
    "    if int(str_n[1]) <= 7:    # Check whether the middle digit is > 7.\n",
    "        continue\n",
    "    solutions.append(n)       # If this point has been reached, n is a solution.\n",
    "    \n",
    "print(solutions)"
   ]
  },
  {
   "attachments": {},
   "cell_type": "markdown",
   "id": "c74ba36d",
   "metadata": {},
   "source": [
    "__Exercise:__ In a preceding exercise you were asked to compute the sum of the\n",
    "first $ 100 $ rational numbers of the form $ \\frac{n}{d} $ with $ 1 \\le n < d $,\n",
    "where these fractions are listed in order of increasing $ d \\ge 2 $ and, for\n",
    "each such $ d $, in order of increasing $ n $. Solve the same problem but\n",
    "_without_ allowing for repetitions, e.g., since $ \\frac{2}{4} = \\frac{1}{2} $,\n",
    "$ \\frac{2}{4} $ should _not_ be included in the sum.\n",
    "_Hint:_ Beginning with an empty list, store the values of the fractions\n",
    "$ \\frac{n}{d} $ seen so far. If the current value has already been\n",
    "seen, skip it using `continue`."
   ]
  },
  {
   "cell_type": "code",
   "execution_count": null,
   "id": "93da9281",
   "metadata": {},
   "outputs": [],
   "source": []
  },
  {
   "attachments": {},
   "cell_type": "markdown",
   "id": "b798b5de",
   "metadata": {},
   "source": [
    "__Exercise:__ A Fibonacci number is a term of the sequence\n",
    "$$\n",
    "0,\\, 1,\\, 1,\\, 2,\\, 3,\\, 5,\\, 8,\\, 13,\\, 21,\\, 34,\\, 55,\\, 89,\\, 144,\\, 233,\\, \\cdots\\,,\n",
    "$$\n",
    "that is, the sequence $ (x_n) $ such that $ x_0 = 0 $, $ x_1 = 1 $ and\n",
    "$ x_{n + 1} = x_n + x_{n - 1} $ for all $ n \\ge 2 $.  Using `for`, compute:\n",
    "\n",
    "(a) The value of $ x_{30} $.\n",
    "\n",
    "(b) The last three digits of $ x_{5000} $.\n",
    "_Hint:_ Since only the last three digits matter, you can compute the remainders of $\n",
    "x_n $ modulo $ 1000 $ instead of $ x_n $ itself."
   ]
  },
  {
   "cell_type": "code",
   "execution_count": null,
   "id": "d398d278",
   "metadata": {},
   "outputs": [],
   "source": []
  },
  {
   "attachments": {},
   "cell_type": "markdown",
   "id": "9377e944",
   "metadata": {},
   "source": [
    "## $ \\S 4 $ `while` loops\n",
    "\n",
    "A `for` loop takes an iterable object (such as a list, a tuple or a string) and\n",
    "executes a block of code once for each element of this object. A `while` loop,\n",
    "in contrast, repeatedly executes a block of code as long as a given conditional\n",
    "expression is `True`. The syntax is as follows:"
   ]
  },
  {
   "cell_type": "code",
   "execution_count": null,
   "id": "9002dc3d",
   "metadata": {},
   "outputs": [],
   "source": [
    "while <boolean expression>:\n",
    "    # code to be executed\n",
    "    # in each iteration\n",
    "# code to be executed\n",
    "# after the while loop."
   ]
  },
  {
   "attachments": {},
   "cell_type": "markdown",
   "id": "f3b95940",
   "metadata": {},
   "source": [
    "Here `<boolean expression>` consists of any expression that evaluates to\n",
    "either `True` or `False`. Note the mandatory colon `:` at the end of the\n",
    "top line, which indicates the beginning of the while-block. So long as this\n",
    "boolean expression evaluates to `True`, the statements inside the while-block\n",
    "are run through the interpreter. After each iteration, the boolean expression is\n",
    "reevaluated. As soon as the conditional test evaluates to `False`, the\n",
    "while-block is skipped and execution continues at the next line which has the\n",
    "same level of indentation as the while-statement. "
   ]
  },
  {
   "attachments": {},
   "cell_type": "markdown",
   "id": "5138d005",
   "metadata": {},
   "source": [
    "__Example:__ You are given that the series\n",
    "$$ 4 \\bigg(1 - \\frac{1}{3} + \\frac{1}{5} - \\frac{1}{7} + \\frac{1}{9} - \\frac{1}{11} + \\dots \\bigg)$$\n",
    "converges to a certain real number $ L $. Find the value of $ L $ within an\n",
    "accuracy of $ \\varepsilon = 10^{-5} $.\n",
    "\n",
    "__Solution:__ Recall that in this context $ L $ is the limit of the _partial\n",
    "sums_ $ s_n $ of the series:\n",
    "$$\n",
    "    L = \\lim_{n \\to \\infty} s_n = \\lim_{n \\to \\infty} \\sum_{k=1}^n a_k\\quad\n",
    "    \\text{where} \\quad a_k = (-1)^{k - 1}\\frac{4}{2k - 1}\\,.\n",
    "$$\n",
    "\n",
    "Thus the strategy is to compute $ s_n $ for successive values of $ n $ until $\n",
    "\\vert{s_{n} - s_{n - 1}\\vert} $ becomes $ < \\varepsilon $. (This doesn't\n",
    "guarantee that we really are within $ \\varepsilon $ of the limit $ L $, but we\n",
    "will ignore this here.)"
   ]
  },
  {
   "cell_type": "code",
   "execution_count": 7,
   "id": "fa0c713d",
   "metadata": {},
   "outputs": [
    {
     "name": "stdout",
     "output_type": "stream",
     "text": [
      "The approximate value of the sum is 3.141597653564762\n",
      "To compute it, 200002 iterations were required!\n"
     ]
    }
   ],
   "source": [
    "eps = 1e-5\n",
    "n = 1                # Iteration counter.\n",
    "previous_sum = 100   # Stores the previous partial sum of the series.\n",
    "current_sum = 0      # Stores the current partial sum of the series.\n",
    "\n",
    "while abs(current_sum - previous_sum) > eps:\n",
    "# While the desired accuracy has not yet been achieved, do the following:\n",
    "    previous_sum = current_sum\n",
    "    current_sum += (-1)**(n + 1) * 4 / (2 * n - 1)\n",
    "    n += 1                        # Increment n before the next iteration.\n",
    "\n",
    "print(f\"The approximate value of the sum is {current_sum}\")\n",
    "print(f\"To compute it, {n} iterations were required!\")"
   ]
  },
  {
   "cell_type": "markdown",
   "id": "b526f4ca",
   "metadata": {},
   "source": [
    "It can be shown that $ L = \\pi $, as suggested by the approximate value that was obtained above."
   ]
  },
  {
   "attachments": {},
   "cell_type": "markdown",
   "id": "3c29ed88",
   "metadata": {},
   "source": [
    "__Exercise:__ Explain why the value of `previous_sum` was not also set to $ 0 $\n",
    "at the beginning of the preceding example (before the `while` loop)."
   ]
  },
  {
   "cell_type": "code",
   "execution_count": null,
   "id": "19457ec1",
   "metadata": {},
   "outputs": [],
   "source": []
  },
  {
   "attachments": {},
   "cell_type": "markdown",
   "id": "4062cf9b",
   "metadata": {},
   "source": [
    "⚠️ If an iteration counter is used in conjunction with a `while` loop,\n",
    "then it must be updated manualy, unlike in the case of `for` loops.\n",
    "Failing to do so may lead to an __infinite loop__ (a loop that\n",
    "is never terminated). In these cases you can use `Ctrl+C`\n",
    "to interrupt the Python interpreter or, if you are working within a Jupyter\n",
    "notebook code cell, by selecting the infringing cell and clicking on\n",
    "`Interrupt` from the `Kernel` menu.\n",
    "\n",
    "__Example:__ Classical (i.e., non-quantum) computers cannot generate true random\n",
    "sequences of numbers because they are deterministic machines, meaning that\n",
    "the same set of inputs/states will always generate the same results.  A\n",
    "__pseudo-random__ sequence of numbers has the _statistical properties_ of\n",
    "numbers chosen at random but is, in fact, generated non-randomly\n",
    "(that is, deterministically).\n",
    "\n",
    "Suppose that for some purpose, such as selecting from a range of possible\n",
    "scenarios in a game, we would like to generate a sequence of pseudo-random\n",
    "numbers inside the interval $ [0, 1] $.  We might do this as follows:"
   ]
  },
  {
   "cell_type": "code",
   "execution_count": 21,
   "id": "404ee4c8",
   "metadata": {},
   "outputs": [
    {
     "name": "stdout",
     "output_type": "stream",
     "text": [
      "0.25693791336379945\n",
      "0.1320369771753633\n",
      "0.06785484134067336\n",
      "0.03487393114086673\n",
      "0.017926217833080647\n"
     ]
    }
   ],
   "source": [
    "x = 0.5     # Stores the pseudo-random numbers.\n",
    "k = 1       # Iteration the counter.\n",
    "while k < 6:\n",
    "    x = (x * 1103515245 + 12345) % (2**31)\n",
    "    x /= 2**31    # Divide by 2**31 to obtain a number in [0, 1).\n",
    "    print(x)\n",
    "    k += 1\n",
    "    # If this last line is omitted, then the counter k never gets\n",
    "    # updated, so that the condition in the while-statement always\n",
    "    # evaluates to True. This yields an infinite loop."
   ]
  },
  {
   "attachments": {},
   "cell_type": "markdown",
   "id": "b69011c1",
   "metadata": {},
   "source": [
    "\n",
    "`📝 break` and `continue` statements can also be used with `while` loops, and\n",
    "they perform exactly the same actions as in `for` loops: abort the loop or skip\n",
    "over the current iteration, respectively. "
   ]
  },
  {
   "cell_type": "markdown",
   "id": "839874f2",
   "metadata": {},
   "source": [
    "__Exercise:__ Compute the index and the value of the first Fibonacci number that\n",
    "exceeds $ 10^6 $ (one million)."
   ]
  },
  {
   "cell_type": "code",
   "execution_count": null,
   "id": "8b4ded06",
   "metadata": {},
   "outputs": [],
   "source": []
  },
  {
   "attachments": {},
   "cell_type": "markdown",
   "id": "76a63a9d",
   "metadata": {},
   "source": [
    "__Exercise:__ Using `while`, write a script that asks the user to enter a series\n",
    "of numbers, and computes and prints the average of all those numbers.  The\n",
    "program should continue to ask for new input until the user enters a negative\n",
    "number, at which point the program should stop and print the average."
   ]
  },
  {
   "cell_type": "code",
   "execution_count": null,
   "id": "df263768",
   "metadata": {},
   "outputs": [],
   "source": []
  },
  {
   "attachments": {},
   "cell_type": "markdown",
   "id": "3d6fc98d",
   "metadata": {},
   "source": [
    "__Exercise:__ Using `while`, write a program that asks the user to enter a\n",
    "password and checks if it meets the following criteria:\n",
    "\n",
    "* The password must be at least 8 characters long (use the function `len` to\n",
    "  compute its length).\n",
    "* The password must contain at least one digit (ASCII codes 48–57).\n",
    "* The password must contain at least one uppercase letter (ASCII codes 65–90).\n",
    "* The password must contain at least one lowercase letter (ASCII codes 97–122).\n",
    "\n",
    "The user should be asked to enter a new password until a valid password\n",
    "according to these criteria is entered. To check if a character belongs\n",
    "to one of these classes, use the function `ord` which, given a character,\n",
    "outputs its [ASCII code](https://en.wikipedia.org/wiki/ASCII#Printable_characters)."
   ]
  },
  {
   "cell_type": "code",
   "execution_count": null,
   "id": "3d0b9e0e",
   "metadata": {},
   "outputs": [],
   "source": []
  },
  {
   "attachments": {},
   "cell_type": "markdown",
   "id": "c12dc375",
   "metadata": {},
   "source": [
    "__Exercise (Collatz sequence):__ The _Collatz sequence_ $ (x_n) $ generated\n",
    "by a positive integer $ x_0 $ is defined for $ n \\ge 1 $ by:\n",
    "$$\n",
    "x_{n + 1} = \n",
    "\\begin{cases}\n",
    "\\frac{x_n}{2} & \\text{ if $ x_n $ is even}\\,; \\\\\n",
    "3x_n + 1 & \\text{ if $ x_n $ is odd}\\,.\n",
    "\\end{cases}\n",
    "$$\n",
    "For example, here is the resulting Collatz sequence for $ x_0 = 29 $:\n",
    "$$\n",
    "29\\rightarrow88\\rightarrow44\\rightarrow22\\rightarrow11\\rightarrow34\\rightarrow17\\rightarrow52\\rightarrow26\\rightarrow13\\rightarrow40\\rightarrow20\\rightarrow10\\rightarrow5\\rightarrow16\\rightarrow8\\rightarrow4\\rightarrow2\\rightarrow1\n",
    "$$\n",
    "The _Collatz conjecture_ asserts that, for any choice of $ x_0 $, the resulting\n",
    "sequence eventually reaches $ 1 $.  This is one of the most famous unsolved\n",
    "problems in mathematics.\n",
    "\n",
    "(a) Write a script that computes the integer $ n $ between $ 1 $ and $ 100 $ that\n",
    "generates the longest Collatz sequence (before reaching $ 1 $).\n",
    "\n",
    "(b) Does your script check if there is more than one such integer?"
   ]
  },
  {
   "cell_type": "code",
   "execution_count": null,
   "id": "c474a355",
   "metadata": {},
   "outputs": [],
   "source": []
  }
 ],
 "metadata": {
  "kernelspec": {
   "display_name": "Python 3 (ipykernel)",
   "language": "python",
   "name": "python3"
  },
  "language_info": {
   "codemirror_mode": {
    "name": "ipython",
    "version": 3
   },
   "file_extension": ".py",
   "mimetype": "text/x-python",
   "name": "python",
   "nbconvert_exporter": "python",
   "pygments_lexer": "ipython3",
   "version": "3.10.10"
  }
 },
 "nbformat": 4,
 "nbformat_minor": 5
}
