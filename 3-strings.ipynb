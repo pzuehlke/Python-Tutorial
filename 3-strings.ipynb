{
 "cells": [
  {
   "cell_type": "markdown",
   "metadata": {},
   "source": [
    "# Strings"
   ]
  },
  {
   "cell_type": "markdown",
   "metadata": {},
   "source": [
    "## $ \\S 1 $ Strings\n",
    "\n",
    "### $ 1.1 $ Strings and characters in Python\n",
    "\n",
    "A __string__ is a sequence of characters enclosed in either single `'` or double `\"` quotes. The type corresponding to strings is called `str`.\n",
    "\n",
    "__Example:__"
   ]
  },
  {
   "cell_type": "code",
   "execution_count": null,
   "metadata": {},
   "outputs": [
    {
     "name": "stdout",
     "output_type": "stream",
     "text": [
      "It is time for all good men <class 'str'>\n",
      "to come to the aid of their country. <class 'str'>\n"
     ]
    }
   ],
   "source": [
    "a = \"It is time for all good men\"\n",
    "b = 'to come to the aid of their country.'\n",
    "print(a, type(a))   # Printing the string a and its type.\n",
    "print(b, type(b))   # Doing the same for the string b."
   ]
  },
  {
   "cell_type": "markdown",
   "metadata": {},
   "source": [
    "Note that the pair of quotes delimiting a string do not appear\n",
    "on the screen when it is printed.\n",
    "\n",
    "📝 If a string contains newline characters, it can be delimited by `\"\"\"` (triple double quotes).\n",
    "This can be used to break up a longer string over several lines."
   ]
  },
  {
   "cell_type": "code",
   "execution_count": null,
   "metadata": {},
   "outputs": [
    {
     "name": "stdout",
     "output_type": "stream",
     "text": [
      "\n",
      "Whose woods these are I think I know.   \n",
      "His house is in the village though;   \n",
      "He will not see me stopping here   \n",
      "To watch his woods fill up with snow.\n",
      " <class 'str'>\n"
     ]
    }
   ],
   "source": [
    "poem =  \"\"\"\n",
    "Whose woods these are I think I know.   \n",
    "His house is in the village though;   \n",
    "He will not see me stopping here   \n",
    "To watch his woods fill up with snow.\n",
    "\"\"\"\n",
    "print(poem, type(poem))"
   ]
  },
  {
   "cell_type": "markdown",
   "metadata": {},
   "source": [
    "📝 A long string can also be created across several lines by enclosing it in parentheses, as follows:"
   ]
  },
  {
   "cell_type": "code",
   "execution_count": null,
   "metadata": {},
   "outputs": [
    {
     "name": "stdout",
     "output_type": "stream",
     "text": [
      "The one who has conquered himself is a far greater hero than he who has defeated a thousand times a thousand men.\n"
     ]
    }
   ],
   "source": [
    "long_string = (\"The one who has conquered himself \"\n",
    "               \"is a far greater hero than he who has \"\n",
    "               \"defeated a thousand times a thousand men.\")\n",
    "print(long_string)"
   ]
  },
  {
   "cell_type": "markdown",
   "metadata": {},
   "source": [
    "Note the extra spaces at the end of the first two lines; without them, subsequent\n",
    "lines would be concatenated without any separation."
   ]
  },
  {
   "cell_type": "markdown",
   "metadata": {},
   "source": [
    "Unlike several other languages, Python does not have a special type for\n",
    "characters: a character is represented simply as a string of length 1."
   ]
  },
  {
   "cell_type": "code",
   "execution_count": null,
   "metadata": {},
   "outputs": [
    {
     "name": "stdout",
     "output_type": "stream",
     "text": [
      "a <class 'str'>\n"
     ]
    }
   ],
   "source": [
    "letter = 'a'\n",
    "print(letter, type(letter))    # Note that letter is of type str."
   ]
  },
  {
   "cell_type": "markdown",
   "metadata": {},
   "source": [
    "To get the $ i $-th character of a string called, say, $ s $, use `s[i]`; the output is also string (albeit one having only $ 1 $ character).\n",
    "\n",
    "<div class=\"alert alert-warning\">In Python, indices are <i>always</i> counted starting from <b> $ 0 $  (zero)</b>, not $ 1 $. To avoid confusion, we adapt our terminology accordingly. For example, we refer to 'm' as the <i>0-th</i> character of the string 'magic', 'a' as its first character, and so on... In particular, if a string has length $ n $ (i.e., if it consists of $ n $ characters), then its last index is $ n - 1 $. </div>\n",
    "\n",
    "__Example:__"
   ]
  },
  {
   "cell_type": "code",
   "execution_count": null,
   "metadata": {},
   "outputs": [
    {
     "name": "stdout",
     "output_type": "stream",
     "text": [
      "G <class 'str'>\n",
      "d <class 'str'>\n",
      "n\n"
     ]
    }
   ],
   "source": [
    "g = \"Gandalf\"\n",
    "s = \"Sauron\"\n",
    "\n",
    "print(g[0], type(g[0]))\n",
    "print(g[3], type(g[3]))\n",
    "\n",
    "# Since s contains 6 letters, the last one is indexed by 5:\n",
    "print(s[5])"
   ]
  },
  {
   "cell_type": "markdown",
   "metadata": {},
   "source": [
    "By prefixing an index with a minus sign $ - $, we start counting to the 'left'\n",
    "from the 0-th character. For example, `s[-1]` is the _last_ character of $ s $,\n",
    "`s[-2]` its _next-to-last_ character, and so on.\n",
    "\n",
    "__Example:__ Here is a representation of the letters in the string \"rocket\" and\n",
    "their respective indices:"
   ]
  },
  {
   "cell_type": "markdown",
   "metadata": {},
   "source": [
    "$$\n",
    "\\begin{array}{r|r|r|r|r|r|r|}\n",
    "\\text{string} &  \\text{r} & \\text{o} & \\text{c} & \\text{k} & \\text{e} & \\text{t} \\\\ \\hline\n",
    "\\text{indices} & 0 & 1 & 2 & 3 & 4 & 5 \\\\ \n",
    " & -6 & -5 & -4 & -3 & -2 & -1 \\\\\n",
    "\\end{array}\n",
    "$$"
   ]
  },
  {
   "cell_type": "markdown",
   "metadata": {},
   "source": [
    "__Exercise:__ In the preceding example, what happens if you try to access the $ 6 $-th element\n",
    "of the string? What about the element at position $ -7 $?"
   ]
  },
  {
   "cell_type": "code",
   "execution_count": null,
   "metadata": {},
   "outputs": [],
   "source": []
  },
  {
   "cell_type": "markdown",
   "metadata": {},
   "source": [
    "📝 If we want to create a string that has a single quote as one of its\n",
    "characters, we can enclose the string in double quotes, and vice-versa."
   ]
  },
  {
   "cell_type": "code",
   "execution_count": null,
   "metadata": {},
   "outputs": [
    {
     "name": "stdout",
     "output_type": "stream",
     "text": [
      "'\n",
      "!\n"
     ]
    }
   ],
   "source": [
    "explosion = \"'BOOM!'\"\n",
    "last = explosion[-1]\n",
    "print(last)\n",
    "\n",
    "next_to_last = explosion[-2]\n",
    "print(next_to_last)"
   ]
  },
  {
   "cell_type": "markdown",
   "metadata": {},
   "source": [
    "Finally, any Unicode character can be used in a string:"
   ]
  },
  {
   "cell_type": "code",
   "execution_count": 2,
   "metadata": {},
   "outputs": [
    {
     "name": "stdout",
     "output_type": "stream",
     "text": [
      "🍉🫐🍓🥝🍎🍍\n",
      "こんにちは\n"
     ]
    }
   ],
   "source": [
    "fruits = \"🍉🫐🍓🥝🍎🍍\"\n",
    "print(fruits)\n",
    "\n",
    "greeting = \"こんにちは\"\n",
    "print(greeting)"
   ]
  },
  {
   "cell_type": "markdown",
   "metadata": {},
   "source": [
    "### $ 1.2 $ Special characters\n",
    "\n",
    "In a string, the backslash `\\` plays the role of a special character called the\n",
    "**escape character**. It can be used, for instance, to represent whitespace\n",
    "characters — tab `\\t`, backspace `\\b`, newline `\\n` — or to turn another special\n",
    "character into an ordinary character — such as a single quote `\\'`, double quote\n",
    "`\\\"` or the backslash itself `\\\\`. These cases are tabulated below. Note however\n",
    "that there are other escape combinations beyond these, which we will not\n",
    "consider.\n",
    "\n",
    "| Code   |  Result  |\n",
    "| :----- | :------- |\n",
    "| `\\'`   | single quote (')  |\n",
    "| `\\\"`   | double quotes (\") |\n",
    "| `\\\\`   | backslash (\\\\)    |\n",
    "| `\\t`   | tab               |\n",
    "| `\\b`   | backspace         |\n",
    "| `\\n`   | new line          |\n",
    "\n",
    "⚠️ Depending on your environment, the backspace character `\\b` may only shift\n",
    "the cursor backwards by one position, but not delete anything. If this happens,\n",
    "then in order to delete the previous character and move the cursor left by one\n",
    "position one should use `\\b \\b` (two backspaces with a space in between). This\n",
    "will move the cursor left, overwrite the previous character with a space and\n",
    "move the cursor back once more.\n",
    "\n",
    "__Exercise:__ Which string is displayed on the screen after each of the\n",
    "following strings are printed (using `print`)?\n",
    "\n",
    "(a) `'it\\'s\\ta'`\n",
    "\n",
    "(b) `\"powerfuls\\b!\"`\n",
    "\n",
    "(c) `\"trolley\\b\\b  \"`  \n",
    "\n",
    "(d) `\"this\\nis\\ta\\ntest\"`\n",
    "\n",
    "(e) `'\\'3.14\\''`"
   ]
  },
  {
   "cell_type": "code",
   "execution_count": null,
   "metadata": {},
   "outputs": [],
   "source": []
  },
  {
   "cell_type": "markdown",
   "metadata": {},
   "source": [
    "__Raw strings__ in Python are created by adding the `r` prefix before a string\n",
    "literal. They treat backslashes `\\` as literal characters rather than escape\n",
    "characters.\n",
    "\n",
    "__Example:__"
   ]
  },
  {
   "cell_type": "code",
   "execution_count": 2,
   "metadata": {},
   "outputs": [
    {
     "name": "stdout",
     "output_type": "stream",
     "text": [
      "First line\n",
      "Second line\n",
      "First line\\nSecond line\n"
     ]
    }
   ],
   "source": [
    "# Normal string: \\n creates a newline:\n",
    "print(\"First line\\nSecond line\")  \n",
    "\n",
    "# Raw string: \\n is printed as is:\n",
    "print(r\"First line\\nSecond line\")"
   ]
  },
  {
   "cell_type": "markdown",
   "metadata": {},
   "source": [
    "Raw strings are particularly useful when working with:\n",
    "\n",
    "* File paths in Windows, to avoid having to type double backslashes.\n",
    "* Regular expressions (regexes), in order to avoid excessive escaping.\n",
    "* Any text where you want backslashes to be treated literally."
   ]
  },
  {
   "cell_type": "markdown",
   "metadata": {},
   "source": [
    "## $ \\S 2 $ Operations on strings\n",
    "\n",
    "Strings can be __concatenated__ using the binary operator __+__.\n",
    "\n",
    "__Example:__"
   ]
  },
  {
   "cell_type": "code",
   "execution_count": null,
   "metadata": {},
   "outputs": [
    {
     "name": "stdout",
     "output_type": "stream",
     "text": [
      "ancientmagic\n",
      "ancient magic spells\n"
     ]
    }
   ],
   "source": [
    "string_1 = \"ancient\"\n",
    "string_2 = \"magic\"\n",
    "string_3 = \"spells\"\n",
    "\n",
    "print(string_1 + string_2)\n",
    "print(string_1 + \" \" + string_2 + \" \" + string_3)"
   ]
  },
  {
   "cell_type": "markdown",
   "metadata": {},
   "source": [
    "__Exercise:__ Suppose that the statements `a = \"hello\"` and `b = 'world'` have\n",
    "just been run through the interpreter. Determine the output of each of the\n",
    "following statements:\n",
    "\n",
    "(a) `a + a`\n",
    "\n",
    "(b) `b + \" \" + a`\n",
    "\n",
    "(c) `a * 3`\n",
    "\n",
    "(d) `2 * b`\n",
    "\n",
    "(e) `(-1) * a`\n",
    "\n",
    "(f) `1 + \"1\"`\n",
    "\n",
    "(g) `a * b`\n",
    "\n",
    "(h) `a - a`\n",
    "\n",
    "(i) `0 == '0'`\n",
    "\n",
    "(j) `True == \"True\"`"
   ]
  },
  {
   "cell_type": "code",
   "execution_count": null,
   "metadata": {},
   "outputs": [],
   "source": [
    "a = \"hello\"\n",
    "b = 'world'"
   ]
  },
  {
   "cell_type": "markdown",
   "metadata": {},
   "source": [
    "📝 Extending the interpretation of `+` as concatenation of strings, if one\n",
    "uses `*` to \"multiply\" a string by a positive integer $ n $, then the result is\n",
    "a new string which consists of $ n $ copies of the original string, concatenated\n",
    "one after another. More concisely, for strings, `*` denotes __repetition__.  The\n",
    "remaining arithmetic operators (`-`, `**`, `/`, `//` and `%`) cannot be applied to\n",
    "strings."
   ]
  },
  {
   "cell_type": "code",
   "execution_count": null,
   "metadata": {},
   "outputs": [
    {
     "name": "stdout",
     "output_type": "stream",
     "text": [
      "foofoofoo\n",
      "foofoofoo\n"
     ]
    }
   ],
   "source": [
    "word = \"foo\"\n",
    "print(word * 3)\n",
    "print(3 * word)"
   ]
  },
  {
   "cell_type": "markdown",
   "metadata": {},
   "source": [
    "The function `len` applied to a string returns its **length**, i.e., the number of characters it contains, which is always a non-negative integer.\n",
    "\n",
    "__Example:__"
   ]
  },
  {
   "cell_type": "code",
   "execution_count": 1,
   "metadata": {},
   "outputs": [
    {
     "name": "stdout",
     "output_type": "stream",
     "text": [
      "Look to Windward\n",
      "16 <class 'int'>\n"
     ]
    }
   ],
   "source": [
    "s = \"Look to Windward\"\n",
    "print(s)\n",
    "print(len(s), type(len(s)))"
   ]
  },
  {
   "cell_type": "code",
   "execution_count": null,
   "metadata": {},
   "outputs": [
    {
     "name": "stdout",
     "output_type": "stream",
     "text": [
      "0\n",
      "3\n"
     ]
    }
   ],
   "source": [
    "# The empty string is the only string that has length 0:\n",
    "print(len(\"\"))\n",
    "\n",
    "# Note that whitespaces also count as valid characters:\n",
    "print(len(\"   \"))    # <--- This string consists of three spaces."
   ]
  },
  {
   "cell_type": "markdown",
   "metadata": {},
   "source": [
    "🚫 A string is an __immutable__ object, meaning that its individual characters\n",
    "_cannot be modified_. Trying to do so will make the interpreter throw a\n",
    "`TypeError`."
   ]
  },
  {
   "cell_type": "code",
   "execution_count": null,
   "metadata": {},
   "outputs": [],
   "source": [
    "boat = \"Boat\"\n",
    "# Let's try to modify the first character:\n",
    "boat[0] = 'C'"
   ]
  },
  {
   "cell_type": "markdown",
   "metadata": {},
   "source": [
    "The __colon operator `:`__, as in `[i:j]`, is used to __slice__ a string from\n",
    "its $ i $-th character (inclusive) to its $ j $-th character (exclusive).\n",
    "This operation does not modify the string (after all, strings are immutable);\n",
    "rather, it creates a _new_ string which consists of the characters having index\n",
    "ranging from $ i $ up to and including $ j - 1 $.\n",
    "\n",
    "__Example:__"
   ]
  },
  {
   "cell_type": "code",
   "execution_count": null,
   "metadata": {},
   "outputs": [
    {
     "name": "stdout",
     "output_type": "stream",
     "text": [
      "ma <class 'str'>\n",
      "gic <class 'str'>\n",
      "magic\n"
     ]
    }
   ],
   "source": [
    "string = 'magic'\n",
    "\n",
    "# Slice from the 0th character to the 2nd (not including the 2nd):\n",
    "init = string[0:2]\n",
    "print(init, type(init))\n",
    "\n",
    "# Slice from the 2nd character to the 5th (not including the 5th):\n",
    "final = string[2:5]   \n",
    "print(final, type(final))\n",
    "\n",
    "print(init + final)"
   ]
  },
  {
   "cell_type": "markdown",
   "metadata": {},
   "source": [
    "Omitting the first index in a slice has the same effect as slicing from the\n",
    "beginning.  Similarly, if we omit the second index, then the string will be\n",
    "sliced until the end."
   ]
  },
  {
   "cell_type": "code",
   "execution_count": null,
   "metadata": {},
   "outputs": [
    {
     "name": "stdout",
     "output_type": "stream",
     "text": [
      "auto\n",
      "maton\n"
     ]
    }
   ],
   "source": [
    "word = 'automaton'\n",
    "print(word[:4])\n",
    "print(word[4:])"
   ]
  },
  {
   "cell_type": "markdown",
   "metadata": {},
   "source": [
    "One frequently has a need to create an independent copy of a string. To do this,\n",
    "a _full slice_ `[:]` can be used.\n",
    "\n",
    "__Example:__"
   ]
  },
  {
   "cell_type": "code",
   "execution_count": null,
   "metadata": {},
   "outputs": [
    {
     "name": "stdout",
     "output_type": "stream",
     "text": [
      "magic potion\n"
     ]
    }
   ],
   "source": [
    "string_1 = 'potion'\n",
    "\n",
    "# Omit both indices in the slice to create a copy of the original string:\n",
    "string_2 = string_1[:]    \n",
    "\n",
    "string_1 = 'magic'\n",
    "print(string_1, string_2)"
   ]
  },
  {
   "cell_type": "markdown",
   "metadata": {},
   "source": [
    "__Exercise:__ Let $ s $ be a variable whose value is a string. True or False? Explain.\n",
    "\n",
    "(a) `s[:] == s[0:]`\n",
    "\n",
    "(b) `s[:] == s[0:len(s)]`\n",
    "\n",
    "(c) `s[:] == s[0:-1]`\n"
   ]
  },
  {
   "cell_type": "code",
   "execution_count": null,
   "metadata": {},
   "outputs": [],
   "source": []
  },
  {
   "cell_type": "markdown",
   "metadata": {},
   "source": [
    "The slice construct also admits a third argument, which specifies the\n",
    "__step size__ in the slicing operation. The syntax of a slice whice makes use of\n",
    "all three arguments is thus:\n",
    "`[<start index (inclusive)> : <stop index (exclusive)> : <step size>]`. If omitted,\n",
    "the step size is set to $ 1 $ by default. Step sizes can also be negative, which\n",
    "causes the string to be sliced in the right-to-left direction.\n",
    "\n",
    "__Example:__"
   ]
  },
  {
   "cell_type": "code",
   "execution_count": 1,
   "metadata": {},
   "outputs": [
    {
     "name": "stdout",
     "output_type": "stream",
     "text": [
      "magic\n",
      "mgc\n",
      "ai\n",
      "cigam\n"
     ]
    }
   ],
   "source": [
    "s = \"magic\"\n",
    "print(s[::1])   # Full slice, explicit step size of 1.\n",
    "print(s[::2])   # Slice consisting of even-indexed characters.\n",
    "print(s[1::2])  # Slice consisting of odd-indexed characters.\n",
    "print(s[::-1])  # Slice which amounts to the reverse of the string."
   ]
  },
  {
   "cell_type": "markdown",
   "metadata": {},
   "source": [
    "📝 As above, to create a copy of string $ s $ with its characters reversed, we use `s[::-1]`."
   ]
  },
  {
   "cell_type": "markdown",
   "metadata": {},
   "source": [
    "__Exercise:__ Suppose that the variable $ p $ holds the string \"thought\". What\n",
    "is the output of the following statements?\n",
    "\n",
    "\n",
    "(a) `p[::2]`\n",
    "\n",
    "(b) `p[1::4]`\n",
    "\n",
    "(c) `p[2:4:2]`\n",
    "\n",
    "(d) `p[2:5:2]`\n",
    "\n",
    "(e) `p[2:6:2]`\n",
    "\n",
    "(f) `p[2:7:2]`\n",
    "\n",
    "(g) `p[::-1]`\n",
    "\n",
    "(h) `p[4:0:-1]`\n",
    "\n",
    "(i) `p[4::-2]`\n",
    "\n",
    "(j) `p[1::-1]`"
   ]
  },
  {
   "cell_type": "code",
   "execution_count": null,
   "metadata": {},
   "outputs": [],
   "source": []
  },
  {
   "cell_type": "markdown",
   "metadata": {},
   "source": [
    "Here is a summary of the operations on strings that we have considered thus far:\n",
    "\n",
    "| Operation       | Meaning                    |\n",
    "| :--------------| :---------------------------|\n",
    "| `+`             | concatenation              |\n",
    "| `*`             | repetition                 |\n",
    "| `<string>[]`    | indexing (accessing)       |\n",
    "| `<string>[:]`   | slicing                    |\n",
    "| `len(<string>)` | length                     |\n"
   ]
  },
  {
   "cell_type": "markdown",
   "metadata": {},
   "source": [
    "## $ \\S 3 $ Comparing strings\n",
    "\n",
    "All of the comparison operators introduced in the previous notebook work for\n",
    "strings as well. Strings are ordered according to the __lexicographic__ (or\n",
    "__dictionary__) __order__.  Therefore:\n",
    "\n",
    "* The operators `==` and `!=` tell whether two given strings have the\n",
    "  same value or not, i.e., if they consist of exactly the same characters in the\n",
    "  same order (this includes distinguishing uppercase from lowercase letters).\n",
    "* When applied to two strings $ a $ and $ b $, `a < b` returns `True` if and\n",
    "  only if $ a $ comes before $ b $ in the dictionary order. Similarly for\n",
    "  `<=`, `>` and `>=`.\n",
    "\n",
    "__Exercise:__ Let $ a,\\,b,\\,q,\\,r $ be as defined in the code cell below.\n",
    "Determine the value of:\n",
    "\n",
    "(a) `a != b`\n",
    "\n",
    "(b) `a < b`\n",
    "\n",
    "(c) `b < q `\n",
    "\n",
    "(d) `q >= r`\n",
    "\n",
    "(e) `b < a < q < r`"
   ]
  },
  {
   "cell_type": "code",
   "execution_count": null,
   "metadata": {},
   "outputs": [],
   "source": [
    "a = \"potion\"\n",
    "b = \"portion\"\n",
    "q = \"quarterstaff\"  \n",
    "r = \"robe\""
   ]
  },
  {
   "cell_type": "markdown",
   "metadata": {},
   "source": [
    "## $ \\S 4 $ Some useful string methods\n",
    "\n",
    "A __method__ is a function that is associated with every object of a given class.  A\n",
    "method can access and directly modify an object's state without the\n",
    "corresponding data having to be passed explicitly as an argument, as in the case\n",
    "of functions. However, methods can also return values to the caller (not simply\n",
    "modify the associated object). Methods are called using the notation\n",
    "`<object>.<method>`.\n",
    "\n",
    "As an example, suppose that we need to design a Python class to represent bank\n",
    "accounts. Some natural candidates for methods (with self-descriptive names) \n",
    "that could be associated with instances of this class are:\n",
    "\n",
    "* `deposit`\n",
    "* `withdraw`\n",
    "* `transfer`\n",
    "* `check_balance`\n",
    "* `print_statement`\n",
    "\n",
    "Whenever we instantiate a member of this class (i.e., create a new account), say\n",
    "`acc1`, it will automatically inherit all methods associated with that class. The\n",
    "instruction `acc1.deposit(10)` would modify some internal attribute of this\n",
    "specific account reflecting its balance so that $ 10 $ gets added to it. Of\n",
    "course, this has no effect on the state of any other instance of the class, say\n",
    "`acc2`. In contrast, the call `acc1.transfer(5, acc2)` would modify the states\n",
    "of both accounts (by adding $ 5 $ to the balance of the second while while\n",
    "subtracting $ 5 $ from the balance of the first) and might also return some value\n",
    "such as a string indicating success or failure of the operation or the date and time."
   ]
  },
  {
   "cell_type": "markdown",
   "metadata": {},
   "source": [
    "Since text is one of the most common forms of data, being able to manipulate and\n",
    "process it effectively is essential for many applications.  Python provides\n",
    "several built-in methods for the string type. We mention some of the most\n",
    "important ones very briefly so that the reader may get a rough idea of what is\n",
    "possible (don't try to memorize their names!).\n",
    "\n",
    "To get a full list of the methods and attributes associated to a given object $\n",
    "x $ (such as a string), you can run `dir(x)` (note that the output may be\n",
    "truncated if it is too long).  For more details and explanations on string\n",
    "methods specifically, please refer to the official\n",
    "[documentation](https://docs.python.org/3/library/stdtypes.html#string-methods)."
   ]
  },
  {
   "cell_type": "markdown",
   "metadata": {},
   "source": [
    "__Examples of string methods:__"
   ]
  },
  {
   "cell_type": "code",
   "execution_count": 4,
   "metadata": {},
   "outputs": [
    {
     "name": "stdout",
     "output_type": "stream",
     "text": [
      "Shall I compare thee to a summer’s day? Thou art more lovely and more temperate.\n"
     ]
    }
   ],
   "source": [
    "# Create a string:\n",
    "s = \"Shall I compare thee to a summer’s day? Thou art more lovely and more temperate.\"\n",
    "print(s)"
   ]
  },
  {
   "cell_type": "code",
   "execution_count": 6,
   "metadata": {},
   "outputs": [
    {
     "name": "stdout",
     "output_type": "stream",
     "text": [
      "Shall I compare thee to a summer’s day? Thou art quite lovely and quite temperate.\n"
     ]
    }
   ],
   "source": [
    "# replace -- Replaces occurrences of a substring with another substring:\n",
    "s_quite = s.replace(\"more\", \"quite\")\n",
    "print(s_quite)"
   ]
  },
  {
   "cell_type": "code",
   "execution_count": 7,
   "metadata": {},
   "outputs": [
    {
     "name": "stdout",
     "output_type": "stream",
     "text": [
      "6\n"
     ]
    }
   ],
   "source": [
    "# find -- Returns the index of the first occurrence of a substring:\n",
    "index = s.find(\"I\")\n",
    "print(index)"
   ]
  },
  {
   "cell_type": "code",
   "execution_count": 8,
   "metadata": {},
   "outputs": [
    {
     "name": "stdout",
     "output_type": "stream",
     "text": [
      "2\n"
     ]
    }
   ],
   "source": [
    "# count -- Counts the occurrences of a substring:\n",
    "c = s.count(\"more\")\n",
    "print(c)"
   ]
  },
  {
   "cell_type": "code",
   "execution_count": 9,
   "metadata": {},
   "outputs": [
    {
     "name": "stdout",
     "output_type": "stream",
     "text": [
      "Shall I compare thee to a summer’s day? Thou art more lovely and more temperate.   \n",
      "Shall I compare thee to a summer’s day? Thou art more lovely and more tempera\n"
     ]
    }
   ],
   "source": [
    "# strip, lstrip and rstrip -- Removes leading or trailing characters/whitespace:\n",
    "s_with_spaces = \"\\t\\n   \" + s + \"   \"\n",
    "\n",
    "# lstrip removes the specified characters from the beginning of the string.\n",
    "# By default, it removes all whitespace characters (including '\\n' and '\\t'):\n",
    "s_lstripped = s_with_spaces.lstrip()     \n",
    "print(s_lstripped)\n",
    "\n",
    "# 'rstrip' removes the specified characters from the end of the string:\n",
    "s_rstripped = s.rstrip('et.')\n",
    "print(s_rstripped)"
   ]
  },
  {
   "cell_type": "code",
   "execution_count": 10,
   "metadata": {},
   "outputs": [
    {
     "name": "stdout",
     "output_type": "stream",
     "text": [
      "['Shall', 'I', 'compare', 'thee', 'to', 'a', 'summer’s', 'day?', 'Thou', 'art', 'more', 'lovely', 'and', 'more', 'temperate.']\n"
     ]
    }
   ],
   "source": [
    "# split -- Splits the string into a list using a delimiter (default = space):\n",
    "words = s.split()\n",
    "print(words)"
   ]
  },
  {
   "cell_type": "code",
   "execution_count": 11,
   "metadata": {},
   "outputs": [
    {
     "name": "stdout",
     "output_type": "stream",
     "text": [
      "Parallel lines have so much in common.\n"
     ]
    }
   ],
   "source": [
    "# join -- Joins elements of an iterable (e.g., list) using the string:\n",
    "separator = \" \"    # This is the string to which join will be applied.\n",
    "list_of_words = [\"Parallel\", \"lines\", \"have\", \"so\", \"much\", \"in\", \"common.\"]\n",
    "\n",
    "sentence = separator.join(list_of_words)\n",
    "print(sentence)"
   ]
  },
  {
   "cell_type": "markdown",
   "metadata": {},
   "source": [
    "__Exercise:__ Given the string `gentle` below, study the effects of the following string methods on it:\n",
    "\n",
    "(a) `capitalize`\n",
    "\n",
    "(b) `title`\n",
    "\n",
    "(c) `upper`\n",
    "\n",
    "(d) `title`\n",
    "\n",
    "(e) `center(<width>)`"
   ]
  },
  {
   "cell_type": "code",
   "execution_count": 34,
   "metadata": {},
   "outputs": [],
   "source": [
    "gentle = \"dO NoT gO geNTLe iNtO thAt gOOd nIGHt.\""
   ]
  }
 ],
 "metadata": {
  "kernelspec": {
   "display_name": "Python 3",
   "language": "python",
   "name": "python3"
  },
  "language_info": {
   "codemirror_mode": {
    "name": "ipython",
    "version": 3
   },
   "file_extension": ".py",
   "mimetype": "text/x-python",
   "name": "python",
   "nbconvert_exporter": "python",
   "pygments_lexer": "ipython3",
   "version": "3.12.3"
  }
 },
 "nbformat": 4,
 "nbformat_minor": 2
}
