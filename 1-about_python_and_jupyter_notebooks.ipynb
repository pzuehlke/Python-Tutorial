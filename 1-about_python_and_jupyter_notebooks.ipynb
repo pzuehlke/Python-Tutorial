{
 "cells": [
  {
   "attachments": {},
   "cell_type": "markdown",
   "metadata": {},
   "source": [
    "# About Python and Jupyter notebooks"
   ]
  },
  {
   "attachments": {},
   "cell_type": "markdown",
   "metadata": {},
   "source": [
    "# $ \\S 1 $ About Python\n",
    "[__Python__](https://www.python.org/) is a high-level, general purpose and\n",
    "modern programming language originally developed by [Guido van\n",
    "Rossum](https://en.wikipedia.org/wiki/Guido_van_Rossum) starting in 1989.\n",
    "\n",
    "📝 Python is at its core an [object-oriented\n",
    "programming](https://en.wikipedia.org/wiki/Object-oriented_programming) (_OOP_)\n",
    "language. However, it also supports the main elements of [functional\n",
    "programming](https://en.wikipedia.org/wiki/Functional_programming) and\n",
    "[imperative programming](https://en.wikipedia.org/wiki/Imperative_programming)\n",
    "paradigms.\n",
    "\n",
    "In contrast to some other widely used languages such as C, Java or Fortran,\n",
    "Python is an __interpreted__ language, meaning that its scripts are not\n",
    "compiled, but rather run by an interpreter.  An __interpreter__ is a program\n",
    "that directly reads and interprets each instruction line by line in the source\n",
    "code and executes it immediately. In contrast, a __compiler__ takes the code as\n",
    "a whole and converts all of it into assembly or machine language to produce a\n",
    "stand-alone executable file.\n",
    "\n",
    "The main advantage of interpreted languages is that they facilitate debugging\n",
    "and testing, since it is unnecessary to recompile, link and execute the source\n",
    "code after each modification. On the other hand, programs written in interpreted\n",
    "languages tend to have much slower execution time than their compiled\n",
    "equivalents, sometimes by a factor of ten or more, because by looking at\n",
    "the entire code at once, a compiler can optimize or simplify several operations.\n",
    "\n",
    "The main features of Python that make it suitable for teaching and learning\n",
    "about programming are:\n",
    "\n",
    "✅ Python is _free_ and _open source_ software (_FOSS_);  \n",
    "✅ Python's syntax is especially simple and pleasant, which makes it \n",
    "easy to learn;  \n",
    "✅ Python is one of the most popular languages today, employed in a wide\n",
    "variety of applications, from basic IT scripting to machine learning;  \n",
    "✅ Python is available for all major operating systems and its programs are\n",
    "platform-independent;  \n",
    "✅ Python has an extensive standard library, abundant extensions and a large\n",
    "community of users and developers;  \n",
    "✅ Python abstracts away many low-level details, making it easier to focus on the\n",
    "problems that need to be solved instead of on technical details.\n"
   ]
  },
  {
   "attachments": {},
   "cell_type": "markdown",
   "metadata": {},
   "source": [
    "## $ \\S 2 $ Obtaining and installing Python <a name=\"S2\"></a>\n",
    "\n",
    "\n",
    "It is _not_ necessary to install any software in order to be\n",
    "able to create, edit and run Python code, since this can all be done online\n",
    "for free, as will be explained in [$ \\S 5 $](#S5). However, it is probably more\n",
    "convenient to install Python locally on your machine.\n",
    "\n",
    "The current version of Python, __[Python 3](https://www.python.org/)__, is\n",
    "available for all major operating systems. Please follow these [installation\n",
    "instructions](https://realpython.com/installing-python/).\n",
    "\n",
    "Another alternative is to [install](https://docs.anaconda.com/anaconda/install/)\n",
    "the __[Anaconda](https://www.anaconda.com/products/distribution)__ distribution\n",
    "platform for Python. It includes in a single bundle an up-to-date release of\n",
    "Python in addition to several useful libraries and packages, notably:\n",
    "* [__NumPy__](https://numpy.org/), a library whose core feature is the\n",
    "  implementation of a data structure called _ndarray_ ($ n $-dimensional array),\n",
    "  which can be used to represent vectors and matrices, among others. It also\n",
    "  provides a wide assortment of functions for dealing with these objects.\n",
    "* [__SciPy__](https://scipy.org/), a specialized library for scientific\n",
    "  computing.  It includes implementations of efficient algorithms for the\n",
    "  numerical solution of both common and more specialized mathematical problems\n",
    "  that occur in science and engineering.\n",
    "* [__Matplotlib__](https://matplotlib.org), a data visualization library which\n",
    "  facilitates the creation of graphs, images, animations and plots of all kinds.\n",
    "* [__Jupyter__](https://jupyter.org/)'s tools for interactive computing,\n",
    "  discussed in $ \\S 4 $–$ 6 $.\n"
   ]
  },
  {
   "attachments": {},
   "cell_type": "markdown",
   "metadata": {},
   "source": [
    "## $ \\S 3 $ Links to guides\n",
    "\n",
    "In the course we will learn about a substantial amount of core Python's syntax\n",
    "and constructs. However, we will cover only a limited set of features of\n",
    "the libraries mentioned in $ \\S 2 $. These will be introduced as needed along\n",
    "the course, mostly in the form of examples.  In any case, you may find the\n",
    "following references useful in the future if you want to delve more deeply:\n",
    "\n",
    "* The [PEP8 style guide](https://pep8.org/) for Python code.\n",
    "* A [beginner's guide](https://numpy.org/doc/stable/user/absolute_beginners.html) to the basics of **Numpy**.\n",
    "* A [gallery of examples](https://matplotlib.org/stable/gallery/index.html) for **Matplotlib**.\n",
    "* Some **Matplotlib** [cheat sheets](https://github.com/matplotlib/cheatsheets#cheatsheets).\n",
    "* A [quickstart guide](https://jupyter-notebook-beginner-guide.readthedocs.io/en/latest/) to **Jupyter** notebooks."
   ]
  },
  {
   "attachments": {},
   "cell_type": "markdown",
   "metadata": {},
   "source": [
    "## $ \\S 4 $ Jupyter notebooks\n",
    "The file you are reading is a [__Jupyter\n",
    "notebook__](https://docs.jupyter.org/en/latest/start/index.html),\n",
    "an interactive document which can contain both Python code and human-readable\n",
    "text. The filename extension for (Python) Jupyter notebooks is __.ipynb__. \n",
    "\n",
    "The content of a notebook is organized as an ordered list of __cells__, which\n",
    "can be of three types:\n",
    "\n",
    "* __Markdown cells__, such as the one containing this sentence, are used for\n",
    "  displaying text.  Moreover, they can also contain mathematical formulas\n",
    "  ($ \\LaTeX $ is supported), tables, images and other media.  They are formatted\n",
    "  using Markdown syntax; __Markdown__ is a very simple markup language. \n",
    "* __Code cells__ (a.k.a. __Python cells__), such as the one immediately below,\n",
    "  contain Python code and are distinguished by their background color and\n",
    "  fixed-width font. Each cell can be edited, run and interacted with by the user\n",
    "  as if it were a stand-alone script.\n",
    "* __Output cells__ contain the result of a code cell's computation. The contents\n",
    "  of such a cell cannot be modified except by making changes to the corresponding\n",
    "  code cell and running it again.\n"
   ]
  },
  {
   "cell_type": "code",
   "execution_count": null,
   "metadata": {},
   "outputs": [
    {
     "name": "stdout",
     "output_type": "stream",
     "text": [
      "Hello, world!\n",
      "The cell where this message is displayed is the\n",
      "output cell of the code cell immediately above.\n"
     ]
    }
   ],
   "source": [
    "print(\"Hello, world!\")\n",
    "print(\"The cell where this message is displayed is the\\n\"\n",
    "      \"output cell of the code cell immediately above.\")"
   ]
  },
  {
   "attachments": {},
   "cell_type": "markdown",
   "metadata": {},
   "source": [
    "## $ \\S 5 $ Creating, editing and interacting with Jupyter notebooks <a name=\"S5\"></a>\n",
    "\n",
    "In order to be able to create, edit and interact with Jupyter notebooks\n",
    "instead of merely reading them, there are two main alternatives.\n",
    "1. _You may install the [__Jupyter platform__](https://jupyter.org/) on your\n",
    "   computer_ either:\n",
    "   * Through a packet manager such as\n",
    "     [__pip__](https://pip.pypa.io/en/stable/) (the installation instructions can be\n",
    "     found [here](https://jupyter.org/install)).\n",
    "   * By installing the [__Anaconda__](https://www.anaconda.com/products/distribution)\n",
    "     distribution mentioned in [$ \\S 2 $](#S2), which contains the Jupyter platform as\n",
    "     one of its many packages.\n",
    "2. _You may run a web-based Jupyter environment on your browser (in the cloud)_.\n",
    "   Three websites that provide this service for free are:\n",
    "    * The original [__Jupyter Lab__](https://jupyter.org/try-jupyter/lab/?path=notebooks%2FIntro.ipynb)\n",
    "      web application for the Jupyter platform. This option does not require an\n",
    "      account. After following the link, just click on File → New Launcher → Python\n",
    "      Notebook in the menu bar to start editing a new notebook.\n",
    "    * [__CoCalc__](https://cocalc.com/auth/try). Cocalc also does not require an\n",
    "      account to be created. After following the link, click on \"Use CoCalc Anonymously\".\n",
    "    * [__Google Colab__](https://colab.research.google.com/). This requires a Google\n",
    "      account and you must be signed in to use the service. Click on the blue\n",
    "      \"Sign in\" button on the top right corner.\n",
    "\n",
    "  Any of these websites provides a way for you to save your work when you are\n",
    "  done, either in the cloud or locally, by downloading the notebook. In the case\n",
    "  of Colab, the notebooks that you edit are automatically stored in Google\n",
    "  Drive.\n",
    "    \n",
    "📝 Note that if you use a cloud-based editor, _you do not have to install any of\n",
    "the software mentioned above on your machine_, not even the Python interpreter\n",
    "itself. For this reason, this will be our preferred option."
   ]
  },
  {
   "attachments": {},
   "cell_type": "markdown",
   "metadata": {},
   "source": [
    "## $ \\S 6 $ Editing and interacting with Jupyter notebooks\n",
    "\n",
    "Assuming you have followed one of the suggestions in [$ \\S 5 $](#S5), try\n",
    "editing and playing around with the cell below. \n",
    "\n",
    "📝 To _insert a new line_ below the current one in a code cell, use `Enter`\n",
    "(a.k.a. `Return`). To _run_ the entire contents of the cell through the\n",
    "interpreter, use `Shift + Enter`."
   ]
  },
  {
   "cell_type": "code",
   "execution_count": null,
   "metadata": {},
   "outputs": [
    {
     "name": "stdout",
     "output_type": "stream",
     "text": [
      "Why did the two Java methods get a divorce?\n"
     ]
    }
   ],
   "source": [
    "print(\"Why did the two Java methods get a divorce?\")"
   ]
  },
  {
   "cell_type": "code",
   "execution_count": null,
   "metadata": {},
   "outputs": [
    {
     "name": "stdout",
     "output_type": "stream",
     "text": [
      "They had constant arguments.\n"
     ]
    }
   ],
   "source": [
    "print(\"They had constant arguments.\")"
   ]
  },
  {
   "cell_type": "code",
   "execution_count": 2,
   "metadata": {},
   "outputs": [
    {
     "name": "stdout",
     "output_type": "stream",
     "text": [
      "Insert your own message (delimited by double quotes), then run the cell!\n"
     ]
    }
   ],
   "source": [
    "print(\"Insert your own message (delimited by double quotes), then run the cell!\")"
   ]
  },
  {
   "cell_type": "markdown",
   "metadata": {},
   "source": [
    "📝 To open a new code cell _below_ a given cell, first select the latter by clicking on\n",
    "the region to its left, then press `b`. To open a cell _above_ the selected cell\n",
    "instead, type `a`."
   ]
  },
  {
   "attachments": {},
   "cell_type": "markdown",
   "metadata": {},
   "source": [
    "\n",
    "📝 In Python, the __pound__ sign __#__ is used to introduce a __comment__.\n",
    "Comments are ignored by the interpreter and can be used to  make a piece of code\n",
    "more readable or to clarify its intention or operation."
   ]
  },
  {
   "cell_type": "code",
   "execution_count": 2,
   "metadata": {},
   "outputs": [
    {
     "name": "stdout",
     "output_type": "stream",
     "text": [
      "314.159\n"
     ]
    }
   ],
   "source": [
    "pi = 3.14159      # Defining a variable named pi and associating a value to  it.\n",
    "r = 10            # Note that it is not necessary to specify its type.\n",
    "area = pi * r**2  # '*' denotes multiplication, '**' denotes exponentiation.\n",
    "print(area)       # Print the value of the variable named 'area'."
   ]
  },
  {
   "cell_type": "code",
   "execution_count": 3,
   "metadata": {},
   "outputs": [
    {
     "data": {
      "text/plain": [
       "314.159"
      ]
     },
     "execution_count": 3,
     "metadata": {},
     "output_type": "execute_result"
    }
   ],
   "source": [
    "# If we just type in the name of a variable, its value is returned as output:\n",
    "area"
   ]
  },
  {
   "attachments": {},
   "cell_type": "markdown",
   "metadata": {},
   "source": [
    "📝 Note the tags `In` and `Out` to the left of the preceding cell. The former\n",
    "tag stands for the __input__ (or content) of the cell and the latter for its\n",
    "__output__ (or result). This output is automatically stored in a variable named\n",
    "`_n`, where $ n $ is the number shown inside brackets `[ ]`. It can thus be\n",
    "conveniently referred to and used in other cells. Similarly, `_` by itself\n",
    "holds the latest output value of a cell. For example:"
   ]
  },
  {
   "cell_type": "code",
   "execution_count": 4,
   "metadata": {},
   "outputs": [
    {
     "name": "stdout",
     "output_type": "stream",
     "text": [
      "31.4159\n"
     ]
    }
   ],
   "source": [
    "print(_ / 10)    # '/' is the division operator."
   ]
  },
  {
   "cell_type": "code",
   "execution_count": 5,
   "metadata": {},
   "outputs": [
    {
     "name": "stdout",
     "output_type": "stream",
     "text": [
      "10\n"
     ]
    }
   ],
   "source": [
    "# As mentioned before, we can print the value of a variable as follows:\n",
    "print(r)"
   ]
  },
  {
   "cell_type": "code",
   "execution_count": 6,
   "metadata": {},
   "outputs": [
    {
     "name": "stdout",
     "output_type": "stream",
     "text": [
      "62.8318\n"
     ]
    }
   ],
   "source": [
    "# The same syntax works for a more complicated expression:\n",
    "print(2 * pi * r)"
   ]
  },
  {
   "cell_type": "code",
   "execution_count": 7,
   "metadata": {},
   "outputs": [
    {
     "name": "stdout",
     "output_type": "stream",
     "text": [
      "The circumference of a circle of radius r = 10 is 62.8318 .\n"
     ]
    }
   ],
   "source": [
    "# We can also use a special format to print the value of a variable or\n",
    "# expression in the middle of a string in the following way:\n",
    "print(f\"The circumference of a circle of radius r = {r} is {2 * pi * r} .\")"
   ]
  },
  {
   "attachments": {},
   "cell_type": "markdown",
   "metadata": {},
   "source": [
    "📝 Note the `f` (for 'format') immediately before the opening double quotes. It\n",
    "indicates to the interpreter that it should _evaluate_ any expression that is\n",
    "enclosed in braces. If it is omitted, every character within double quotes is\n",
    "interpreted literally:"
   ]
  },
  {
   "cell_type": "code",
   "execution_count": null,
   "metadata": {},
   "outputs": [
    {
     "name": "stdout",
     "output_type": "stream",
     "text": [
      "The circumference of a circle of radius r = {r} is {2 * pi * r} .\n"
     ]
    }
   ],
   "source": [
    "print(\"The circumference of a circle of radius r = {r} is {2 * pi * r} .\")"
   ]
  },
  {
   "attachments": {},
   "cell_type": "markdown",
   "metadata": {},
   "source": [
    "📝 To avoid ambiguity, the value stored in `_n` _will remain the same unless\n",
    "every output is cleared explicitly_. The counter $ n $ is incremented by $ 1 $\n",
    "every time the code inside some cell is run. In particular, if a cell is run\n",
    "multiple times, its output will be stored in several variables of this type.\n",
    "\n",
    "In the next notebook we will learn much more about variables, types and values\n",
    "in Python, including the numerical types and operations that were used\n",
    "informally above."
   ]
  },
  {
   "cell_type": "markdown",
   "metadata": {},
   "source": []
  }
 ],
 "metadata": {
  "kernelspec": {
   "display_name": "Python 3",
   "language": "python",
   "name": "python3"
  },
  "language_info": {
   "codemirror_mode": {
    "name": "ipython",
    "version": 3
   },
   "file_extension": ".py",
   "mimetype": "text/x-python",
   "name": "python",
   "nbconvert_exporter": "python",
   "pygments_lexer": "ipython3",
   "version": "3.10.12"
  },
  "orig_nbformat": 4
 },
 "nbformat": 4,
 "nbformat_minor": 2
}
