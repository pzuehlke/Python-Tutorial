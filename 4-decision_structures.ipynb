{
 "cells": [
  {
   "attachments": {},
   "cell_type": "markdown",
   "metadata": {},
   "source": [
    "# Conditional statements and list comprehensions\n",
    "\n",
    "\n",
    "## $ \\S 1 $ Printing messages and receiving input\n",
    "\n",
    "### $ 1.1 $ The `input` function\n",
    "\n",
    "Many programs require some kind of input from the user during their execution. For this purpose, Python provides the function `input`.\n",
    "\n",
    "__Example:__"
   ]
  },
  {
   "cell_type": "code",
   "execution_count": 1,
   "metadata": {},
   "outputs": [
    {
     "name": "stdout",
     "output_type": "stream",
     "text": [
      "23 <class 'str'>\n"
     ]
    }
   ],
   "source": [
    "age_str = input(\"Type your age:\\n\")  # '\\n' is the _newline character_.\n",
    "print(age_str, type(age_str))                \n",
    "# The output of the 'input' function is always of type 'str'."
   ]
  },
  {
   "attachments": {},
   "cell_type": "markdown",
   "metadata": {},
   "source": [
    "More formally, `input` operates as follows:\n",
    "* It takes a single argument of type `str`, which is displayed on the screen as\n",
    "  a _message_ to the user (if no argument is provided, the message is taken\n",
    "  to be the empty string, so that nothing is displayed except the prompt);\n",
    "* Execution is halted in order for the user to type her input;\n",
    "* When `Return` (a.k.a. `Enter`) is pressed, the characters typed in by the user\n",
    "  are joined to form a string which is returned as the output (after stripping\n",
    "  the trailing newline character); in particular, this string can be assigned to\n",
    "  a variable and manipulated later.\n",
    "\n",
    "__Exercise:__ Write a script that asks for a person's name and prints his/her\n",
    "name in reverse order."
   ]
  },
  {
   "cell_type": "code",
   "execution_count": null,
   "metadata": {},
   "outputs": [],
   "source": []
  },
  {
   "attachments": {},
   "cell_type": "markdown",
   "metadata": {},
   "source": [
    "### $ 1.2 $ f-strings\n",
    "\n",
    "<div class=\"alert alert-info\">To insert the <i>value</i> of a variable or of an\n",
    "expression inside a string, we can prepend the opening quotation mark with an\n",
    "<code>f</code> (or <code>F</code>), for <i>'format'</i>, and enclose the name of\n",
    "the variable or expression in curly braces <code>{}</code>. A string of this\n",
    "type is called an\n",
    "<b>f-string</b>. </div>\n",
    "\n",
    "__Example:__"
   ]
  },
  {
   "cell_type": "code",
   "execution_count": null,
   "metadata": {},
   "outputs": [
    {
     "name": "stdout",
     "output_type": "stream",
     "text": [
      "You are 23 years old!\n",
      "You have lived for at least ... 1199 weeks thus far.\n"
     ]
    }
   ],
   "source": [
    "age_str = input(\"Type your age:\\n\")   # '\\n' is the newline character.\n",
    "\n",
    "print(f\"You are {age_str} years old!\")\n",
    "\n",
    "age = int(age_str)    # Converting the input to an integer.\n",
    "# Prepend a string by an 'f' and enclose an expression in curly braces '{}'\n",
    "# to substitute its actual value:\n",
    "print(f\"You have lived for at least ... {(365 * age) // 7} weeks thus far.\")"
   ]
  },
  {
   "cell_type": "markdown",
   "metadata": {},
   "source": [
    "__Exercise:__ Continuing the preceding example, write a script that asks for a\n",
    "person's age and prints a message stating how many hours she/he has lived so\n",
    "far."
   ]
  },
  {
   "cell_type": "code",
   "execution_count": null,
   "metadata": {},
   "outputs": [],
   "source": []
  },
  {
   "attachments": {},
   "cell_type": "markdown",
   "metadata": {},
   "source": [
    "### $ 1.3 $ Common escape characters\n",
    "\n",
    "In a string, the backslash `\\` plays the role of a special character called the **escape character**. It can be used for instance to represent whitespace characters — tab `\\t`, backspace `\\b`, newline `\\n` — or to turn another special character into an ordinary character — such as a single quote `\\'`, double quote `\\\"` or the backslash itself `\\\\`. These cases are tabulated below. Note however that there are other escape combinations beyond these which we will not consider.\n",
    "\n",
    "| Code   |  Result  |\n",
    "| :----- | :------- |\n",
    "| `\\'`   | single quote (')  |\n",
    "| `\\\"`   | double quotes (\") |\n",
    "| `\\\\`   | backslash (\\\\)    |\n",
    "| `\\t`   | tab               |\n",
    "| `\\b`   | backspace         |\n",
    "| `\\n`   | new line          |\n",
    "\n",
    "⚠️ Depending on your environment, the backspace character `\\b` may only shift\n",
    "the cursor backwards by one position, but not delete anything. If this happens,\n",
    "then in order to delete the previous character and move the cursor left by one\n",
    "position one should use `\\b \\b` (two backspaces with a space in between). This\n",
    "will move the cursor left, overwrite the previous character with a space and\n",
    "move the cursor back once more.\n",
    "\n",
    "__Exercise:__ Which string is displayed in screen after each of the following strings are printed (using `print`)?\n",
    "\n",
    "(a) `'it\\'s'`\n",
    "\n",
    "(b) `\"powerfuls\\b!\"`\n",
    "\n",
    "(c) `\"magic\\tspell!\"`\n",
    "\n",
    "(d) `\"trolley\\b\\b  \"`  \n",
    "\n",
    "(e) `\"this\\nis\\ta\\ntest\"`\n",
    "\n",
    "(f) `\"\\\"3.14\\\"\"`"
   ]
  },
  {
   "cell_type": "code",
   "execution_count": null,
   "metadata": {},
   "outputs": [],
   "source": []
  },
  {
   "attachments": {},
   "cell_type": "markdown",
   "metadata": {},
   "source": [
    "## $ \\S 2 $ Conditional statements\n",
    "\n",
    "### $ 2.1 $ `if` constructs\n",
    "\n",
    "Perhaps the most important tool of high-level programming languages is the\n",
    "__conditional execution__ of code. It allows one to instruct the computer to\n",
    "examine a boolean expression (or more generally some set of such expressions)\n",
    "and to take a corresponding action depending on whether it evaluates to `True`\n",
    "or `False`.\n",
    "\n",
    "__Example (simple `if` construct):__"
   ]
  },
  {
   "cell_type": "code",
   "execution_count": null,
   "metadata": {},
   "outputs": [],
   "source": [
    "x = 2.71     # x is an approximation to e.\n",
    "y = 3.14     # y is an approximation to pi.\n",
    "z = 7\n",
    "\n",
    "if x * y > z:\n",
    "    print(\"Computing...\")\n",
    "    print(\"Result:\")\n",
    "    print(f\"The product of {x} and {y} is larger than {z}!\")"
   ]
  },
  {
   "attachments": {},
   "cell_type": "markdown",
   "metadata": {},
   "source": [
    "At the core of every `if` construct is a __conditional test__, which must be a\n",
    "_boolean expression_, that is, it must evaluate to either `True` or `False`. In\n",
    "the foregoing example, this expression is `x * y > z`.\n",
    "* If the conditional test yields `True`, then the __if-block__ defined\n",
    "  by the next level of indentation relative to the if-statement is executed.\n",
    "* If the conditional test yields `False`, then the if-block is ignored and execution continues immediately after it ends."
   ]
  },
  {
   "attachments": {},
   "cell_type": "markdown",
   "metadata": {},
   "source": [
    "__Exercise:__ Write a script that prompts the user for a word $ w $ and prints the message \"The word <word> begins with a vowel\" \n",
    "in case the initial letter of $ w $ is a vowel. _Hint:_ There are at least three options:\n",
    "\n",
    "1. Check for membership in a list (or tuple) of vowels, as in: `if w[0] in ['A', 'a', 'E', 'e', 'I', 'i', 'O', 'o', 'U', 'u']:`\n",
    "\n",
    "2. Check for membership of the letter in a string which includes all vowels, but no other character, as in: `if w[0] in \"AEIOUaeiou:\"`\n",
    "\n",
    "3. Check if the letter coincides with one of the vowels, as in: `if w[0] == 'A' or w[0] == 'a' or w[0] == 'E' or` ... . \n",
    "\n",
    "Note that Python is CaSE-seNsITivE!"
   ]
  },
  {
   "cell_type": "code",
   "execution_count": null,
   "metadata": {},
   "outputs": [],
   "source": []
  },
  {
   "attachments": {},
   "cell_type": "markdown",
   "metadata": {},
   "source": [
    "__Exercise:__ Write a script that prompts the user for a number and returns its absolute value."
   ]
  },
  {
   "cell_type": "code",
   "execution_count": null,
   "metadata": {},
   "outputs": [],
   "source": []
  },
  {
   "attachments": {},
   "cell_type": "markdown",
   "metadata": {},
   "source": [
    "<div class=\"alert alert-warning\">In Python, the body of a block or declaration is delimited by its <b>indentation</b>. Thus, in contrast to some programming languages, <i>spaces are an integral part of the syntax</i>. Although any number of spaces can be used for indentation, the most common choices are either <i>two</i> or <i>four</i> spaces. <i>Inconsistent identation may lead to an</i> <code>IndentationError</code>.</div>"
   ]
  },
  {
   "cell_type": "markdown",
   "metadata": {},
   "source": [
    "**Example (inconsistent indentation):**"
   ]
  },
  {
   "cell_type": "code",
   "execution_count": null,
   "metadata": {},
   "outputs": [
    {
     "ename": "IndentationError",
     "evalue": "unindent does not match any outer indentation level (<tokenize>, line 7)",
     "output_type": "error",
     "traceback": [
      "\u001b[0;36m  File \u001b[0;32m<tokenize>:7\u001b[0;36m\u001b[0m\n",
      "\u001b[0;31m    print(\"I will relieve my boredom by raising an indentation error.\")\u001b[0m\n",
      "\u001b[0m    ^\u001b[0m\n",
      "\u001b[0;31mIndentationError\u001b[0m\u001b[0;31m:\u001b[0m unindent does not match any outer indentation level\n"
     ]
    }
   ],
   "source": [
    "a = 2\n",
    "b = 3\n",
    "c = 4\n",
    "\n",
    "if (a - b) - c != a - (b - c):\n",
    "    print(\"Subtraction is not associative!\")\n",
    "  print(\"I will relieve my boredom by raising an indentation error.\") "
   ]
  },
  {
   "cell_type": "markdown",
   "metadata": {},
   "source": [
    "Note the use of the colon `:` after the conditional test.\n",
    "\n",
    "<div class=\"alert alert-warning\">The colon <code>:</code> <i>must</i> be used whenever one needs to <i>declare the beginning of an indented block</i>, such as after <code>if</code>, <code>else</code>, <code>for</code> or <code>while</code> statements.</div>\n",
    "\n",
    "⚠️ Note that this use of the symbol `:` has nothing to do with the slicing operator discussed in the previous notebook.\n",
    "\n",
    "\n",
    "__Nested__ if-statements are allowed (and common), that is, one may have an\n",
    "if-block inside an if-block inside another if-block and so on."
   ]
  },
  {
   "attachments": {},
   "cell_type": "markdown",
   "metadata": {},
   "source": [
    "__Exercise:__ Write a script that prompts a user for two real numbers $ x $\n",
    "and $ y $ and returns their product only when both $ x $ and $ y $ are\n",
    "positive. Do this in the following two different ways:\n",
    "\n",
    "(a) Using a single conditional test involving `and`.\n",
    "\n",
    "(b) Using two nested if-blocks."
   ]
  },
  {
   "cell_type": "code",
   "execution_count": null,
   "metadata": {},
   "outputs": [],
   "source": []
  },
  {
   "attachments": {},
   "cell_type": "markdown",
   "metadata": {},
   "source": [
    "### $ 2.2 $ `if`-`else` constructs\n",
    "\n",
    "To perform an alternative action in case a conditional test fails, one can\n",
    "include an __else-block__ after the if-block.\n",
    "\n",
    "__Example (`if`-`else` construct):__"
   ]
  },
  {
   "cell_type": "code",
   "execution_count": null,
   "metadata": {},
   "outputs": [
    {
     "name": "stdout",
     "output_type": "stream",
     "text": [
      "The value of y is -0.25\n",
      "The function y does not have a zero at x = 0\n"
     ]
    }
   ],
   "source": [
    "x = 5\n",
    "y = -99 + (259 * x / 4) - (14 * x**2) + x**3 \n",
    "\n",
    "print(f\"The value of y is {y}\")\n",
    "\n",
    "if y == 0.0:    # The following line is executed only if y is zero.\n",
    "    print(\"The function y has a zero at x = 0\")              \n",
    "else:           # The following line is executed only if y is nonzero.\n",
    "    print(f\"The function y does not have a zero at x = 0\")   "
   ]
  },
  {
   "attachments": {},
   "cell_type": "markdown",
   "metadata": {},
   "source": [
    "More formally, in an `if-else` construct we again have a conditional test which\n",
    "controls the subsequent behavior of the interpreter:\n",
    "* If the conditional test yields `True`, then the if-block defined\n",
    "  by the next level of indentation relative to the if-statement is executed,\n",
    "  and the corresponding else-block is ignored.\n",
    "* On the other hand, if the conditional test yields `False`, then the if-block\n",
    "  is ignored and only the else-block is executed."
   ]
  },
  {
   "cell_type": "markdown",
   "metadata": {},
   "source": [
    "⚠️ It is _not_ necessary to include an else-statement for every if-statement."
   ]
  },
  {
   "attachments": {},
   "cell_type": "markdown",
   "metadata": {},
   "source": [
    "__Exercise (a betting game):__ The function `randint` with arguments $ 0 $ and $ 2 $\n",
    "given in the code cell below chooses one of the two numbers $ 0 $ and $ 1 $ in\n",
    "a (pseudo-)random way.  Using this function, write a program that prompts the\n",
    "user to input either $ 0 $ or $ 1 $ and displays a win/loss message according to\n",
    "whether the guess matches the computer's choice."
   ]
  },
  {
   "cell_type": "code",
   "execution_count": 9,
   "metadata": {},
   "outputs": [
    {
     "data": {
      "text/plain": [
       "1"
      ]
     },
     "execution_count": 9,
     "metadata": {},
     "output_type": "execute_result"
    }
   ],
   "source": [
    "from numpy.random import randint\n",
    "randint(0, 2)"
   ]
  },
  {
   "attachments": {},
   "cell_type": "markdown",
   "metadata": {},
   "source": [
    "### $ 2.3 $ `if`-`elif` constructs"
   ]
  },
  {
   "attachments": {},
   "cell_type": "markdown",
   "metadata": {},
   "source": [
    "Finally, we can also expand the above constructions to admit the conditional\n",
    "execution of more than two pieces of code using an __`if`-`elif`__ __construct__.\n",
    "\n",
    "📝 \"__elif__\" is an abbreviation of \"else if\".\n",
    "\n",
    "__Example (`if`-`elif` constructs):__"
   ]
  },
  {
   "cell_type": "code",
   "execution_count": null,
   "metadata": {},
   "outputs": [
    {
     "name": "stdout",
     "output_type": "stream",
     "text": [
      "The smallest prime that divides 1999 is greater than 10.\n"
     ]
    }
   ],
   "source": [
    "n = 1999\n",
    "\n",
    "# To suppress the trailing newline character in a print statement\n",
    "# and replace it by a space, include a final argument \"end=' '\":\n",
    "print(f\"The smallest prime that divides {n} is\", end=' ')\n",
    "\n",
    "if n % 2 == 0:\n",
    "    print(2)\n",
    "elif n % 3 == 0:\n",
    "    print(3)\n",
    "elif n % 5 == 0:\n",
    "    print(5)\n",
    "elif n % 7 == 0:\n",
    "    print(7)\n",
    "else:\n",
    "    print(\"greater than 10.\")"
   ]
  },
  {
   "attachments": {},
   "cell_type": "markdown",
   "metadata": {},
   "source": [
    "<div class=\"alert alert-warning\">In an <b>if-elif</b> construct, the interpreter\n",
    "checks each conditional statement <i>in order</i>. As soon as one of these\n",
    "evaluates to <code>True</code>, the corresponding block of code is executed\n",
    "<i>and the remaining tests/blocks are skipped</i>. This is important because\n",
    "there may be more than one conditional expression which is <code>True</code>. If\n",
    "this occurs, then only the block corresponding to the <i>first</i> such\n",
    "expression will be executed.</div>\n",
    "\n",
    "__Exercise:__ Write a script that asks for the lengths of the sides of a triangle\n",
    "and which displays a message according to whether the triangle is equilateral,\n",
    "isosceles or scalene (only one message should be displayed)."
   ]
  },
  {
   "cell_type": "code",
   "execution_count": null,
   "metadata": {},
   "outputs": [],
   "source": []
  },
  {
   "attachments": {},
   "cell_type": "markdown",
   "metadata": {},
   "source": [
    "⚠️ An `if-elif` construct may contain as many elif-statements as one wants.\n",
    "Moreover, just as for a single if-statement in an `if-elif` construct, the final\n",
    "else-block is optional."
   ]
  },
  {
   "attachments": {},
   "cell_type": "markdown",
   "metadata": {},
   "source": [
    "### $ 2.4 $ Checking whether an object is an element of another one using `in`\n",
    "\n",
    "A conditional test need not be based on a comparison. We can also check whether\n",
    "some object is an element of another object having sequential type (such as\n",
    "`str`, `list` or `tuple`) using the keyword `in`.\n",
    "\n",
    "\n",
    "__Example (checking membershipin a list):__"
   ]
  },
  {
   "cell_type": "code",
   "execution_count": 17,
   "metadata": {},
   "outputs": [
    {
     "name": "stdout",
     "output_type": "stream",
     "text": [
      "Gandalf is not one of our clients.\n"
     ]
    }
   ],
   "source": [
    "# Checking whether something (in this case a string) is an element of a list:\n",
    "clients = [\"Alice\",\n",
    "           \"Bob\",\n",
    "           \"Charlotte\",\n",
    "           \"Donald\",\n",
    "           \"Edward\",\n",
    "           \"Frodo\"]\n",
    "\n",
    "name = \"Gandalf\"\n",
    "if name in clients:\n",
    "    print(f\"{name} is currently one of our clients.\")\n",
    "else:\n",
    "    print(f\"{name} is not one of our clients.\")"
   ]
  },
  {
   "attachments": {},
   "cell_type": "markdown",
   "metadata": {},
   "source": [
    "__Exercise (checking membership in a tuple):__ Given the sample of ages stored\n",
    "in a tuple in the code cell below, use `in` to write a script that checks\n",
    "whether there is a person aged $ 50 $ in the sample and displays a corresponding\n",
    "message."
   ]
  },
  {
   "cell_type": "code",
   "execution_count": 15,
   "metadata": {},
   "outputs": [],
   "source": [
    "ages = (23, 48, 37, 10, 19, 28, 92, 19, 4, 57, 14, 65, 21,\n",
    "        51, 83, 40, 7, 90, 23, 83, 54, 24, 70, 47, 53, 17)"
   ]
  },
  {
   "attachments": {},
   "cell_type": "markdown",
   "metadata": {},
   "source": [
    "__Example (checking for substrings):__"
   ]
  },
  {
   "cell_type": "code",
   "execution_count": 18,
   "metadata": {},
   "outputs": [
    {
     "name": "stdout",
     "output_type": "stream",
     "text": [
      "The text \"powerful ancient magic spells\" does not contain the letter 'b'.\n",
      "The text \"powerful ancient magic spells\" contains the substring 'power'.\n"
     ]
    }
   ],
   "source": [
    "# Checking whether a string (incl. a character) is a substring of another one:\n",
    "text = \"powerful ancient magic spells\"\n",
    "\n",
    "if \"b\" in text:\n",
    "    print(f\"The text \\\"{text}\\\" contains the letter 'b'.\")\n",
    "else:\n",
    "    print(f\"The text \\\"{text}\\\" does not contain the letter 'b'.\")\n",
    "    \n",
    "if \"magic\" in text:\n",
    "    print(f\"The text \\\"{text}\\\" contains the substring 'power'.\")\n",
    "else:\n",
    "    print(f\"The text \\\"{text}\\\" does not contain the substring 'power'.\")"
   ]
  },
  {
   "cell_type": "markdown",
   "metadata": {},
   "source": [
    "__Exercise:__ Given the list of words in the code cell below, write a script\n",
    "that prompts the user for a word and prints a different message according to\n",
    "whether it belongs to the list or not."
   ]
  },
  {
   "cell_type": "code",
   "execution_count": null,
   "metadata": {},
   "outputs": [],
   "source": [
    "words = [\"rejoice\",\n",
    "         \"demand\",\n",
    "         \"ample\",\n",
    "         \"overall\",\n",
    "         \"civilization\",\n",
    "         \"interface\",\n",
    "         \"bike\",\n",
    "         \"spy\",\n",
    "         \"infrastructure\",\n",
    "         \"spot\",\n",
    "         \"wreck\",\n",
    "         \"experiment\"]"
   ]
  },
  {
   "attachments": {},
   "cell_type": "markdown",
   "metadata": {},
   "source": [
    "## $ \\S 3 $ The `range` function\n",
    "\n",
    "Suppose that we would like to construct a list containing all integers from $ 0\n",
    "$ to $ 20 $. Instead of typing all of them one by one, we can instead use the\n",
    "`range` function, which has the syntax `range(<start (inclusive)>, <stop\n",
    "(exclusive)>, <step size>)`; here all three arguments must be integers. If the\n",
    "third argument is omitted, then the step size is set to $ 1 $ by default. Thus\n",
    "in our case, we would let:"
   ]
  },
  {
   "cell_type": "code",
   "execution_count": null,
   "metadata": {},
   "outputs": [
    {
     "name": "stdout",
     "output_type": "stream",
     "text": [
      "range(0, 21) <class 'range'>\n"
     ]
    }
   ],
   "source": [
    "numbers = range(0, 21)         # Generate integers n satisfying 0 <= n < 21.\n",
    "print(numbers, type(numbers))"
   ]
  },
  {
   "cell_type": "markdown",
   "metadata": {},
   "source": [
    "As we can see, `range` does not generate a list nor a tuple; rather, it produces\n",
    "an object of type `range`. However, we can easily convert it to the desired type\n",
    "using `list` or `tuple` afterwards:"
   ]
  },
  {
   "cell_type": "code",
   "execution_count": null,
   "metadata": {},
   "outputs": [
    {
     "name": "stdout",
     "output_type": "stream",
     "text": [
      "[0, 4, 9, 16, 36, 64, 81, 100, 144, 196, 225, 256, 324, 400] <class 'list'>\n",
      "(0, 4, 9, 16, 36, 64, 81, 100, 144, 196, 225, 256, 324, 400) <class 'tuple'>\n"
     ]
    }
   ],
   "source": [
    "numbers = list(numbers)\n",
    "print(numbers, type(numbers))\n",
    "\n",
    "numbers = tuple(numbers)\n",
    "print(numbers, type(numbers))"
   ]
  },
  {
   "attachments": {},
   "cell_type": "markdown",
   "metadata": {},
   "source": [
    "__Exercise:__ Determine the output of the following statements:\n",
    "\n",
    "(a) `list(range(1, 10))`\n",
    "\n",
    "(b) `tuple(range(11))`\n",
    "\n",
    "(c) `list(range(0, 11, 2))`\n",
    "\n",
    "(d) `list(range(0, 10, 2))`\n",
    "\n",
    "(e) `tuple(range(0, 11, -1))`\n",
    "\n",
    "(f) `tuple(range(11, 0, -1))`\n",
    "\n",
    "(g) `list(range(10, -3, -2))`\n",
    "\n",
    "(h) `list(range(1.5, 10, 1))`\n"
   ]
  },
  {
   "cell_type": "code",
   "execution_count": null,
   "metadata": {},
   "outputs": [],
   "source": []
  },
  {
   "cell_type": "markdown",
   "metadata": {},
   "source": [
    "📝 If only one argument $ n $ is provided to `range`, then the resulting object\n",
    "consists of all integers from $ 0 $ up to an including $ n - 1 $.\n",
    "\n",
    "__Example:__"
   ]
  },
  {
   "cell_type": "code",
   "execution_count": null,
   "metadata": {},
   "outputs": [
    {
     "name": "stdout",
     "output_type": "stream",
     "text": [
      "[0, 1, 2, 3, 4, 5, 6, 7, 8, 9]\n"
     ]
    }
   ],
   "source": [
    "print(list(range(10)))"
   ]
  },
  {
   "cell_type": "markdown",
   "metadata": {},
   "source": [
    "__Exercise:__ Generate:\n",
    "\n",
    "(a) A tuple consisting of all even integers from $ 0 $ to $ 20 $.\n",
    "\n",
    "(b) A list consisting of all odd integers from $ 3 $ to $ 11 $.\n",
    "\n",
    "(c) A tuple consisting of all integers between $ 1 $ and $ 50 $\n",
    "which are divisible by $ 7 $, listed in descending order."
   ]
  },
  {
   "cell_type": "code",
   "execution_count": null,
   "metadata": {},
   "outputs": [],
   "source": []
  },
  {
   "attachments": {},
   "cell_type": "markdown",
   "metadata": {},
   "source": [
    "## $ \\S 4 $ List comprehensions\n",
    "\n",
    "__Example:__ Suppose that we would like to generate a list of the _squares_ of\n",
    "all integers between $ 1 $ and $ 20 $ which are either multiples of $ 2 $ or\n",
    "multiples of $ 3 $ (or both). We can solve this problem as follows:"
   ]
  },
  {
   "cell_type": "code",
   "execution_count": null,
   "metadata": {},
   "outputs": [
    {
     "name": "stdout",
     "output_type": "stream",
     "text": [
      "[0, 4, 9, 16, 36, 64, 81, 100, 144, 196, 225, 256, 324, 400] <class 'list'>\n"
     ]
    }
   ],
   "source": [
    "numbers = [n**2 for n in range(21) if n % 2 == 0 or n % 3 == 0]\n",
    "print(numbers, type(numbers))"
   ]
  },
  {
   "attachments": {},
   "cell_type": "markdown",
   "metadata": {},
   "source": [
    "This construction is called a __list comprehension__. It is analogous\n",
    "to the notation\n",
    "$$\n",
    "\\left\\{f(x) : x \\in S\\,,\\ \\  p(x) \\text{ holds}\\right\\}\n",
    "$$\n",
    "used to describe sets in mathematics. For example:\n",
    "$$\n",
    "\\text{cubes} = \\{n^3 : n \\in \\mathbb Z\\, ,\\ \\  0 \\le n < 11\\}\n",
    "$$\n",
    "describes the set of cubes of integers between $ 0 $ and $ 10 $.\n",
    "\n",
    "The full syntax of a list comprehension is:\n",
    "`[f(x) for x in <iterable> if p(x)]`, where $ f(x) $ is any function of\n",
    "$ x $ and $ p(x) $ is some __predicate__, that is, a function of $ x $ which\n",
    "evaluates to either `True` or `False`. \n",
    "\n",
    "* If we just let $ f(x) = x $, then the list comprehension\n",
    "  `[x for x in <iterable> if p(x)]` is the result of selecting only those\n",
    "  elements of the original iterable that satisfy the predicate $ p $. This\n",
    "  operation is called __filter__.\n",
    "* The predicate is optional; if it is omitted, then the corresponding\n",
    "  list comprehension `[f(x) for x in <iterable>]` is the result of\n",
    "  applying the function $ f $ to each element of the original iterable.\n",
    "  This operation is called __map__.\n",
    "\n",
    "📝 Many programming languages support the map and filter operations in some\n",
    "way."
   ]
  },
  {
   "attachments": {},
   "cell_type": "markdown",
   "metadata": {},
   "source": [
    "__Exercise:__ Using a list comprehension, generate a list consisting of:\n",
    "\n",
    "(a) All numbers of the form $ n^2 + n + 41 $ for $ 0 \\le n < 6 $.\n",
    "\n",
    "(b) All square roots of odd integers between $ 1 $ and $ 10 $.\n",
    "\n",
    "(c) All strings in the list `[\"referral\", \"continental\", \"horseshoe\", \"know\",\n",
    "\"terrify\", \"thaw\", \"wolf\", \"medal\", \"vat\", \"stomach\", \"mosaic\", \"manual\"]`\n",
    "whose second letter comes after 'e' in the alphabet.\n",
    "\n",
    "(d) All numbers between $ 1 $ and $ 20 $ which are divisible by $ 3 $, expressed\n",
    "in binary notation (the function `bin` gives the binary representation of its\n",
    "argument, preceded by '0b'; use a slice to remove this part)."
   ]
  },
  {
   "cell_type": "code",
   "execution_count": null,
   "metadata": {},
   "outputs": [],
   "source": []
  },
  {
   "attachments": {},
   "cell_type": "markdown",
   "metadata": {},
   "source": [
    "__Exercise:__ Write a script that asks the user for a positive integer $ n $ and\n",
    "returns `True` or `False` according to whether $ n $ is prime or not. (_Hint:_\n",
    "Use a list comprehension and the `%` to obtain the list of divisors of $ n $,\n",
    "then decide if $ n $ is prime based on the length of this list.)"
   ]
  },
  {
   "cell_type": "code",
   "execution_count": null,
   "metadata": {
    "vscode": {
     "languageId": "plaintext"
    }
   },
   "outputs": [],
   "source": []
  },
  {
   "attachments": {},
   "cell_type": "markdown",
   "metadata": {},
   "source": [
    "📝 It is also possible to use list comprehensions by iterating over two or more iterables.\n",
    "\n",
    "__Example:__ Generate a list of all pairs of integers $ (m, n) $ such that  $ 1 \\le n \\le 6 $ and\n",
    "$ 1 \\le m < n $ and $ m $ divides $ n $."
   ]
  },
  {
   "cell_type": "code",
   "execution_count": 9,
   "metadata": {},
   "outputs": [
    {
     "name": "stdout",
     "output_type": "stream",
     "text": [
      "[(1, 2), (1, 3), (1, 4), (2, 4), (1, 5), (1, 6), (2, 6), (3, 6)]\n"
     ]
    }
   ],
   "source": [
    "answer = [(m, n) for n in range(1, 7) for m in range(1, n) if n % m == 0]\n",
    "print(answer)"
   ]
  },
  {
   "attachments": {},
   "cell_type": "markdown",
   "metadata": {},
   "source": [
    "__Exercise:__ Using a list comprehension, create a list of all pairs $ (x, y) $ such that:\n",
    "* $ x $ and $ y $ are integers, $ 0 \\le x < 5 $ and $ 0 \\le y < x $.\n",
    "* $ x^y > y^x $."
   ]
  },
  {
   "cell_type": "code",
   "execution_count": null,
   "metadata": {},
   "outputs": [],
   "source": []
  }
 ],
 "metadata": {
  "kernelspec": {
   "display_name": "Python 3",
   "language": "python",
   "name": "python3"
  },
  "language_info": {
   "codemirror_mode": {
    "name": "ipython",
    "version": 3
   },
   "file_extension": ".py",
   "mimetype": "text/x-python",
   "name": "python",
   "nbconvert_exporter": "python",
   "pygments_lexer": "ipython3",
   "version": "3.10.10"
  },
  "orig_nbformat": 4
 },
 "nbformat": 4,
 "nbformat_minor": 2
}
