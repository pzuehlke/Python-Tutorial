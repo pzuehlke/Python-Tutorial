{
 "cells": [
  {
   "attachments": {},
   "cell_type": "markdown",
   "id": "b6f1b490",
   "metadata": {},
   "source": [
    "# Functions and modules\n",
    "\n",
    "## $ \\S 1 $ Functions/procedures\n",
    "\n",
    "### $ 1.1 $ What is a procedure/function?\n",
    "\n",
    "In the context of programming languages, a __procedure__ is a collection of\n",
    "instructions to be performed by the computer to accomplish a given task,\n",
    "packaged as a unit. Procedures are also called __functions__ or __subroutines__.\n",
    "\n",
    "__Examples:__ We may implement procedures to perform the following tasks:\n",
    "* Take a positive real number (more precisely, a floating-point number) as\n",
    "  argument and return an approximation to its square root;\n",
    "* Take a positive integer as input and decide whether it is prime;\n",
    "* Take two strings (representing a person's bank account ID and password)\n",
    "  and a float (representing an amount to be deposited in that account) as\n",
    "  arguments and, if the password matches that associated with the client's\n",
    "  as stored in a database, decrements the client's balance by that amount.\n",
    "* Take a matrix having, say, complex entries, and return its inverse (if it\n",
    "  exists);\n",
    "* Simulate $ 1000 $ dice rolls and display the results in the form of a\n",
    "  histogram;\n",
    "* Take a list of points in the plane and find the line that best fits\n",
    "  them.\n",
    "\n",
    "The term \"procedure\" may provide a clearer understanding of the concept than\n",
    "\"function\", which might evoke comparisons with the traditional functions found\n",
    "in mathematics (e.g., real functions of a real variable). However, the notion of\n",
    "a procedure is more general. The difference stems from the fact that a\n",
    "procedure (in Python and most other languages) can interact with and modify\n",
    "objects outside of its scope. Procedures exhibiting this behavior are said to\n",
    "have __side effects__. For instance, the most fitting mathematical\n",
    "representation of a procedure that takes no input and returns no output would be\n",
    "the (unique) function from the empty set to the empty set. In contrast, in\n",
    "Python, there are *infinitely many* such procedures, such as those that print a\n",
    "message or a random number to the screen, modify the value of a global variable,\n",
    "enter an infinite loop, take input from the user, write to a file, raise an\n",
    "error, and so on. Each of these procedures alters the state of the program, even\n",
    "though they take no input and produce no output. It is also worth noting that\n",
    "while mathematical functions consistently yield the same result when applied to\n",
    "the same arguments, this may not be true for a procedure with side effects.\n",
    "Regrettably, despite the potential ambiguity that the term \"function\" may\n",
    "cause in this context, its use as a synonym for \"procedure\" is widespread.\n",
    "\n",
    "📝 In the __functional programming (FP)__ paradigm, programs are structured as a\n",
    "series of function definitions, with tasks being accomplished through their\n",
    "composition. As a best practice, each function should ideally perform a single\n",
    "task. An important design principle in this context is\n",
    "the use of __abstraction barriers__: one should be able to use a function\n",
    "without knowing its implementation details. That is, programs should be\n",
    "organized so that the only relevant information for using a given function is\n",
    "its required input and corresponding output, rather than _how_ this output is\n",
    "obtained. In particular, functions having side effects should be avoided, or at\n",
    "least restricted to the edges of the program. The absence of side effects\n",
    "simplifies the process of verifying that a program operates as intended and\n",
    "analyzing its behavior."
   ]
  },
  {
   "attachments": {},
   "cell_type": "markdown",
   "id": "0a138989",
   "metadata": {},
   "source": [
    "### $ 1.2 $ Defining a function with `def`\n",
    "\n",
    "In order to use a function of our own, we must first __define__ (or __declare__\n",
    "or __create__) it using `def`.\n",
    "\n",
    "__Example:__ Define a function that approximates square roots of real\n",
    "numbers using Heron's method. To compute the square root of $ x > 0 $, start with\n",
    "an initial estimate of $ 1 $. Then, iterate using the following rule: update the\n",
    "estimate by calculating the arithmetic mean of $ s + \\frac{x}{s} $, where $ s $\n",
    "is the current estimate. In symbols,\n",
    "$$\n",
    "    s  \\leftarrow \\frac{1}{2}\\bigg(s + \\frac{x}{s}\\bigg)\\,.\n",
    "$$"
   ]
  },
  {
   "cell_type": "code",
   "execution_count": 15,
   "id": "bbda3cd7",
   "metadata": {},
   "outputs": [],
   "source": [
    "def square_root(x, eps):\n",
    "    \"\"\"\n",
    "    Computes an approximation to the square root of a positive number 'x' within\n",
    "    a precision of 'eps', using Heron's method:\n",
    "        1. Denote the square root by s;\n",
    "        2. Take any positive initial guess for its value, say s = 1;\n",
    "        3. Let the new value of s be the average of s and x / s;\n",
    "        4. Iterate on step 3 until the error is at most eps.\n",
    "    \"\"\"\n",
    "    s = 1\n",
    "    while abs(s**2 - x) > eps:      # While the error is large:\n",
    "        s = (s + (x / s)) / 2 \n",
    "        \n",
    "    return s"
   ]
  },
  {
   "cell_type": "code",
   "execution_count": 16,
   "id": "ac7524c9",
   "metadata": {},
   "outputs": [
    {
     "name": "stdout",
     "output_type": "stream",
     "text": [
      "1.4142156862745097\n",
      "4.000000636692939\n",
      "4.000000000000051\n"
     ]
    }
   ],
   "source": [
    "eps = 1e-5       # eps is 10 to the -5.\n",
    "# Call square_root with arguments 2 and eps:\n",
    "print(square_root(2, eps))      \n",
    "# Call square_root with arguments 16 and eps:\n",
    "print(square_root(16, eps))         \n",
    "# Call square_root with arguments 1/100 and eps squared:\n",
    "print(square_root(16, eps**2))      "
   ]
  },
  {
   "cell_type": "markdown",
   "id": "6f76d069",
   "metadata": {},
   "source": [
    "In summary, here is the syntax of a function defintion in Python:"
   ]
  },
  {
   "cell_type": "code",
   "execution_count": null,
   "id": "c1fa00c7",
   "metadata": {},
   "outputs": [],
   "source": [
    "def <function_name>(<parameters>):\n",
    "    \"\"\"<docstring>\"\"\"\n",
    "    # Function block: statements to be executed\n",
    "    # each time the function is called.\n",
    "    return <output>\n",
    "\n",
    "\n",
    "# Code outside of the function definition."
   ]
  },
  {
   "attachments": {},
   "cell_type": "markdown",
   "id": "3cd96130",
   "metadata": {},
   "source": [
    "Here is a more detailed description of the syntax of function definitions:\n",
    "* Indentation is used to delimit the block containing the definition.\n",
    "  In the first line of the declaration, called the __signature__ of the\n",
    "  function, we introduce the name to be given to the function (in this case,\n",
    "  `square_root`) and names for its __parameters__, i.e., the variables (in this\n",
    "  case, `x` and `eps`) that will store the values, called __arguments__, to be\n",
    "  passed by a user of the function in any specific call. The parameters are\n",
    "  enclosed by parentheses and separated by commas.\n",
    "* This first line should be ended by a *colon* `:` .\n",
    "* Immediately below the first line, enclosed in __triple quotes__ `\"\"\"`, we\n",
    "  provide a concise description of the function, called its __docstring__. This\n",
    "  description is optional, but highly recommended. It can include information\n",
    "  such as:\n",
    "    * The types of the inputs and outputs;\n",
    "    * The task that the function performs;\n",
    "    * Details about its implementation, such as an estimate of the amount\n",
    "      of resources (time or memory) required as a function of the\n",
    "      parameters;\n",
    "    * Any other information that may be helpful to someone who needs to use the\n",
    "      function.\n",
    "* To __call__ (i.e., apply) a function $ f $ on arguments $ a, b, c, \\dots, z $,\n",
    "  the notation is: `f(a, b, c, ..., z)`. This will make the interpreter actually\n",
    "  run the code in the function declaration, with the specific values associated\n",
    "  with these arguments substituted for the parameters."
   ]
  },
  {
   "attachments": {},
   "cell_type": "markdown",
   "id": "88c92fad",
   "metadata": {},
   "source": [
    "__Exercise:__ Consider the function\n",
    "$$\n",
    "g \\colon [0, 1] \\to [0, 1]\\,, \\quad g(x) = 4x(1 - x)\\,.\n",
    "$$\n",
    "\n",
    "(a) Create a Python function (procedure) that, given $ x $, computes\n",
    "$$\n",
    "\\underbrace{g \\circ g \\circ \\cdots \\circ g}_{10\\text{ times}} (x)\\,,\n",
    "$$\n",
    "that is, the result of iterating the application of $ g $ a total\n",
    "of $ 10 $ times, with an initial argument $ x $ between $ 0 $ and $ 1 $ provided\n",
    "by the user. _Hint:_ Use a `for` loop and update the value of $ x $ in each\n",
    "iteration. \n",
    "\n",
    "(b) Call your function on the following arguments: $ 1 $, $ \\frac{1}{3} $, $ 0.25 $, $ 0.251 $ and $ 0.2501 $."
   ]
  },
  {
   "cell_type": "code",
   "execution_count": null,
   "id": "41683d09",
   "metadata": {},
   "outputs": [],
   "source": []
  },
  {
   "attachments": {},
   "cell_type": "markdown",
   "id": "2730edc1",
   "metadata": {},
   "source": [
    "<div class=\"alert alert-info\">\n",
    "<ul><li> A function may have any finite number of parameters, including zero. In\n",
    "the latter case, the declaration of a such a function $ f $ would be <code>def\n",
    "f():</code> ...</li>\n",
    "<li> The parameters of a function may be of any type at all, and distinct\n",
    "parameters may have distinct types. For instance, a parameter may be a list, a\n",
    "tuple, another function, a list of functions, etc..\n",
    "<li> The names of the parameters have a scope which is <i>local</i> to the block\n",
    "of the definition.  In particular, the same name $ x $ may store completely\n",
    "different values of different types inside and outside the definition of a given\n",
    "function.\n",
    "<li> <code>return</code> statements are optional. If no such statement appears\n",
    "in the body, then the function returns <code>None</code> by default.\n",
    "<li> To improve legibility, it is recommended that a function definition be\n",
    "separated by exactly <i>two</i> blank lines from the surrounding code, and that\n",
    "all function definitions in a script be grouped together at the beginning.\n",
    "</ul></div>"
   ]
  },
  {
   "cell_type": "markdown",
   "id": "92cf6239",
   "metadata": {},
   "source": [
    "**Example:** What is the type of a function?"
   ]
  },
  {
   "cell_type": "code",
   "execution_count": 5,
   "id": "74b4ef76",
   "metadata": {},
   "outputs": [
    {
     "name": "stdout",
     "output_type": "stream",
     "text": [
      "<class 'function'>\n",
      "<class 'function'>\n",
      "Help on function get_sum in module __main__:\n",
      "\n",
      "get_sum(x, y)\n",
      "    Takes two numerical values and returns their sum.\n",
      "\n"
     ]
    }
   ],
   "source": [
    "def constant():\n",
    "    \"\"\" A constant function which takes the value 1 for any argument. \"\"\"\n",
    "    return 1\n",
    "\n",
    "\n",
    "def get_sum(x, y):\n",
    "    \"\"\" Takes two numerical values and returns their sum. \"\"\"\n",
    "    return x + y\n",
    "\n",
    "\n",
    "print(type(constant))\n",
    "print(type(get_sum))\n",
    "# To print the signature and docstring of the function, use the command 'help':\n",
    "help(get_sum)"
   ]
  },
  {
   "attachments": {},
   "cell_type": "markdown",
   "id": "00f46f56",
   "metadata": {},
   "source": [
    "__Exercise:__ Create a function as specified in each item below. Before actually\n",
    "writing the definition, think about how many parameters there are, what their\n",
    "types are, and what the type of the output should be.\n",
    "\n",
    "(a) A function `greet` that takes a name as argument and prints a greeting\n",
    "message, such as \"My name's Forrest Gump, people call me Forrest Gump\".\n",
    "_Hint:_ To print the name inside the greeting message, use an f-string.\n",
    "\n",
    "(b) A function `circle_area` that takes the radius of a circle as argument\n",
    "and returns its area.\n",
    "\n",
    "(c) A function `is_odd` that takes an integer and returns `True` or `False`\n",
    "according to whether the number is or is not odd, respectively.\n",
    "\n",
    "(d) A function `reverse_str` that takes a string and returns the same string in\n",
    "the reversed order. _Hint:_ Use `s[::-1]` or the keyword `reversed(s)` to produce\n",
    "the reversed string.\n",
    "\n",
    "(e) A function `average` that takes a list of real numbers and returns their\n",
    "average (arithmetic mean).\n",
    "\n",
    "(f) A function `roll_dice` which takes no arguments and returns an integer\n",
    "between $ 3 $ and $ 18 $ which is the result of rolling three six-sided\n",
    "die. _Hint:_ Include the statement\n",
    "`from numpy.random import randint` and use `randint(1, 7)` to simulate\n",
    "a single die being rolled.\n"
   ]
  },
  {
   "cell_type": "code",
   "execution_count": null,
   "id": "74f4da8f",
   "metadata": {},
   "outputs": [],
   "source": []
  },
  {
   "attachments": {},
   "cell_type": "markdown",
   "id": "7050b417",
   "metadata": {},
   "source": [
    "⚠️ Here are some examples showing how the scope of a variable in a function\n",
    "declaration is _local_, not _global_, by default.\n",
    "\n",
    "__Example:__"
   ]
  },
  {
   "cell_type": "code",
   "execution_count": 2,
   "id": "23ac1e43",
   "metadata": {},
   "outputs": [
    {
     "name": "stdout",
     "output_type": "stream",
     "text": [
      "10\n"
     ]
    }
   ],
   "source": [
    "x = 1         # Create a variable and assign the value 10 to it.\n",
    "\n",
    "def fun():\n",
    "    x = 2     # This variable x has nothing to do with the variable\n",
    "              # having the same name outside the function declaration.\n",
    "\n",
    "\n",
    "fun()         # Calling the function.\n",
    "print(x)      # Note how the value of x has not been changed!"
   ]
  },
  {
   "cell_type": "markdown",
   "id": "97d71ad5",
   "metadata": {},
   "source": [
    "__Example:__"
   ]
  },
  {
   "cell_type": "code",
   "execution_count": 12,
   "id": "255db0e9",
   "metadata": {},
   "outputs": [
    {
     "ename": "NameError",
     "evalue": "name 'num' is not defined",
     "output_type": "error",
     "traceback": [
      "\u001b[0;31m---------------------------------------------------------------------------\u001b[0m",
      "\u001b[0;31mNameError\u001b[0m                                 Traceback (most recent call last)",
      "Cell \u001b[0;32mIn[12], line 7\u001b[0m\n\u001b[1;32m      3\u001b[0m     num \u001b[39m=\u001b[39m \u001b[39m2\u001b[39m    \u001b[39m# Modify the value of x.\u001b[39;00m\n\u001b[1;32m      6\u001b[0m other_function()\n\u001b[0;32m----> 7\u001b[0m \u001b[39mprint\u001b[39m(num)     \n\u001b[1;32m      8\u001b[0m \u001b[39m# Since the scope was only local, the interpreter doesn't know what\u001b[39;00m\n\u001b[1;32m      9\u001b[0m \u001b[39m# 'num' means once the function call is terminated.\u001b[39;00m\n",
      "\u001b[0;31mNameError\u001b[0m: name 'num' is not defined"
     ]
    }
   ],
   "source": [
    "def other_function():\n",
    "    num = 1    # Create a (local) variable x and store the value 1 in it.\n",
    "    num = 2    # Modify the value of x.\n",
    "\n",
    "\n",
    "other_function()\n",
    "print(num)     \n",
    "# Since the scope of definition of 'num' is local the function, the interpreter\n",
    "# doesn't know what it means once the function call is terminated."
   ]
  },
  {
   "attachments": {},
   "cell_type": "markdown",
   "id": "808cfcf5",
   "metadata": {},
   "source": [
    "If we _do_ want to modify the value of a variable which is outside the scope of\n",
    "a function, we can use the keyword `global`. This will tell the interpreter that\n",
    "we would like to work with a global variable and that any changes to its value\n",
    "should persist after the call to the function ends.\n",
    "\n",
    "__Example:__"
   ]
  },
  {
   "cell_type": "code",
   "execution_count": 3,
   "id": "909f0cdf",
   "metadata": {},
   "outputs": [
    {
     "name": "stdout",
     "output_type": "stream",
     "text": [
      "20\n"
     ]
    }
   ],
   "source": [
    "x = 1         # Create a variable and assign the value 10 to it.\n",
    "\n",
    "def fun():\n",
    "    global x  # Telling the interpreter that we are referring to the x above.\n",
    "    x = 2     # Now any changes to the value stored in x will persist.\n",
    "\n",
    "\n",
    "fun()         # Calling the function.\n",
    "print(x)      # Note how the value of x _has_ been changed."
   ]
  },
  {
   "attachments": {},
   "cell_type": "markdown",
   "id": "fc3768c3",
   "metadata": {},
   "source": [
    "## $ \\S 2 $ Type annotations"
   ]
  },
  {
   "attachments": {},
   "cell_type": "markdown",
   "id": "094cfeff",
   "metadata": {},
   "source": [
    "### $ 2.1 $ Annotating the types of variables\n",
    "\n",
    "Even though the Python interpreter can infer the type of an object based on\n",
    "its value, it is sometimes desirable, for the sake of clarity, to indicate this\n",
    "type explicitly in the code. This can be done by a __type annotation__, as in\n",
    "the following example. Note however that these type annotations are ignored by\n",
    "the interpreter. In particular,\n",
    "_they may not match the actual type of the arguments passed by a user_.\n",
    "\n",
    "__Example:__"
   ]
  },
  {
   "cell_type": "code",
   "execution_count": 13,
   "id": "20e08301",
   "metadata": {},
   "outputs": [
    {
     "name": "stdout",
     "output_type": "stream",
     "text": [
      "2.0 <class 'float'>\n",
      "some random string <class 'str'>\n"
     ]
    }
   ],
   "source": [
    "x: float = 2.0        # Assign 2.0 to x and annotate its type as 'int'.\n",
    "y: str = \"some random string\"  \n",
    "\n",
    "print(x, type(x))\n",
    "print(y, type(y))"
   ]
  },
  {
   "attachments": {},
   "cell_type": "markdown",
   "id": "6ec85f05",
   "metadata": {},
   "source": [
    "__Example:__ Incorrect annotations are also allowed:"
   ]
  },
  {
   "cell_type": "code",
   "execution_count": 9,
   "id": "9f419c4f",
   "metadata": {},
   "outputs": [
    {
     "name": "stdout",
     "output_type": "stream",
     "text": [
      "3.1415 <class 'float'>\n"
     ]
    }
   ],
   "source": [
    "z: int = 3.1415\n",
    "# In the definition of z, we (incorrectly!) annotated the type of z\n",
    "# as being 'int' even though it is actually a float:\n",
    "print(z, type(z))"
   ]
  },
  {
   "attachments": {},
   "cell_type": "markdown",
   "id": "c103e2c2",
   "metadata": {},
   "source": [
    "### $ 2.2 $ Annotating the type of parameters and return values of functions\n",
    "\n",
    "We can also annotate the types of the parameter(s) and return value(s) of a function using the syntax in the following example.\n",
    "\n",
    "<a name=\"1.3\"></a>__Example:__ Let us define a function that converts\n",
    "temperatures in Fahrenheit ($ T_F $) to temperatures in Kelvin ($ T_K$). The\n",
    "formula for the conversion is: \n",
    "\n",
    "$$ T_K = \\frac{5}{9}\\, \\big(T_F - 32\\big) + 273.15 $$"
   ]
  },
  {
   "cell_type": "code",
   "execution_count": 13,
   "id": "4bbb1be8",
   "metadata": {},
   "outputs": [
    {
     "name": "stdout",
     "output_type": "stream",
     "text": [
      "The freezing point of water is 273.15 K.\n",
      "The boiling point of water is 373.15 K.\n"
     ]
    }
   ],
   "source": [
    "def fahr_to_kelvin(temp_F: float) -> float:\n",
    "    \"\"\"\n",
    "    A function that converts a temperature  temp_F measured in Fahrenheit\n",
    "    degrees (F) to its equivalent value in Kelvin (K).\n",
    "    \"\"\"\n",
    "    return (5 / 9) * (temp_F - 32) + 273.15\n",
    "\n",
    "\n",
    "# Note the optional type annotation for the parameter temp_F and\n",
    "# for the return type (after the arrow '->').\n",
    "\n",
    "# The freezing point of water is 32 F:\n",
    "freezing_temp_K = fahr_to_kelvin(32)\n",
    "print(f\"The freezing point of water is {freezing_temp_K} K.\")\n",
    "\n",
    "# The boiling temperature of water is 212 F:\n",
    "boiling_temp_K = fahr_to_kelvin(212)\n",
    "print(f\"The boiling point of water is {boiling_temp_K} K.\")"
   ]
  },
  {
   "cell_type": "markdown",
   "id": "b22bc85b",
   "metadata": {},
   "source": [
    "The formula for converting a temperature $ T_K $ measured in Kelvin to its equivalent $ T_C $ measured in Celsius is even simpler:\n",
    "$$ T_C = T_K - 273.15 $$\n",
    "\n",
    "**Example:**"
   ]
  },
  {
   "cell_type": "code",
   "execution_count": 14,
   "id": "323d0048",
   "metadata": {},
   "outputs": [],
   "source": [
    "def kelvin_to_celsius(temp_K: float) -> float:\n",
    "    \"\"\"\n",
    "    A function that converts a temperature temp_K measured in Kelvin (K) to its\n",
    "    equivalent value in Celsius (C) degrees.\n",
    "    \"\"\"\n",
    "    return temp_K - 273.15"
   ]
  },
  {
   "attachments": {},
   "cell_type": "markdown",
   "id": "beb05daf",
   "metadata": {},
   "source": [
    "## $ \\S 3 $ Examples and exercises\n",
    "\n",
    "### $ 3.1 $ Testing whether a number is prime\n",
    "\n",
    "__Example:__ Let us write a function that decides whether an integer $ n \\ge 2 $ is prime or not."
   ]
  },
  {
   "cell_type": "code",
   "execution_count": 2,
   "id": "90068169",
   "metadata": {
    "scrolled": true
   },
   "outputs": [
    {
     "name": "stdout",
     "output_type": "stream",
     "text": [
      "True\n",
      "False\n",
      "True\n",
      "True\n",
      "True\n",
      "False\n"
     ]
    }
   ],
   "source": [
    "def is_prime(n: int) -> bool:\n",
    "    \"\"\"\n",
    "    Decides whether a positive integer n is prime or not by testing if it is\n",
    "    divisible by some integer between 2 and n - 1.\n",
    "    \"\"\"\n",
    "    for k in range(2, n):\n",
    "        if n % k == 0:      # If k >= 2 is a divisor of n:\n",
    "            return False\n",
    "        else:\n",
    "            continue\n",
    "    return True\n",
    "\n",
    "\n",
    "print(is_prime(2))\n",
    "print(is_prime(6))\n",
    "print(is_prime(19))\n",
    "print(is_prime(199))\n",
    "print(is_prime(1999))\n",
    "print(is_prime(19999))"
   ]
  },
  {
   "attachments": {},
   "cell_type": "markdown",
   "id": "4928e95e",
   "metadata": {},
   "source": [
    "__Exercise:__ Is the `continue` statement really necessary in the preceding example?"
   ]
  },
  {
   "cell_type": "code",
   "execution_count": null,
   "id": "533e9731",
   "metadata": {},
   "outputs": [],
   "source": []
  },
  {
   "attachments": {},
   "cell_type": "markdown",
   "id": "66f94d16",
   "metadata": {},
   "source": [
    "__Exercise:__ Modify the function `is_prime` so that it tests whether $ n $ is\n",
    "divisible by $ 2 $ and by every _odd_ number between $ 3 $ and $ n - 1 $. Why is\n",
    "this sufficient to guarantee that $ n $ is prime? By how much, approximately,\n",
    "does this reduce the computation that needs to be carried out?"
   ]
  },
  {
   "cell_type": "code",
   "execution_count": null,
   "id": "1dfe19a4",
   "metadata": {},
   "outputs": [],
   "source": []
  },
  {
   "attachments": {},
   "cell_type": "markdown",
   "id": "fc37b2f1",
   "metadata": {},
   "source": [
    "__Exercise:__ \n",
    "\n",
    "(a) Write a function `smallest_divisor` which computes the smallest divisor\n",
    "    $ k \\ge 2 $ of a positive integer $ n \\ge 2 $.\n",
    "\n",
    "(b) Use `smallest_divisor` to redefine `is_prime`. _Hint:_ A positive integer\n",
    "    $ n $ is prime if and only if its smallest divisor $ \\ge 2 $ equals $ n $.\n",
    "\n",
    "(c) Write a function which takes a positive integer $ n $ as argument and\n",
    "    prints a message stating that $ n $ is or is not prime, and in the latter\n",
    "    case also prints its smallest divisor $ \\ge 2 $. What is the return type\n",
    "    of this function?"
   ]
  },
  {
   "cell_type": "code",
   "execution_count": null,
   "id": "5cb33f27",
   "metadata": {},
   "outputs": [],
   "source": []
  },
  {
   "attachments": {},
   "cell_type": "markdown",
   "id": "2235b953",
   "metadata": {},
   "source": [
    "__Exercise:__ Regarding your implementation of `is_prime`:\n",
    "\n",
    "(a) What happens if you try to determine whether $ 1 $, $ 0 $ are\n",
    "prime? \n",
    "\n",
    "(b) Which negative numbers are prime according to it?\n",
    "\n",
    "(c) What happens if you pass a float or a complex number as an argument?"
   ]
  },
  {
   "cell_type": "code",
   "execution_count": null,
   "id": "7563a4e6",
   "metadata": {},
   "outputs": [],
   "source": []
  },
  {
   "attachments": {},
   "cell_type": "markdown",
   "id": "221f56b6",
   "metadata": {},
   "source": [
    "### $ 3.2 $ The `assert` statement"
   ]
  },
  {
   "attachments": {},
   "cell_type": "markdown",
   "id": "8dd05175",
   "metadata": {},
   "source": [
    "In order to debug, test or catch unexpected behavior in a piece of code before\n",
    "it occurs, Python provides the `assert` statement."
   ]
  },
  {
   "cell_type": "markdown",
   "id": "48bd1578",
   "metadata": {},
   "source": [
    "**Example**: Let us modify the definition of `is_prime` so that it checks whether its argument is indeed an integer $ \\ge 2 $ before actually computing anything.<a name=\"prime\"></a>"
   ]
  },
  {
   "cell_type": "code",
   "execution_count": 7,
   "id": "dfbb0e21",
   "metadata": {},
   "outputs": [],
   "source": [
    "def is_prime(n: int) -> bool:\n",
    "    \"\"\"Decides whether an integer n is prime or not by testing\n",
    "    if it is divisible by some integer between 2 and n - 1.\"\"\"\n",
    "    assert isinstance(n, int)\n",
    "    assert n >= 2, f\"The argument {n} is not >= 2!\"\n",
    "    # The string and the comma preceding it are _optional_.\n",
    "    \n",
    "    for k in range(2, n):\n",
    "        if n % k == 0:\n",
    "            print(f\"{n} is divisible by {k}, hence it is not prime!\")\n",
    "            return False\n",
    "        else:\n",
    "            continue\n",
    "    return True"
   ]
  },
  {
   "cell_type": "code",
   "execution_count": 19,
   "id": "c45ef26e",
   "metadata": {},
   "outputs": [
    {
     "data": {
      "text/plain": [
       "True"
      ]
     },
     "execution_count": 19,
     "metadata": {},
     "output_type": "execute_result"
    }
   ],
   "source": [
    "is_prime(-1)"
   ]
  },
  {
   "cell_type": "code",
   "execution_count": 18,
   "id": "37045167",
   "metadata": {
    "scrolled": true
   },
   "outputs": [
    {
     "ename": "TypeError",
     "evalue": "'float' object cannot be interpreted as an integer",
     "output_type": "error",
     "traceback": [
      "\u001b[0;31m---------------------------------------------------------------------------\u001b[0m",
      "\u001b[0;31mTypeError\u001b[0m                                 Traceback (most recent call last)",
      "Cell \u001b[0;32mIn[18], line 1\u001b[0m\n\u001b[0;32m----> 1\u001b[0m is_prime(\u001b[39m3.14\u001b[39;49m)\n",
      "Cell \u001b[0;32mIn[17], line 6\u001b[0m, in \u001b[0;36mis_prime\u001b[0;34m(n)\u001b[0m\n\u001b[1;32m      1\u001b[0m \u001b[39mdef\u001b[39;00m \u001b[39mis_prime\u001b[39m(n: \u001b[39mint\u001b[39m) \u001b[39m-\u001b[39m\u001b[39m>\u001b[39m \u001b[39mbool\u001b[39m:\n\u001b[1;32m      2\u001b[0m     \u001b[39m\"\"\"\u001b[39;00m\n\u001b[1;32m      3\u001b[0m \u001b[39m    Decides whether a positive integer n is prime or not by testing if it is\u001b[39;00m\n\u001b[1;32m      4\u001b[0m \u001b[39m    divisible by some integer between 2 and n - 1.\u001b[39;00m\n\u001b[1;32m      5\u001b[0m \u001b[39m    \"\"\"\u001b[39;00m\n\u001b[0;32m----> 6\u001b[0m     \u001b[39mfor\u001b[39;00m k \u001b[39min\u001b[39;00m \u001b[39mrange\u001b[39;49m(\u001b[39m2\u001b[39;49m, n):\n\u001b[1;32m      7\u001b[0m         \u001b[39mif\u001b[39;00m n \u001b[39m%\u001b[39m k \u001b[39m==\u001b[39m \u001b[39m0\u001b[39m:           \u001b[39m# If k >= 2 is a divisor of n:\u001b[39;00m\n\u001b[1;32m      8\u001b[0m             \u001b[39mreturn\u001b[39;00m \u001b[39mFalse\u001b[39;00m\n",
      "\u001b[0;31mTypeError\u001b[0m: 'float' object cannot be interpreted as an integer"
     ]
    }
   ],
   "source": [
    "is_prime(3.14)"
   ]
  },
  {
   "attachments": {},
   "cell_type": "markdown",
   "id": "21c91d47",
   "metadata": {},
   "source": [
    "📝 The syntax of an assert-statement is thus: `assert <conditional_test>, <error_message>` , where:\n",
    "* `conditional_test` must be a Boolean expression;\n",
    "* `error_message` is an _optional_ string (possibly an f-string, as in the\n",
    "  example).\n",
    "\n",
    "If the conditional test evaluates to `True`, then the interpreter simply\n",
    "proceeds to the next line. Otherwise, execution is halted and an\n",
    "`AssertionError` is raised, with the optional error message also being displayed\n",
    "in case it had been specified."
   ]
  },
  {
   "attachments": {},
   "cell_type": "markdown",
   "id": "ab2d435b",
   "metadata": {},
   "source": [
    "## $ \\S 4 $ Function composition\n",
    "\n",
    "In a previous section we defined two procedures:\n",
    "* A function `fahr_to_kelvin` which converts from Fahrenheit to Kelvin;\n",
    "* A function `kelvin_to_celsius` which converts from Kelvin to Celsius.\n",
    "\n",
    "We may now easily obtain a function which converts from Fahrenheit to Celsius by\n",
    "__composition__ of these two, just as in the context of Mathematics.\n",
    "\n",
    "__Example__:"
   ]
  },
  {
   "cell_type": "code",
   "execution_count": 10,
   "id": "78fc47b0",
   "metadata": {},
   "outputs": [
    {
     "name": "stdout",
     "output_type": "stream",
     "text": [
      "0.0\n",
      "100.0\n"
     ]
    }
   ],
   "source": [
    "def fahr_to_celsius(temp_F: float) -> float:\n",
    "    return kelvin_to_celsius(fahr_to_kelvin(temp_F))\n",
    "\n",
    "\n",
    "# The freezing point of water is 32 F:\n",
    "freezing_temp_C = fahr_to_celsius(32)\n",
    "print(freezing_temp_C)\n",
    "\n",
    "# The boiling temperature of water is 212 F:\n",
    "boiling_temp_C = fahr_to_celsius(212)\n",
    "print(boiling_temp_C)"
   ]
  },
  {
   "attachments": {},
   "cell_type": "markdown",
   "id": "9d62cb99",
   "metadata": {},
   "source": [
    "__Exercise__: Implement a function which, given integers $ a $ and $ b $:\n",
    "\n",
    "(a) Returns the sum of all integers $ n $ satisfying $ a \\le n \\le b $.\n",
    "\n",
    "(b) Does the same for their product."
   ]
  },
  {
   "cell_type": "code",
   "execution_count": null,
   "id": "1e7790e8",
   "metadata": {},
   "outputs": [],
   "source": []
  },
  {
   "attachments": {},
   "cell_type": "markdown",
   "id": "144e9639",
   "metadata": {},
   "source": [
    "__Exercise__: Define (and test) a function that, given $ N > 0 $, computes the\n",
    "sum of the cubes of all positive numbers between $ 1 $ and $ N $\n",
    "(including $ 1 $ and $ N $) in the following three ways:\n",
    "\n",
    "(a) By storing the partial sums in a variable which is incremented in turn.\n",
    "\n",
    "(b) By storing the values of the cubes in a list, and then taking its `sum`.\n",
    "\n",
    "(c) By using a list comprehension."
   ]
  },
  {
   "cell_type": "code",
   "execution_count": null,
   "id": "92d010ea",
   "metadata": {},
   "outputs": [],
   "source": []
  },
  {
   "attachments": {},
   "cell_type": "markdown",
   "id": "8839c4ce",
   "metadata": {},
   "source": [
    "__Exercise__: Implement a function which, given a positive integer $ N $,\n",
    "returns the list of all prime numbers $ \\le N $. _Hint:_ First define a function\n",
    "`is_prime` which decides whether an individual number is prime. "
   ]
  },
  {
   "cell_type": "code",
   "execution_count": null,
   "id": "d15ef9b7",
   "metadata": {},
   "outputs": [],
   "source": []
  },
  {
   "cell_type": "markdown",
   "id": "61449ca9",
   "metadata": {},
   "source": [
    "**Exercise**: Revise the functions that you created to solve the preceding exercises so that they include useful `assert` statements."
   ]
  },
  {
   "cell_type": "code",
   "execution_count": null,
   "id": "59a9296a",
   "metadata": {},
   "outputs": [],
   "source": []
  },
  {
   "attachments": {},
   "cell_type": "markdown",
   "id": "c605734c",
   "metadata": {},
   "source": [
    "## $ \\S 5 $ Importing modules\n",
    "\n",
    "A __module__ is a Python script which can contain a collection of function\n",
    "declarations or definitions of other objects, such as classes, and executable\n",
    "code. They are used to organize, localize and repurpose code so that it can\n",
    "conveniently be reused in the future."
   ]
  },
  {
   "attachments": {},
   "cell_type": "markdown",
   "id": "e3887902",
   "metadata": {},
   "source": [
    "### $ 5.1 $ Importing a module\n",
    "\n",
    "Core Python contains very few mathematical functions, among them `max`, `min`, `abs` and `sum`.\n",
    "\n",
    "__Example:__"
   ]
  },
  {
   "cell_type": "code",
   "execution_count": 14,
   "id": "3be91190",
   "metadata": {},
   "outputs": [
    {
     "name": "stdout",
     "output_type": "stream",
     "text": [
      "2.71\n",
      "-3000.0\n",
      "-2998.79\n",
      "1\n"
     ]
    }
   ],
   "source": [
    "numbers = [1.0, -3.5, 2.71, 77 % 2, -3e3]\n",
    "\n",
    "print(max(numbers))    # Maximum element of 'numbers'.\n",
    "print(min(numbers))    # Minimum element of 'numbers'.\n",
    "print(sum(numbers))    # Sum of 'numbers'.\n",
    "print(abs(-1))         # Absolute value of -1."
   ]
  },
  {
   "cell_type": "markdown",
   "id": "4e5caa83",
   "metadata": {},
   "source": [
    "To import a module, for instance the module **math**, which contains implementations of some additional mathematical functions, use the statement `import math` at the beginning. To then call, say, a function $ f $ defined in this module, use the syntax `math.f`.\n",
    "\n",
    "**Example:**"
   ]
  },
  {
   "cell_type": "code",
   "execution_count": 12,
   "id": "9df5f3a3",
   "metadata": {},
   "outputs": [
    {
     "name": "stdout",
     "output_type": "stream",
     "text": [
      "21.133202430493824\n",
      "20.085536923187668\n",
      "True\n"
     ]
    },
    {
     "data": {
      "text/plain": [
       "3.141592653589793"
      ]
     },
     "execution_count": 12,
     "metadata": {},
     "output_type": "execute_result"
    }
   ],
   "source": [
    "import math\n",
    "\n",
    "\n",
    "x = math.log(23e5, 2)    # Assign the logarithm of (23 * 10**5) in base 2 to x.\n",
    "y = math.exp(3)          # Assign the value of e cubed to y.\n",
    "\n",
    "print(x)\n",
    "print(y)\n",
    "print(x > y)\n",
    "\n",
    "math.pi                  # Return the value of the constant 'pi'."
   ]
  },
  {
   "cell_type": "markdown",
   "id": "317b7953",
   "metadata": {},
   "source": [
    "📝 It is recommended practice that `import` statements be grouped together at the very beginning of a script and that they be separated from the remainder of the script by two blank lines."
   ]
  },
  {
   "attachments": {},
   "cell_type": "markdown",
   "id": "e2a7d59f",
   "metadata": {},
   "source": [
    "The module **math** does not contain too many functions, but among others, it provides implementations of:\n",
    "* The *exponential* `exp` and the *logarithm* `log`. Regarding the latter, `log(a, b)` yields $ \\log_b a $, the logarithm base $ b $ of $ a $;\n",
    "* The basic *trigonometric functions* `cos`, `sin`, `tan` and their inverses `acos`, `asin`, `atan`;\n",
    "* The *ceiling* and *floor* functions `floor` and `ceil`, which, given a floating-point number $ x $, return the greatest integer $ \\le x $ (resp. the smallest integer $ \\ge x $);\n",
    "* The *square root* function `sqrt` and the *integer square root* function `isqrt`, which is equivalent to the composition of `sqrt` with `int` (but more efficient);\n",
    "* The *product* function `prod` which returns the product of a list of numbers;\n",
    "* The *factorial* function: `factorial(n)` yields the product $ 1 \\cdot 2 \\cdots (n - 1) \\cdot n $ of all integers from $ 1 $ to $ n $ (where $ n $ is a positive integer);\n",
    "* The constants `pi` ($ \\pi $) and `e` ($ e $)."
   ]
  },
  {
   "cell_type": "markdown",
   "id": "4c8223d9",
   "metadata": {},
   "source": [
    "📝 We can import a module using an **alias** to avoid having to type its full name using the syntax `import` *module_name* `as` _alias_.\n",
    "\n",
    "**Example:**"
   ]
  },
  {
   "cell_type": "code",
   "execution_count": 13,
   "id": "0ee8b991",
   "metadata": {},
   "outputs": [
    {
     "name": "stdout",
     "output_type": "stream",
     "text": [
      "120\n",
      "2.718281828459045\n"
     ]
    }
   ],
   "source": [
    "import math as m\n",
    "\n",
    "\n",
    "print(m.factorial(5))\n",
    "print(m.e)"
   ]
  },
  {
   "attachments": {},
   "cell_type": "markdown",
   "id": "31f1577f",
   "metadata": {},
   "source": [
    "### $ 5.2 $ Importing functions directly\n",
    "\n",
    "To avoid having to refer to the name of the module every time one of its functions/objects is called, we have two options:\n",
    "1. Explicitly import the functions/objects $ f_1, f_2, \\dots, f_n $ through the statement\n",
    "   `from <module_name> import f_1, f_2, ..., f_n`.\n",
    "2. Import every function/object provided by the module using the statement `from <module_name> import *`.\n",
    "\n",
    "⚠️ Both methods may lead to conflicts with definitions loaded from other modules (or from core Python). For example, both modules _math_ and _NumPy_ provide implementations of the sine function as `sin`; if both are loaded using the syntax in 1 or 2,  then `sin` will take the definition of whichever module was loaded last. Moreover, the second method is also wasteful since it will load several objects that will probably not be used."
   ]
  },
  {
   "cell_type": "markdown",
   "id": "03f2f4d7",
   "metadata": {},
   "source": [
    "__Example:__"
   ]
  },
  {
   "cell_type": "code",
   "execution_count": 3,
   "id": "8ed7899f",
   "metadata": {},
   "outputs": [
    {
     "name": "stdout",
     "output_type": "stream",
     "text": [
      "1.7320508075688772\n",
      "1\n",
      "1.0 -1.0 6.123233995736766e-17\n"
     ]
    }
   ],
   "source": [
    "from math import sqrt, isqrt, cos, sin, pi\n",
    "\n",
    "\n",
    "print(sqrt(3))\n",
    "print(isqrt(3))\n",
    "\n",
    "print(cos(0), cos(pi), cos(pi / 2))"
   ]
  },
  {
   "cell_type": "code",
   "execution_count": 4,
   "id": "f42ebcb3",
   "metadata": {},
   "outputs": [
    {
     "name": "stdout",
     "output_type": "stream",
     "text": [
      "2 3\n",
      "-3 -2\n",
      "120\n"
     ]
    }
   ],
   "source": [
    "from math import *\n",
    "\n",
    "\n",
    "print(floor(2.5), ceil(2.5))\n",
    "print(floor(-2.5), ceil(-2.5))\n",
    "print(prod([1, 2, 3, 4, 5]))"
   ]
  },
  {
   "cell_type": "markdown",
   "id": "6d928629",
   "metadata": {},
   "source": [
    "**Exercise:** What happens if you try to call the tangent function on $ \\frac{\\pi}{2} $? What is the factorial of $ 0 $ and $ - 1 $ according to Python? Why is the cosine of $ \\pi $ not exactly $ -1 $?"
   ]
  },
  {
   "attachments": {},
   "cell_type": "markdown",
   "id": "e0734275",
   "metadata": {},
   "source": [
    "📝 To explore the complete list of functions/objects provided by a module, use\n",
    "the `dir` command. To get help on how a specific function works, you can use\n",
    "`help(<function_name>)`. Note that in both cases, the corresponding module\n",
    "must be loaded first.\n",
    "\n",
    "__Example:__"
   ]
  },
  {
   "cell_type": "code",
   "execution_count": 11,
   "id": "aea79110",
   "metadata": {
    "scrolled": false
   },
   "outputs": [
    {
     "name": "stdout",
     "output_type": "stream",
     "text": [
      "['__doc__', '__file__', '__loader__', '__name__', '__package__', '__spec__', 'acos', 'acosh', 'asin', 'asinh', 'atan', 'atan2', 'atanh', 'ceil', 'comb', 'copysign', 'cos', 'cosh', 'degrees', 'dist', 'e', 'erf', 'erfc', 'exp', 'expm1', 'fabs', 'factorial', 'floor', 'fmod', 'frexp', 'fsum', 'gamma', 'gcd', 'hypot', 'inf', 'isclose', 'isfinite', 'isinf', 'isnan', 'isqrt', 'lcm', 'ldexp', 'lgamma', 'log', 'log10', 'log1p', 'log2', 'modf', 'nan', 'nextafter', 'perm', 'pi', 'pow', 'prod', 'radians', 'remainder', 'sin', 'sinh', 'sqrt', 'tan', 'tanh', 'tau', 'trunc', 'ulp']\n",
      "Help on built-in function ceil in module math:\n",
      "\n",
      "ceil(x, /)\n",
      "    Return the ceiling of x as an Integral.\n",
      "    \n",
      "    This is the smallest integer >= x.\n",
      "\n"
     ]
    }
   ],
   "source": [
    "import math\n",
    "print(dir(math))\n",
    "help(math.floor)"
   ]
  },
  {
   "attachments": {},
   "cell_type": "markdown",
   "id": "0f25a307",
   "metadata": {},
   "source": [
    "__Exercise:__ Let $ n \\ge 2 $ be an integer. If $ d $ is a divisor of $ n $ then\n",
    "$ \\frac{n}{d} $ is also a divisor, and $ d $ and $\\frac{n}{d} $ cannot both be\n",
    "greater than $ \\sqrt{n} $. Use this observation and the `isqrt` function from\n",
    "the *math* module to modify the definition of [`is_prime`](#prime) so that it\n",
    "tests only the numbers from $ 1 $ to $ \\sqrt{n} $ (including the latter!) as\n",
    "possible divisors of $ n $."
   ]
  },
  {
   "cell_type": "code",
   "execution_count": null,
   "id": "302b28d0",
   "metadata": {},
   "outputs": [],
   "source": []
  }
 ],
 "metadata": {
  "kernelspec": {
   "display_name": "Python 3 (ipykernel)",
   "language": "python",
   "name": "python3"
  },
  "language_info": {
   "codemirror_mode": {
    "name": "ipython",
    "version": 3
   },
   "file_extension": ".py",
   "mimetype": "text/x-python",
   "name": "python",
   "nbconvert_exporter": "python",
   "pygments_lexer": "ipython3",
   "version": "3.9.2"
  }
 },
 "nbformat": 4,
 "nbformat_minor": 5
}
