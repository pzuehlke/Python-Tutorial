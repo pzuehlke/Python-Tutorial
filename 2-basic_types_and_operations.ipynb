{
 "cells": [
  {
   "attachments": {},
   "cell_type": "markdown",
   "id": "9c24f1a0",
   "metadata": {},
   "source": [
    "# Basic types and operations"
   ]
  },
  {
   "attachments": {},
   "cell_type": "markdown",
   "id": "dfb1562d",
   "metadata": {},
   "source": [
    "## $ \\S 1 $ Objects, classes, values, variables and assignment\n",
    "\n",
    "An __object__ is an instance of a specific data type that resides in memory. In\n",
    "Python, everything is represented as an object, and each object belongs to a\n",
    "__class__, which determines how it is implemented, its properties and the\n",
    "operations that can be applied to it. Each object created by the Python\n",
    "interpreter is assigned a unique internal identifier (which we do not need to\n",
    "handle directly or worry about). The actual data or information that an object\n",
    "holds is referred to as its __value__.\n",
    "\n",
    "When a class is already built into Python, it is usually called a __type__. For\n",
    "example, there are types for the representation of integers, text strings or\n",
    "boolean values. We can divide an integer by another, but not a string by\n",
    "another; we can concatenate two strings, but that doesn't make sense for boolean\n",
    "values.\n",
    "\n",
    "On the other hand, in writing software for a bank, for instance, it would be\n",
    "extremely cumbersome to work directly only with these built-in types. In order\n",
    "to encapsulate the data and behaviors associated with the manipulation of bank\n",
    "accounts, it would be better to define an appropriate class to represent them at\n",
    "a higher-level.\n",
    "\n",
    "📝 In the terminology of object-oriented programming, the technical terms for\n",
    "\"property\" and \"operation\" are _attribute_ and _method_, respectively. Also,\n",
    "an object belonging to a class is said to be an _instance_ of that class.\n",
    "\n",
    "A __variable__ is a symbolic name that points to an object. Variables\n",
    "allow us to interact with objects in a more intuitive and convenient manner,\n",
    "without needing address them by their specific memory locations. Variables are\n",
    "created through an __assignment__ statement, using the __assignment operator__\n",
    "`=` in the form _\\<variable name\\>_ `=` _\\<object>_.  This binds the object to\n",
    "the right of the `=` sign to the label to its left."
   ]
  },
  {
   "cell_type": "code",
   "execution_count": 14,
   "id": "b4f7e7b1",
   "metadata": {},
   "outputs": [],
   "source": [
    "a = 1729   # Bind the name 'a' to the integer 1729.\n",
    "a          # Return the value of the corresponding object as output of the cell."
   ]
  },
  {
   "attachments": {},
   "cell_type": "markdown",
   "id": "401fc35f",
   "metadata": {},
   "source": [
    "📝 Unlike some other programming languages, in Python the syntax for _creating\n",
    "a new variable_ and for _assigning a new object to an existing variable name_ is\n",
    "exactly the same:"
   ]
  },
  {
   "cell_type": "code",
   "execution_count": 2,
   "id": "d2319ddb",
   "metadata": {},
   "outputs": [
    {
     "name": "stdout",
     "output_type": "stream",
     "text": [
      "1729\n",
      "17.29\n"
     ]
    }
   ],
   "source": [
    "b = 1729       # Create a new variable b and assign the object 1729 to it.\n",
    "print(b)       # Print the current value of b.\n",
    "b = 17.29      # Reassign a _new_ object to the name 'b'.\n",
    "print(b)       # Print the current value of b."
   ]
  },
  {
   "attachments": {},
   "cell_type": "markdown",
   "id": "8aa82020",
   "metadata": {},
   "source": [
    "Variable names may consist only of __alphanumeric characters__ (i.e., the\n",
    "characters A-Z, a-z and 0-9) and __underscores__ \\_; the initial character must be\n",
    "a letter. By convention, uppercase initial letters are usually reserved to\n",
    "denote classes and lowercase initial letters to name other objects. \n",
    "\n",
    "In this tutorial we will not need to discuss objects, classes and object-oriented\n",
    "programming beyond what has already been mentioned."
   ]
  },
  {
   "cell_type": "code",
   "execution_count": 1,
   "id": "ccf295de",
   "metadata": {},
   "outputs": [
    {
     "data": {
      "text/plain": [
       "'Presto'"
      ]
     },
     "execution_count": 1,
     "metadata": {},
     "output_type": "execute_result"
    }
   ],
   "source": [
    "wiz30 = 'Presto'    # Assign the string 'Presto' to the name 'wiz30'.\n",
    "wiz30               # Return the value of variable w as the output of the cell."
   ]
  },
  {
   "attachments": {},
   "cell_type": "markdown",
   "id": "fa1978ad",
   "metadata": {},
   "source": [
    "<div class=\"alert alert-info\"> In Python, simply creating a variable or assigning it a new object does not prompt the interpreter to return nor print its value.\n",
    "    <ul>\n",
    "        <li>To get the interpreter to <i>return</i> the value of the object\n",
    "        bound to a variable, say $ x $, as the output of a cell, one can use a\n",
    "        statement consisting solely of its name, in this case <code>x</code>.</li>\n",
    "        <li>To <i>print</i> the value of the object referred to by a variable,\n",
    "        say $ x $, to the screen, use <code>print(x)</code>. Note that calling\n",
    "        <code>print</code> <i>generates no output</i> (more precisely, it\n",
    "        returns <code>None</code>).</li></ul></div>\n",
    "\n",
    "More generally, the function `print` can be used to print to the screen any collection of arguments, separated by commas. These commas will be replaced by single spaces when the arguments are displayed."
   ]
  },
  {
   "cell_type": "code",
   "execution_count": 2,
   "id": "c1110cbc",
   "metadata": {},
   "outputs": [
    {
     "name": "stdout",
     "output_type": "stream",
     "text": [
      "cunning\n",
      "cunning wizard\n"
     ]
    }
   ],
   "source": [
    "a = 'cunning'\n",
    "b = 'wizard'\n",
    "print(a)\n",
    "print(a, b)"
   ]
  },
  {
   "attachments": {},
   "cell_type": "markdown",
   "id": "ea00ed1d",
   "metadata": {},
   "source": [
    "⚠️ If a code cell contains more than one statement which produces an output,\n",
    "then only the result of the most recent one will be yielded as the output of the\n",
    "cell; the other ones are discarded. "
   ]
  },
  {
   "cell_type": "code",
   "execution_count": 10,
   "id": "5499e475",
   "metadata": {},
   "outputs": [
    {
     "data": {
      "text/plain": [
       "'wizard'"
      ]
     },
     "execution_count": 10,
     "metadata": {},
     "output_type": "execute_result"
    }
   ],
   "source": [
    "# This statement causes the interpreter to evaluate the variable a:\n",
    "a    # (evaluates to the string 'cunning')\n",
    "# However, if we issue another such statement:\n",
    "b    # (evaluates to the string 'wizard')\n",
    "# then only the latter will actually yield an output."
   ]
  },
  {
   "attachments": {},
   "cell_type": "markdown",
   "id": "2fcae6fc",
   "metadata": {},
   "source": [
    "The type of a variable $ x $ can be inspected through a call to the function\n",
    "`type`, as in `type(x)`. "
   ]
  },
  {
   "cell_type": "code",
   "execution_count": 1,
   "id": "e238c8da",
   "metadata": {},
   "outputs": [
    {
     "name": "stdout",
     "output_type": "stream",
     "text": [
      "two\n",
      "<class 'str'>\n",
      "2\n",
      "<class 'int'>\n"
     ]
    }
   ],
   "source": [
    "number = 'two'\n",
    "# The string 'two' is assigned to the new variable number.\n",
    "print(number)\n",
    "print(type(number))\n",
    "\n",
    "number = 2\n",
    "# The variable number now points to an object of different type.\n",
    "print(number)\n",
    "print(type(number))"
   ]
  },
  {
   "attachments": {},
   "cell_type": "markdown",
   "id": "fdd8d11e",
   "metadata": {},
   "source": [
    "As in the preceding example, the Python interpreter automatically infers the\n",
    "type of a variable from its value; this feature is called __type inference__.\n",
    "Moreover, in Python (in contrast to, say, C or Java), variables are\n",
    "__typed dinamically__, meaning that not only can the _object_ bound to a\n",
    "variable change during a program, but even its _class_ (or _type_) can be\n",
    "modified. Whenever a new object is assigned to a previously used name, the\n",
    "original association is lost. "
   ]
  },
  {
   "attachments": {},
   "cell_type": "markdown",
   "id": "e80c3733",
   "metadata": {},
   "source": [
    "📝 Blank lines in a code cell are ignored by the interpreter. We can use them to\n",
    "visually separate the code into several parts in order to improve legibility.\n",
    "\n",
    "The statement `isinstance(<variable>, <class>)` returns either `True` or `False`\n",
    "according to whether a given variable belongs to the indicated class or not."
   ]
  },
  {
   "cell_type": "markdown",
   "id": "ab441abb",
   "metadata": {},
   "source": [
    "__Exercise:__ If the statement `lifespan = 120` is run, determine the\n",
    "values of:\n",
    "\n",
    "(a) `isinstance(lifespan, str)`\n",
    "\n",
    "(b) `isinstance(lifespan, int)`\n",
    "\n",
    "(c) `isinstance(lifespan, float)`\n",
    "\n",
    "How do the answers change if `lifespan = 120.0`?"
   ]
  },
  {
   "cell_type": "code",
   "execution_count": 2,
   "id": "27838f46",
   "metadata": {},
   "outputs": [],
   "source": [
    "lifespan = 120"
   ]
  },
  {
   "attachments": {},
   "cell_type": "markdown",
   "id": "c30d1b4c",
   "metadata": {},
   "source": [
    "⚠️ All names (not just those of variables) are __case-sensitive__. Thus `Staff` and `staff` may refer to completely different objects."
   ]
  },
  {
   "attachments": {},
   "cell_type": "markdown",
   "id": "7c98ad39",
   "metadata": {},
   "source": [
    "__Exercise:__ Predict what gets printed when you run the code cell below."
   ]
  },
  {
   "cell_type": "code",
   "execution_count": null,
   "id": "c3a9770a",
   "metadata": {},
   "outputs": [],
   "source": [
    "Mammal = \"whale\"\n",
    "print(Mammal)\n",
    "mammal = \"dog\"\n",
    "print(mammal)\n",
    "print(Mammal)"
   ]
  },
  {
   "attachments": {},
   "cell_type": "markdown",
   "id": "f60c6477",
   "metadata": {},
   "source": [
    "__Exercise:__ Can you explain what happens if the statement `print(print(a))`is interpreted?"
   ]
  },
  {
   "cell_type": "code",
   "execution_count": null,
   "id": "cb360911",
   "metadata": {},
   "outputs": [],
   "source": []
  },
  {
   "attachments": {},
   "cell_type": "markdown",
   "id": "47e13d9e",
   "metadata": {},
   "source": [
    "__Exercise:__ What happens if you issue the following statements consecutively?\n",
    "What is the output (if any) in each case?\n",
    "\n",
    "(a) `a = 2`\n",
    "\n",
    "(b) `b = 3`\n",
    "\n",
    "(c) `c = a * b`\n",
    "\n",
    "(d) `print(c)`\n",
    "\n",
    "(e) `a - b`\n",
    "\n",
    "(f) `a**b`"
   ]
  },
  {
   "cell_type": "code",
   "execution_count": null,
   "id": "2f8303c5",
   "metadata": {},
   "outputs": [],
   "source": []
  },
  {
   "attachments": {},
   "cell_type": "markdown",
   "id": "c7491014",
   "metadata": {},
   "source": [
    "🚫 The following small set of keywords *cannot* be used to name objects because they already have a special meaning to the interpreter:\n",
    "\n",
    "| Reserved  | keywords   |            |           |\n",
    "| :-------- | :--------- | :--------- | :------   |\n",
    "|`False` \t| `def` \t | `if`       | `raise`   |\n",
    "|`None` \t| `del` \t | `import`   | `return`  |\n",
    "|`True` \t| `elif` \t | `in` \t  | `try`     |\n",
    "|`and` \t    | `else` \t | `is` \t  | `while`   |\n",
    "|`as` \t    | `except`   | `lambda`   | `with`    |\n",
    "|`assert` \t| `finally`  | `nonlocal` | `yield`   |\n",
    "|`break` \t| `for` \t | `not`      |           |\n",
    "|`class` \t| `from` \t | `or` \t  |           |\n",
    "|`continue` | `global`   | `pass`     |           |\n",
    "\n",
    "\n",
    "__Exercise:__\n",
    "\n",
    "(a) Suppose `x` and `y` have values $ 1 $ and $ 2 $, respectively. If we want to\n",
    "swap these values, can we accomplish that through the instructions in the code\n",
    "cell below? Explain."
   ]
  },
  {
   "cell_type": "code",
   "execution_count": 3,
   "id": "d5002558",
   "metadata": {},
   "outputs": [],
   "source": [
    "x = 1    # Initializing x.\n",
    "y = 2    # Initializing y.\n",
    "\n",
    "# Performing the swap:\n",
    "x = y\n",
    "y = x\n",
    "print(x, y)"
   ]
  },
  {
   "cell_type": "markdown",
   "id": "c75a3435",
   "metadata": {},
   "source": [
    "(b) How could one use a third, temporary variable `temp` to solve this problem?"
   ]
  },
  {
   "attachments": {},
   "cell_type": "markdown",
   "id": "cfec4b2e",
   "metadata": {},
   "source": [
    "In Python, one can make several __simultaneous assignments__ in a single line\n",
    "using commas `,` as separators. This is especially useful for permuting the\n",
    "values of two or more variables without resorting to temporary variables,\n",
    "as in the preceding problem.  However, as a best practice one should avoid\n",
    "needlessly using this feature because it hampers the legibility of code.\n",
    "\n",
    "__Example:__"
   ]
  },
  {
   "cell_type": "code",
   "execution_count": 45,
   "id": "b190e61e",
   "metadata": {},
   "outputs": [
    {
     "name": "stdout",
     "output_type": "stream",
     "text": [
      "1 2\n",
      "2 1\n"
     ]
    }
   ],
   "source": [
    "x = 1\n",
    "y = 2\n",
    "print(x, y)\n",
    "\n",
    "x, y = y, x\n",
    "print(x, y)"
   ]
  },
  {
   "cell_type": "code",
   "execution_count": 6,
   "id": "f45cad4d",
   "metadata": {},
   "outputs": [],
   "source": [
    "# Multiple assignments are made _simultaneously_.\n",
    "# Check this in the following example:\n",
    "x = 1\n",
    "y = 2\n",
    "x, y = x + y, x - y"
   ]
  },
  {
   "attachments": {},
   "cell_type": "markdown",
   "id": "5dbeec75",
   "metadata": {},
   "source": [
    "__Exercise:__ As we have said before, in Python every object must belong to\n",
    "a class, i.e., be of some type. How could you find out what the type of a given\n",
    "type is? Does the answer depend on the given type?"
   ]
  },
  {
   "cell_type": "code",
   "execution_count": null,
   "id": "18f25227",
   "metadata": {},
   "outputs": [],
   "source": []
  },
  {
   "attachments": {},
   "cell_type": "markdown",
   "id": "7d965cf8",
   "metadata": {},
   "source": [
    "## $ \\S 2 $ The boolean type `bool` \n",
    "\n",
    "### $ 2.1 $ Description of the boolean type\n",
    "\n",
    "The __boolean__ type, denoted by `bool` in Python, consists of only two objects:\n",
    "`True` and `False`.\n",
    "\n",
    "Booleans support the three basic __logical operators__ `and`, `or` and `not`\n",
    "(formally called _conjunction_, _disjunction_ and _negation_, respectively).\n",
    "Observe that the former two are _binary_ operators (i.e., requiring two\n",
    "arguments), whereas the latter is a _unary_ operator (i.e., it works on a single\n",
    "boolean argument).\n",
    "\n",
    "A __boolean expression__ is an expression that has a boolean value, that is,\n",
    "which evaluates to either `True` or `False`. \n",
    "\n",
    "Booleans are extremely important in any programming language because they enable\n",
    "the conditional execution of pieces of code. They usually appear in the\n",
    "conditional tests of `if-elif-else` or `while` constructs to be considered later,\n",
    "or as the result of comparisons. However, they can be useful in several other\n",
    "situations as well.\n",
    "\n",
    "__Examples:__"
   ]
  },
  {
   "cell_type": "code",
   "execution_count": 48,
   "id": "35d4c2bd",
   "metadata": {},
   "outputs": [
    {
     "name": "stdout",
     "output_type": "stream",
     "text": [
      "True <class 'bool'>\n",
      "False <class 'bool'>\n"
     ]
    }
   ],
   "source": [
    "a = True\n",
    "b = False\n",
    "print(a, type(a))\n",
    "print(b, type(b))"
   ]
  },
  {
   "attachments": {},
   "cell_type": "markdown",
   "id": "6298c414",
   "metadata": {},
   "source": [
    "__Exercise:__ By considering all pairs that can be formed from the values `True`\n",
    "and `False`, construct the truth tables of the `and` and `or` operators. _Hint:_\n",
    "To reduce the amount of text that needs to be typed, introduce two variables\n",
    "`t` and `f` that have `True` and `False` as their values."
   ]
  },
  {
   "cell_type": "code",
   "execution_count": null,
   "id": "30c605ae",
   "metadata": {},
   "outputs": [],
   "source": []
  },
  {
   "attachments": {},
   "cell_type": "markdown",
   "id": "aff0bb4a",
   "metadata": {},
   "source": [
    "__Exercise:__ Let $ a $ and $ b $ be variables having the values `True` and\n",
    "`False`, respectively. What is the value of the following boolean expressions?\n",
    "\n",
    "(a) `not(a)`\n",
    "\n",
    "(b) `not a`\n",
    "\n",
    "(c) `not(a and b)`\n",
    "\n",
    "(d) `not a and b`\n",
    "\n",
    "(e) `(not a) or (not b)`\n",
    "\n",
    "(f) `not a or not b`\n",
    "\n",
    "(g) `not not a`\n",
    "\n",
    "(h) `a and not b`\n",
    "\n",
    "(i) `a and b or a`\n"
   ]
  },
  {
   "cell_type": "code",
   "execution_count": null,
   "id": "de3a8be7",
   "metadata": {
    "scrolled": true
   },
   "outputs": [],
   "source": []
  },
  {
   "attachments": {},
   "cell_type": "markdown",
   "id": "755260cc",
   "metadata": {},
   "source": [
    "### $ 2.2 $ Comparison operators <a name=\"comparison\"></a>\n",
    "\n",
    "The following binary comparison operators can be applied to several types of\n",
    "objects. Each of them yields either `True` or `False` as output.\n",
    "\n",
    "| Operator   | Translation                |\n",
    "| :--------  | :---------                 |\n",
    "| `==`       | Equal to                   |\n",
    "| `!=`       | Not equal to               |\n",
    "| `<`        | Less than                  |\n",
    "| `>`        | Greater than               |\n",
    "| `<=`       | Less than or equal to      |\n",
    "| `>=`       | Greater than or equal to   |\n",
    "\n",
    "\n",
    "<div class=\"alert alert-warning\">It is a common mistake for beginners to confuse the assignment operator <code>=</code> with the equality operator <code>==</code>; this can lead to syntactical or, worse, semantical errors.</div>\n",
    "\n",
    "📝 If a comparison is made between two values of different types, then the interpreter will first try to convert them to a common type. For example, if one compares an integer to a float, then the integer is first converted to a float."
   ]
  },
  {
   "attachments": {},
   "cell_type": "markdown",
   "id": "cae003f8",
   "metadata": {},
   "source": [
    "__Exercise:__ Predict and explain the output of the following statements:\n",
    "\n",
    "(a) `0 == 0`\n",
    "\n",
    "(b) `1 > 2`\n",
    "\n",
    "(c) `1 != 0.9999999`\n",
    "\n",
    "(d) `1 == 0.99999999999999999`\n",
    "\n",
    "(e) `2 == 1 + 1`\n",
    "\n",
    "(f) `2 = 1 + 1`\n",
    "\n",
    "(g) `True != False`\n",
    "\n",
    "(h) `3**5 >= 4**4`\n",
    "\n",
    "(i) `\"aba\" < \"abc\"`"
   ]
  },
  {
   "cell_type": "code",
   "execution_count": null,
   "id": "63651eaf",
   "metadata": {},
   "outputs": [],
   "source": []
  },
  {
   "attachments": {},
   "cell_type": "markdown",
   "id": "7e767fff",
   "metadata": {},
   "source": [
    "__Exercise:__ Let $ a = 8 $, $ b = 7.99 $ and $ c = -23 $. What do the following boolean expressions evaluate to?\n",
    "\n",
    "(a) `b > a`\n",
    "\n",
    "(b) `a != b`\n",
    "\n",
    "(c) `a == a`\n",
    "\n",
    "(d) `a >= a`\n",
    "\n",
    "(e) `c <= a and a >= b`\n",
    "\n",
    "(f) `c < b < a `\n",
    "\n",
    "(g) `c != b > a`\n",
    "\n",
    "(h) `a <= a >= a`"
   ]
  },
  {
   "cell_type": "code",
   "execution_count": 16,
   "id": "969f5340",
   "metadata": {},
   "outputs": [],
   "source": [
    "a = 8\n",
    "b = 7.99\n",
    "c = -23"
   ]
  },
  {
   "attachments": {},
   "cell_type": "markdown",
   "id": "2416015e",
   "metadata": {},
   "source": [
    "📝 In Python, any value of a built-in type can be interpreted as a Boolean. \n",
    "As a rule of thumb, for numerical types (`int`, `float`, `complex`), $ 0 $\n",
    "is the only number that evaluates to `False`. For sequential types\n",
    "(such as `str`, `list` or `tuple`), only empty objects are considered `False`.\n",
    "In other words, `True` and `False` are not the only objects considered\n",
    "true and false!  We can inspect how a value will be interpreted as a Boolean by\n",
    "explicitly converting it to the type `bool`:"
   ]
  },
  {
   "cell_type": "code",
   "execution_count": 1,
   "id": "85ffba8f",
   "metadata": {},
   "outputs": [
    {
     "name": "stdout",
     "output_type": "stream",
     "text": [
      "False\n",
      "True\n",
      "False\n",
      "True\n"
     ]
    }
   ],
   "source": [
    "print(bool(0))\n",
    "print(bool(1 + 3j))\n",
    "print(bool(\"\"))\n",
    "print(bool(\"Das sind Geschichten\"))"
   ]
  },
  {
   "attachments": {},
   "cell_type": "markdown",
   "id": "39b074f4",
   "metadata": {},
   "source": [
    "## $ \\S 3 $ `None`\n",
    "\n",
    "The type `Nonetype` consists of the single object `None`, which is used to\n",
    "indicate nothing, i.e., a null value. It is frequently used as a placeholder in\n",
    "the case where a function has no values to return or to indicate that some\n",
    "object is empty or missing. For example, a call to the `print` function always\n",
    "returns `None` as its output, regardless of its argument.\n",
    "\n",
    "* `None` is not the same as $ 0 $; it is not possible to use it\n",
    "  within arithmetic expressions.\n",
    "* `None` is not a string, empty or otherwise. However, if it is printed, 'None'\n",
    "  is displayed.\n",
    "* `None` is not the same as `False`, but it is evaluated to `False` when appearing\n",
    "  in a conditional test."
   ]
  },
  {
   "attachments": {},
   "cell_type": "markdown",
   "id": "bdff7828",
   "metadata": {},
   "source": [
    "__Exercise:__ Let `x = None`. Check the output of the following statements\n",
    "(trying to explain some of them would require more knowledge of Python than we\n",
    "have at this point):\n",
    "\n",
    "(a) `x`\n",
    "\n",
    "(b) `print(x)`\n",
    "\n",
    "(c) `print(print(x))`\n",
    "\n",
    "(d) `x == True`\n",
    "\n",
    "(e) `x == False`\n",
    "\n",
    "(f) `x != 0`\n",
    "\n",
    "(g) `not None`"
   ]
  },
  {
   "cell_type": "code",
   "execution_count": 2,
   "id": "87041490",
   "metadata": {},
   "outputs": [],
   "source": [
    "x = None"
   ]
  },
  {
   "attachments": {},
   "cell_type": "markdown",
   "id": "98df21ab",
   "metadata": {},
   "source": [
    "## $ \\S 4 $ Numerical types and operators\n",
    "\n",
    "Python supports three built-in data types for representing numbers:\n",
    "* `int`, or __integer__ type, for integers such as $ -1 $, $ 2 $, $ 0 $ or $ 53 $;\n",
    "* `float`, or __floating-point__ type, for floating-point numbers (intuitively,\n",
    "  numbers with a finite decimal expansion) such as $ 3.1415 $, $ 2.0 $ or\n",
    "  $ -.450 $;\n",
    "* `complex`, or __complex__ type, for complex numbers such as $ 2 + 3i $ or $\n",
    "  3.14 - 43.5 i$.\n",
    "\n",
    "Each of these types also supports the equality `==` and inequality `!=`\n",
    "operators, the basic arithmetic operators `+`, `-`, `*` (multiplication), `/`\n",
    "(division) and a few others to be discussed below. Integers and floats (but not\n",
    "complex numbers!) can also be compared in size through `<`, `>`, `<=` and `>=`."
   ]
  },
  {
   "attachments": {},
   "cell_type": "markdown",
   "id": "b8942761",
   "metadata": {},
   "source": [
    "## $ \\S 5 $ The type `int` of integers\n",
    "\n",
    "Unlike in many other languages, there is only one type for representing\n",
    "integers: `int`. Moreover, these integers can in principle be of any size (a\n",
    "limit is imposed only by the memory capacity of the computer)."
   ]
  },
  {
   "cell_type": "code",
   "execution_count": 3,
   "id": "b41809e2",
   "metadata": {},
   "outputs": [
    {
     "name": "stdout",
     "output_type": "stream",
     "text": [
      "4 <class 'int'>\n",
      "-3 <class 'int'>\n"
     ]
    }
   ],
   "source": [
    "a = 4\n",
    "b = -3\n",
    "print(a, type(a))    # Checking if a is of type int.\n",
    "print(b, type(b))"
   ]
  },
  {
   "cell_type": "code",
   "execution_count": 1,
   "id": "cbda3dc4",
   "metadata": {},
   "outputs": [
    {
     "name": "stdout",
     "output_type": "stream",
     "text": [
      "2 raised to the 64: 18446744073709551616\n",
      "2 raised to the 256: 115792089237316195423570985008687907853269984665640564039457584007913129639936\n",
      "2 raised to the 1024: 179769313486231590772930519078902473361797697894230657273430081157732675805500963132708477322407536021120113879871393357658789768814416622492847430639474124377767893424865485276302219601246094119453082952085005768838150682342462881473913110540827237163350510684586298239947245938479716304835356329624224137216\n"
     ]
    }
   ],
   "source": [
    "# Verifying if the author lied about there being no bound to\n",
    "# the possible values of integers:\n",
    "print(\"2 raised to the 64:\", 2**64)\n",
    "print(\"2 raised to the 256:\", 2**256)\n",
    "print(\"2 raised to the 1024:\", 2**1024)"
   ]
  },
  {
   "attachments": {},
   "cell_type": "markdown",
   "id": "c484dc1f",
   "metadata": {},
   "source": [
    "__Exercise:__ Can you predict the value of the expressions below when $ x = 3 $ and $ y = 2 $? What if $ y = - 2 $?"
   ]
  },
  {
   "cell_type": "code",
   "execution_count": null,
   "id": "4d79b81c",
   "metadata": {},
   "outputs": [],
   "source": [
    "# x = 3\n",
    "# y = 2\n",
    "print(x + y)      # Adding x and y.\n",
    "print(x - y)      # Subtracting y from x.\n",
    "print(x * y)      # Multiplying x and y.\n",
    "print(x // y)     # Quotient of x by y (integer division).\n",
    "print(x % y)      # Remainder of the division of x by y.\n",
    "print(y**x)       # Raising y to x; may return a float.\n",
    "print(x**y)       # Raising x to y; may return a float.\n",
    "print(x / y)      # Division of x by y; always returns a float."
   ]
  },
  {
   "attachments": {},
   "cell_type": "markdown",
   "id": "0bd86f14",
   "metadata": {},
   "source": [
    "__Exercise:__ Let $ x = 64 $. What do the statements `x**0.5` and `x**(1/3)` yield? Explain."
   ]
  },
  {
   "cell_type": "code",
   "execution_count": null,
   "id": "66f29a3e",
   "metadata": {},
   "outputs": [],
   "source": []
  },
  {
   "attachments": {},
   "cell_type": "markdown",
   "id": "dd6d9f68",
   "metadata": {},
   "source": [
    "__Exercise:__ What is $ 0^0 $ according to Python? "
   ]
  },
  {
   "cell_type": "code",
   "execution_count": null,
   "id": "858af387",
   "metadata": {},
   "outputs": [],
   "source": []
  },
  {
   "attachments": {},
   "cell_type": "markdown",
   "id": "2d713b34",
   "metadata": {},
   "source": [
    "## $ \\S 6 $ The type `float` of floating-point numbers"
   ]
  },
  {
   "attachments": {},
   "cell_type": "markdown",
   "id": "9360c0c6",
   "metadata": {},
   "source": [
    "Irrational numbers such as $ \\pi $ or $ e $ can never be represented exactly on\n",
    "a machine, no matter whether the decimal or binary system is used,\n",
    "because this would require an infinite amount of digits to be stored.\n",
    "Floating-point numbers provide approximate representations of real numbers;\n",
    "their type is called `float`. Using the conventional notation, a floating-point\n",
    "number is characterized by the use of a decimal point `.` to separate its\n",
    "integer and fractional part.\n",
    "\n",
    "__Example:__"
   ]
  },
  {
   "cell_type": "code",
   "execution_count": 45,
   "id": "7e3d4f26",
   "metadata": {},
   "outputs": [
    {
     "name": "stdout",
     "output_type": "stream",
     "text": [
      "<class 'float'>\n",
      "0.04501120645942232\n",
      "1.0\n"
     ]
    }
   ],
   "source": [
    "x = 3.14         # We can recognize that x and y are of type\n",
    "y = -2.71        # float because of the decimal points.\n",
    "z = 19.\n",
    "w = .456\n",
    "print(type(z))   # Verifying that z is of type float.\n",
    "print(x**y)      # Raising x to y.\n",
    "print(x / x)     # Dividing x by x."
   ]
  },
  {
   "attachments": {},
   "cell_type": "markdown",
   "id": "ea29f22d",
   "metadata": {},
   "source": [
    "📝 Following the IEEE 754 standard, in Python floating-point numbers are\n",
    "represented as $ 64 $-bit, double-precision values. The values that any\n",
    "floating-point number can take on are restricted to the approximate range\n",
    "between $ \\pm 1.8 \\cdot 10^{308} $.  If some expression yields a value that\n",
    "exceeds these bounds, then an _overflow error_ or some other unexpected quantity\n",
    "may result. Similarly, a nonzero number whose absolute value is smaller than $\n",
    "2.3 \\cdot 10^{-308} $ cannot be represented exactly.\n"
   ]
  },
  {
   "attachments": {},
   "cell_type": "markdown",
   "id": "f74e427a",
   "metadata": {},
   "source": [
    "__Exercise:__ Let $ r = 3.0 $ and $ s = 1.2 $. Guess and then explain the values\n",
    "that are printed below."
   ]
  },
  {
   "cell_type": "code",
   "execution_count": null,
   "id": "c6a4146b",
   "metadata": {},
   "outputs": [],
   "source": [
    "# r = 3.0\n",
    "# s = 1.2\n",
    "print(r + s)      # Adding r and s.\n",
    "print(r - s)      # Subtracting s from r.\n",
    "print(r * s)      # Multiplying r and s.\n",
    "print(r / s)      # Division of r by s.\n",
    "print(r**s)       # Raising r to s.\n",
    "print(r // s)     # How many times does s fit into r? Returns a float.\n",
    "print(r % s)      # And what is the remainder? Returns a float."
   ]
  },
  {
   "attachments": {},
   "cell_type": "markdown",
   "id": "f4126590",
   "metadata": {},
   "source": [
    "__Exercise:__ What happens if you try to divide by $ 0 $?"
   ]
  },
  {
   "cell_type": "code",
   "execution_count": null,
   "id": "6fb0447b",
   "metadata": {},
   "outputs": [],
   "source": []
  },
  {
   "attachments": {},
   "cell_type": "markdown",
   "id": "26595105",
   "metadata": {},
   "source": [
    "A floating-point number can also be written in the __scientific__ or __exponential notation__ using `e`. In this notation, the number to the left of `e` is multiplied with $ 10 $ raised to the power to the right of `e`.\n",
    "\n",
    "__Exercise:__ Which real numbers are represented by the following floats?\n",
    "\n",
    "(a) `3.14159e0`\n",
    "\n",
    "(b) `1.23e2`\n",
    "\n",
    "(c) `2e-1`\n",
    "\n",
    "(d) `1.e-2`\n",
    "\n",
    "(e) `10e-1`\n",
    "\n",
    "(f) `4.56e-2`\n",
    "\n",
    "(g) `.789e5`"
   ]
  },
  {
   "cell_type": "code",
   "execution_count": null,
   "id": "271ef5a5",
   "metadata": {},
   "outputs": [],
   "source": []
  },
  {
   "attachments": {},
   "cell_type": "markdown",
   "id": "19d7bf88",
   "metadata": {},
   "source": [
    "⚠️ Note that `10e1` does not represent $ 10^1 = 10 $, but rather\n",
    "$$\n",
    "10 \\times 10^1 = 10^2 = 100\\,.\n",
    "$$\n",
    "In other words, the `e` in the scientific notation does not stand\n",
    "for the exponentiation operation, which is instead denoted by `**`."
   ]
  },
  {
   "cell_type": "markdown",
   "id": "ca278d91",
   "metadata": {},
   "source": [
    "⚠️ Scientific notation can only be used with constant values, not variables. "
   ]
  },
  {
   "cell_type": "markdown",
   "id": "472d712d",
   "metadata": {},
   "source": [
    "__Exercise:__ Let `x = 3.14` and `y = 2`. Consider the following three ways to\n",
    "get the interpreter to compute the value of $ 3.14 \\times 10^2 $ and explain\n",
    "their results:\n",
    "\n",
    "(a) `print(3.14e2)`\n",
    "\n",
    "(b) `print(xe2)`\n",
    "\n",
    "(c) `print(3.14ey)`"
   ]
  },
  {
   "cell_type": "code",
   "execution_count": null,
   "id": "3d743c69",
   "metadata": {},
   "outputs": [],
   "source": []
  },
  {
   "attachments": {},
   "cell_type": "markdown",
   "id": "27929018",
   "metadata": {},
   "source": [
    "📝 The expression \"floating-point\" refers to the fact that, when expressed\n",
    "in scientific notation, the position of the decimal point of a number of this\n",
    "type can \"float\" anywhere between its digits, i.e., it is not bound to the\n",
    "position to the right of the digit representing units. In particular, the\n",
    "same number can be represented in several ways, e.g.:\n",
    "$$\n",
    "3.1415 \\times 10^0 = 3141.5 \\times 10^{-3} = 31415 \\times 10^{-4}\n",
    "$$"
   ]
  },
  {
   "attachments": {},
   "cell_type": "markdown",
   "id": "bce81ba1",
   "metadata": {},
   "source": [
    "__Exercise:__ Explain why `2023**100` evaluates to an integer while `2020.1**100` yields an overflow error."
   ]
  },
  {
   "cell_type": "code",
   "execution_count": null,
   "id": "5c79c081",
   "metadata": {},
   "outputs": [],
   "source": []
  },
  {
   "attachments": {},
   "cell_type": "markdown",
   "id": "4414e5df",
   "metadata": {},
   "source": [
    "__Exercise:__ Evaluate `2.0 + 2.0 - 2.0` and `2.0 + 2.0e16 - 2.0e16` and try to explain why the results are different. (We will return to this problem when we study floating point arithmetic later.)"
   ]
  },
  {
   "cell_type": "code",
   "execution_count": null,
   "id": "490f8666",
   "metadata": {},
   "outputs": [],
   "source": []
  },
  {
   "attachments": {},
   "cell_type": "markdown",
   "id": "8e0684d4",
   "metadata": {},
   "source": [
    "## $ \\S 7 $ The type `complex` of complex numbers\n",
    "\n",
    "We will rarely need to use complex numbers in this course. A number of type\n",
    "`complex` can be represented in Python as a pair of floats (its real and\n",
    "imaginary parts) using the special notation indicated in the following examples.\n",
    "\n",
    "⚠️ In Python the imaginary unit is denoted by $ j $ instead of the more usual\n",
    "$ i $. "
   ]
  },
  {
   "cell_type": "code",
   "execution_count": 77,
   "id": "9b729c94",
   "metadata": {},
   "outputs": [
    {
     "name": "stdout",
     "output_type": "stream",
     "text": [
      "(1.23+4.56j) <class 'complex'>\n",
      "(4+1j) <class 'complex'>\n",
      "(5.23+5.56j)\n"
     ]
    }
   ],
   "source": [
    "w = 1.23 + 4.56j  # Note the syntax: we write '4.56j', not '4.56 * j'.\n",
    "print(w, type(w))    # Checking the type of w.\n",
    "\n",
    "z = 4 + 1j       \n",
    "print(z, type(z))\n",
    "\n",
    "print(z + w)"
   ]
  },
  {
   "attachments": {},
   "cell_type": "markdown",
   "id": "8fdbbff5",
   "metadata": {},
   "source": [
    "⚠️ By itself, `j` gets interpreted as a variable whose name is $ j $.  In order\n",
    "to indicate that we want a complex number, `j` must be immediately preceded by a\n",
    "number."
   ]
  },
  {
   "cell_type": "code",
   "execution_count": 118,
   "id": "67bf9590",
   "metadata": {},
   "outputs": [
    {
     "ename": "NameError",
     "evalue": "name 'j' is not defined",
     "output_type": "error",
     "traceback": [
      "\u001b[0;31m---------------------------------------------------------------------------\u001b[0m",
      "\u001b[0;31mNameError\u001b[0m                                 Traceback (most recent call last)",
      "\u001b[0;32m/tmp/ipykernel_53081/4116880521.py\u001b[0m in \u001b[0;36m<module>\u001b[0;34m\u001b[0m\n\u001b[0;32m----> 1\u001b[0;31m \u001b[0mprint\u001b[0m\u001b[0;34m(\u001b[0m\u001b[0mj\u001b[0m\u001b[0;34m)\u001b[0m    \u001b[0;31m# Will result in an error if there is no variable named 'j'.\u001b[0m\u001b[0;34m\u001b[0m\u001b[0;34m\u001b[0m\u001b[0m\n\u001b[0m",
      "\u001b[0;31mNameError\u001b[0m: name 'j' is not defined"
     ]
    }
   ],
   "source": [
    "print(j)    # Will result in an error if there is no variable named 'j'."
   ]
  },
  {
   "cell_type": "code",
   "execution_count": null,
   "id": "47804653",
   "metadata": {},
   "outputs": [
    {
     "name": "stdout",
     "output_type": "stream",
     "text": [
      "(1+0j) <class 'complex'>\n",
      "1j <class 'complex'>\n"
     ]
    }
   ],
   "source": [
    "# Even if the imaginary part is zero, it must still be included explicitly to\n",
    "# indicate that we are dealing with a complex number instead of a float\n",
    "# or an int:\n",
    "a = 1 + 0j\n",
    "print(a, type(a))\n",
    "# However, in case the real part is 0, we may omit it:\n",
    "b = 1j\n",
    "print(b, type(b))"
   ]
  },
  {
   "attachments": {},
   "cell_type": "markdown",
   "id": "573ec516",
   "metadata": {},
   "source": [
    "📝 Each complex number is provided with special attributes `real` and `imag` to\n",
    "representing its real and imaginary parts respectively, and a special method\n",
    "`conjugate` to compute its conjugate. "
   ]
  },
  {
   "cell_type": "code",
   "execution_count": 79,
   "id": "72c0c2b4",
   "metadata": {},
   "outputs": [
    {
     "name": "stdout",
     "output_type": "stream",
     "text": [
      "1j\n",
      "0.0 <class 'float'>\n",
      "1.0 <class 'float'>\n"
     ]
    }
   ],
   "source": [
    "# Complex number with real part 0 and imaginary part 1.0:\n",
    "w = 1.0j\n",
    "print(w)    \n",
    "print(w.real, type(w.real))\n",
    "print(w.imag, type(w.imag))"
   ]
  },
  {
   "cell_type": "code",
   "execution_count": 80,
   "id": "280b5c6e",
   "metadata": {},
   "outputs": [
    {
     "name": "stdout",
     "output_type": "stream",
     "text": [
      "1j\n",
      "0.0 <class 'float'>\n",
      "1.0 <class 'float'>\n"
     ]
    }
   ],
   "source": [
    "# Complex number with real part 0 and imaginary part 1:\n",
    "z = 0 + 1j\n",
    "# Printing z and the type of its real and imaginary parts:\n",
    "print(z)    \n",
    "print(z.real, type(z.real))\n",
    "print(z.imag, type(z.imag))\n",
    "# Although we used the integers 0 and 1 as the real and imaginary parts, the\n",
    "# resulting complex number still has real and imaginary parts of type float!"
   ]
  },
  {
   "cell_type": "code",
   "execution_count": 81,
   "id": "35d89d8a",
   "metadata": {},
   "outputs": [
    {
     "name": "stdout",
     "output_type": "stream",
     "text": [
      "-1j <class 'complex'>\n"
     ]
    }
   ],
   "source": [
    "print(z.conjugate(), type(z.conjugate()))"
   ]
  },
  {
   "attachments": {},
   "cell_type": "markdown",
   "id": "3d77d8f4",
   "metadata": {},
   "source": [
    "__Exercise:__ Suppose that the statements `z = 1 + 1j` and `w = 1 -1j` have just been interpreted.\n",
    "What is the value and type of the following expressions?\n",
    "\n",
    "(a) `z + w`\n",
    "\n",
    "(b) `z - w`\n",
    "\n",
    "(c) `z**2`\n",
    "\n",
    "(d) `z**4`\n",
    "\n",
    "(e) `z * w`\n",
    "\n",
    "(f) `z / w`\n",
    "\n",
    "(g) `w != z`\n",
    "\n",
    "(h) `z + w <= 2 * (z + w)`"
   ]
  },
  {
   "cell_type": "code",
   "execution_count": null,
   "id": "0acca4a8",
   "metadata": {},
   "outputs": [],
   "source": []
  },
  {
   "attachments": {},
   "cell_type": "markdown",
   "id": "a9a4dde3",
   "metadata": {},
   "source": [
    "__Exercise:__ Use Python to guess the value of $ e^{\\pi i} $."
   ]
  },
  {
   "cell_type": "code",
   "execution_count": null,
   "id": "977f63b4",
   "metadata": {},
   "outputs": [],
   "source": []
  },
  {
   "attachments": {},
   "cell_type": "markdown",
   "id": "11bcc40c",
   "metadata": {},
   "source": [
    "## $ \\S 8 $ Type conversion\n",
    "\n",
    "We can use `int`, `float` and `complex` as _functions_ to convert a value to\n",
    "the corresponding type in certain cases. Similarly, any value of a numerical\n",
    "type can be converted to a string by using `str` as a function (strings will be\n",
    "discussed in depth in the next notebook). More precisely:\n",
    "\n",
    "* Any integer may be converted into a floating-point or complex number;\n",
    "* Any floating-point number can be converted into a complex number;\n",
    "* Any numerical value can be converted into a string;\n",
    "* Conversely, a string can also be converted into a numerical type, provided\n",
    "  that its literal represents a valid number of the intended type.\n",
    "\n",
    "__Exercise:__ Suppose that $ a = 2 $. If we run the following statements in\n",
    "sequence, what are the values and types of the corresponding outputs?\n",
    "\n",
    "(a) `float(a)`\n",
    "\n",
    "(b) `complex(a)`\n",
    "\n",
    "(c) `str(a)`\n",
    "\n",
    "(d) `a`"
   ]
  },
  {
   "cell_type": "code",
   "execution_count": null,
   "id": "40b739ca",
   "metadata": {},
   "outputs": [],
   "source": []
  },
  {
   "attachments": {},
   "cell_type": "markdown",
   "id": "a4908cef",
   "metadata": {},
   "source": [
    "📝 Note that in any of these cases, the original object remains the same and a\n",
    "_new_ object having the specified type is created. For instance, in the\n",
    "preceding exercise, after all the statements have been run, $ a $ is still of\n",
    "type `int`."
   ]
  },
  {
   "attachments": {},
   "cell_type": "markdown",
   "id": "42892e52",
   "metadata": {},
   "source": [
    "Applying `int` to a positive floating-point number truncates its decimal part,\n",
    "that is, returns the largest integer $ n \\le x $, or rounds $ x $ _down_. If\n",
    "$ x $ is negative, however, then `int(x)` returns the smallest integer $ n \\ge x\n",
    "$, i.e., rounds $ x $ _up_.\n",
    "\n",
    "__Exercise:__ Compute the outputs of:\n",
    "\n",
    "(a) `int(2)`\n",
    "\n",
    "(b) `int(2.3)`\n",
    "\n",
    "(c) `int(2.8)`\n",
    "\n",
    "(d) `int(-2.3)`\n",
    "\n",
    "(e) `int(-2.8)`"
   ]
  },
  {
   "cell_type": "code",
   "execution_count": null,
   "id": "701539df",
   "metadata": {},
   "outputs": [],
   "source": []
  },
  {
   "attachments": {},
   "cell_type": "markdown",
   "id": "7564b4b8",
   "metadata": {},
   "source": [
    "To round $ x $ to the nearest integer, we use `round(x)`. More generally,\n",
    "`round(x, <number of digits>)` rounds a floating-point number $ x $ to a precision\n",
    "within the specified number of digits after the decimal point.\n",
    "\n",
    "__Exercise:__ Let the variable $ b $ have the value $ 2.654321 $. What are the values of:\n",
    "\n",
    "(a) `int(b)`\n",
    "\n",
    "(b) `round(b)`\n",
    "\n",
    "(c) `round(b, 3)`\n",
    "\n",
    "(d) `round(b, 0)`\n",
    "\n",
    "(e) `round(b, 9)`\n",
    "\n",
    "(f) `round(-b)`\n",
    "\n",
    "(g) `int(-b)`"
   ]
  },
  {
   "cell_type": "code",
   "execution_count": 103,
   "id": "7a21a42b",
   "metadata": {},
   "outputs": [],
   "source": [
    "b = 2.654321"
   ]
  },
  {
   "attachments": {},
   "cell_type": "markdown",
   "id": "9c2032a4",
   "metadata": {},
   "source": [
    "🚫 Trying to convert a complex number into an integer or floating-point number\n",
    "will result in a `TypeError`.\n",
    "\n",
    "__Exercise:__ Suppose that the statement `z = 2.0 + 0j` has just been run through the interpreter. Describe the outputs of:\n",
    "\n",
    "(a) `int(z)`\n",
    "\n",
    "(b) `float(z)`\n",
    "\n",
    "(c) `str(z)`\n",
    "\n",
    "(d) `complex('2.0 + 0j')`\n",
    "\n",
    "(e) `complex('2.0')`"
   ]
  },
  {
   "cell_type": "code",
   "execution_count": null,
   "id": "bff1d97f",
   "metadata": {},
   "outputs": [],
   "source": []
  },
  {
   "attachments": {},
   "cell_type": "markdown",
   "id": "032e5a31",
   "metadata": {},
   "source": [
    "## $ \\S 9 $ Arithmetic operations\n",
    "In summary, Python supports the following binary arithmetic operators:\n",
    "\n",
    "| Operator  | Operation          | Types allowed              |\n",
    "| :-------- | :---------         | :------------------------  |\n",
    "| `+`       | Addition           |  `int`, `float`, `complex` |\n",
    "| `-`       | Subtraction        |  `int`, `float`, `complex` |\n",
    "| `*`       | Multiplication     |  `int`, `float`, `complex` |\n",
    "| `/`       | Division           |  `int`, `float`, `complex` |\n",
    "| `**`      | Exponentiation     |  `int`, `float`, `complex` |\n",
    "| `//`      | Integer division   |  `int`, `float`            |\n",
    "| `%`       | Modulo (remainder) |  `int`, `float`            |\n",
    "\n",
    "<a name=\"table 1\"></a>\n",
    "\n",
    "The latter two operators are defined as follows. If $ x $ and $ y $ are\n",
    "_positive_ integers or floating-point numbers, then:\n",
    "* ` x // y` is the largest integer $ n $ such that $ n y \\le x $.\n",
    "* `x % y` is the remainder of `x // y`, that is, $ x - n y $ for $ n $ as above.\n",
    "\n",
    "These operators are usually applied only when $ x $ and $ y $ are both positive. If one or both of $ x $, $ y $ is negative, the definition is similar.\n",
    "\n",
    "📝 Note the similarity of the symbol `%` to the division operator $ \\div \\,$."
   ]
  },
  {
   "attachments": {},
   "cell_type": "markdown",
   "id": "807d2963",
   "metadata": {},
   "source": [
    "__Exercise:__ Let $ x = 11 $, $ y = 3 $, $ s = 2.51 $ and $ t = 8.53 $. What is the output of the statements below?\n",
    "\n",
    "(a) `x // t`\n",
    "\n",
    "(b) `x % t`\n",
    "\n",
    "(c) `t // y`\n",
    "\n",
    "(d) `t % y`\n",
    "\n",
    "(e) `t // s`\n",
    "\n",
    "(f) `t % s`"
   ]
  },
  {
   "cell_type": "code",
   "execution_count": null,
   "id": "08363909",
   "metadata": {},
   "outputs": [],
   "source": []
  },
  {
   "attachments": {},
   "cell_type": "markdown",
   "id": "d377667e",
   "metadata": {},
   "source": [
    "__Exercise:__ By considering some examples, deduce the meaning of `x // y` and `x % y ` when one (or both) of $ x $ and $ y $ is negative."
   ]
  },
  {
   "cell_type": "code",
   "execution_count": null,
   "id": "f2056184",
   "metadata": {},
   "outputs": [],
   "source": []
  },
  {
   "attachments": {},
   "cell_type": "markdown",
   "id": "3bb6cd09",
   "metadata": {},
   "source": [
    "📝 Applying `%` with second argument $ 1 $ results in the fractional part of the\n",
    "(positive) first argument, as in the following example."
   ]
  },
  {
   "cell_type": "code",
   "execution_count": 108,
   "id": "d6fb65aa",
   "metadata": {},
   "outputs": [
    {
     "data": {
      "text/plain": [
       "0.14158999999999988"
      ]
     },
     "execution_count": 108,
     "metadata": {},
     "output_type": "execute_result"
    }
   ],
   "source": [
    "3.14159 % 1"
   ]
  },
  {
   "attachments": {},
   "cell_type": "markdown",
   "id": "b6588690",
   "metadata": {},
   "source": [
    "__Exercise:__ Predict the values of the following expressions and then check your answers:\n",
    "\n",
    "(a) `7 * 2`\n",
    "\n",
    "(b) `7 ** 2`\n",
    "\n",
    "(c) `7 // 2`\n",
    "\n",
    "(d) `7 / 2`\n",
    "\n",
    "(e) `7 % 2`"
   ]
  },
  {
   "cell_type": "code",
   "execution_count": null,
   "id": "f23f12c8",
   "metadata": {},
   "outputs": [],
   "source": []
  },
  {
   "attachments": {},
   "cell_type": "markdown",
   "id": "46232510",
   "metadata": {},
   "source": [
    "Besides these binary arithmetic operators, we can also make use of the following functions when working with numerical values:\n",
    "* `abs`, the **absolute value** function, which takes a single numerical argument of any numerical type (`int`, `float` or `complex`) and returns its absolute value (or modulus, in the case of complex numbers);\n",
    "* `max` and `min`, which can take any number of arguments of type\n",
    "  `float` or `int` separated by commas and return their __maximum__ and\n",
    "  __minimum__, respectively.\n",
    "\n",
    "__Exercise:__ Determine the output of the following statements:\n",
    "\n",
    "(a) `abs(-2.71828)`\n",
    "\n",
    "(b) `abs(2)`\n",
    "\n",
    "(c) `abs(-3 + 4j)`\n",
    "\n",
    "(d) `max(-5.3, 2, 10.45, -23, 0)`\n",
    "\n",
    "(e) `min(-5.3, 2, 10.45, -23, 0)`\n",
    "\n",
    "(f) `max(1 + 1j, 2 + 1j)`\n"
   ]
  },
  {
   "cell_type": "code",
   "execution_count": null,
   "id": "9451b34c",
   "metadata": {},
   "outputs": [],
   "source": []
  },
  {
   "attachments": {},
   "cell_type": "markdown",
   "id": "d61922d0",
   "metadata": {},
   "source": [
    "Other common mathematical functions such as the exponential, the logarithm and the trigonometric functions can be used after importing the `math` or `numpy` modules (more about this later)."
   ]
  },
  {
   "attachments": {},
   "cell_type": "markdown",
   "id": "c390e02c",
   "metadata": {},
   "source": [
    "## $ \\S 10 $ Compound assignment operators\n",
    "\n",
    "Corresponding to each of the arithmetic operators considered above, Python\n",
    "provides the following __compound assignment operators__ which can be used to\n",
    "perform an operation in-place on a variable provided as its first operand:\n",
    "\n",
    "    +=, -=, *=, /=, **=, //=, %=\n",
    "\n",
    "Their meaning can be gleaned from the following examples.\n",
    "\n",
    "| Example             | Equivalent statement |\n",
    "| :--------           | :---------           |\n",
    "| `x += 3.14`         | ` x = x + 3.14`      |\n",
    "| `x -= (2  + 3j)`    | `x = x - (2 + 3j)`   |\n",
    "| `x *= 2`            | `x = x * 2`          |\n",
    "| `x /= 3`            | `x = x / 3`          |\n",
    "| `x **= 0.5`         | `x = x**0.5`         |\n",
    "| `x //= z`           | `x = x // z`         |\n",
    "| `x %= y**2`         | `x = x % (y**2)`     |\n",
    "\n",
    "In each case, the _current_ value of the variable $ x $ is used to compute\n",
    "the expression on the right, and the result is then assigned as the new \n",
    "value of $ x $.\n",
    "\n",
    "__Exercise:__ Let $ x = 7 $ and $ y = 5 $. Determine the\n",
    "values of $ x $ and $ y $ after each of the following statements is run through\n",
    "the interpreter in sequence:\n",
    "\n",
    "(a) `x -= y`\n",
    "\n",
    "(b) `y += x`\n",
    "\n",
    "(c) `y **= x`\n",
    "\n",
    "(d) `y //= x`\n",
    "\n",
    "(e) `y %= x`\n",
    "\n",
    "(f) `x **= 1/2`"
   ]
  },
  {
   "cell_type": "code",
   "execution_count": null,
   "id": "67e53767",
   "metadata": {},
   "outputs": [],
   "source": [
    "x = 7\n",
    "y = 5"
   ]
  }
 ],
 "metadata": {
  "kernelspec": {
   "display_name": "Python 3",
   "language": "python",
   "name": "python3"
  },
  "language_info": {
   "codemirror_mode": {
    "name": "ipython",
    "version": 3
   },
   "file_extension": ".py",
   "mimetype": "text/x-python",
   "name": "python",
   "nbconvert_exporter": "python",
   "pygments_lexer": "ipython3",
   "version": "3.10.12"
  },
  "vscode": {
   "interpreter": {
    "hash": "e7370f93d1d0cde622a1f8e1c04877d8463912d04d973331ad4851f04de6915a"
   }
  }
 },
 "nbformat": 4,
 "nbformat_minor": 5
}
