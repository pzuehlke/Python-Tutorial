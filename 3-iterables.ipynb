{
 "cells": [
  {
   "cell_type": "markdown",
   "metadata": {},
   "source": [
    "# Strings, lists and tuples"
   ]
  },
  {
   "attachments": {},
   "cell_type": "markdown",
   "metadata": {},
   "source": [
    "## $ \\S 1 $ Strings<a name=\"strings\"></a>"
   ]
  },
  {
   "attachments": {},
   "cell_type": "markdown",
   "metadata": {},
   "source": [
    "### $ 1.1 $ Strings as sequences of characters\n",
    "A __string__ is a sequence of characters enclosed in either single `'` or double `\"` quotes. The type corresponding to strings is called `str`.\n",
    "\n",
    "__Example:__"
   ]
  },
  {
   "cell_type": "code",
   "execution_count": 16,
   "metadata": {},
   "outputs": [
    {
     "name": "stdout",
     "output_type": "stream",
     "text": [
      "Gandalf <class 'str'>\n",
      "Sauron <class 'str'>\n"
     ]
    }
   ],
   "source": [
    "g = \"Gandalf\"\n",
    "s = 'Sauron'\n",
    "print(g, type(g))   # Printing the string g and its type.\n",
    "print(s, type(s))   # Doing the same for the string s."
   ]
  },
  {
   "attachments": {},
   "cell_type": "markdown",
   "metadata": {},
   "source": [
    "📝 Unlike several other languages, Python does not have a special type for\n",
    "characters: a character is represented simply as a string of length 1."
   ]
  },
  {
   "cell_type": "code",
   "execution_count": 15,
   "metadata": {},
   "outputs": [
    {
     "name": "stdout",
     "output_type": "stream",
     "text": [
      "a <class 'str'>\n"
     ]
    }
   ],
   "source": [
    "letter = 'a'\n",
    "print(letter, type(letter))    # Note that letter is of type str."
   ]
  },
  {
   "attachments": {},
   "cell_type": "markdown",
   "metadata": {},
   "source": [
    "To get the $ i $-th character of a string called, say, $ s $, use `s[i]`; the output is also string (albeit one having only $ 1 $ character).\n",
    "\n",
    "<div class=\"alert alert-warning\">In Python, indices are <i>always</i> counted starting from <b> $ 0 $  (zero)</b>, not $ 1 $. To avoid confusion, we adapt our terminology accordingly to speak of, e.g., 'm' as the <i>0-th</i> character of the string 'magic', 'a' as its first character, and so on... In particular, if a string has length $ n $ (i.e., if it consists of $ n $ characters), then its last index is $ n - 1 $, not $ n $. </div>\n",
    "\n",
    "__Example:__"
   ]
  },
  {
   "cell_type": "code",
   "execution_count": 17,
   "metadata": {},
   "outputs": [
    {
     "name": "stdout",
     "output_type": "stream",
     "text": [
      "G <class 'str'>\n",
      "d <class 'str'>\n",
      "n\n"
     ]
    }
   ],
   "source": [
    "g = \"Gandalf\"\n",
    "s = \"Sauron\"\n",
    "\n",
    "print(g[0], type(g[0]))\n",
    "print(g[3], type(g[3]))\n",
    "\n",
    "# Since s contains 6 letters, the last one is indexed by 5:\n",
    "print(s[5])"
   ]
  },
  {
   "attachments": {},
   "cell_type": "markdown",
   "metadata": {},
   "source": [
    "By prefixing an index with a minus sign $ - $, we start counting to the 'left'\n",
    "from the 0-th character. For example, `s[-1]` is the _last_ character of $ s $,\n",
    "`s[-2]` its _next-to-last_ character, and so on.\n",
    "\n",
    "📝 If we want to create a string that has a single quote as one of its\n",
    "characters, we should enclose it in double quotes, and vice-versa."
   ]
  },
  {
   "cell_type": "code",
   "execution_count": 1,
   "metadata": {},
   "outputs": [
    {
     "name": "stdout",
     "output_type": "stream",
     "text": [
      "'\n",
      "!\n"
     ]
    }
   ],
   "source": [
    "explosion = \"'BOOM!'\"\n",
    "last = explosion[-1]\n",
    "print(last)\n",
    "\n",
    "next_to_last = explosion[-2]\n",
    "print(next_to_last)"
   ]
  },
  {
   "attachments": {},
   "cell_type": "markdown",
   "metadata": {},
   "source": [
    "### $ 1.2 $ Operations on strings\n",
    "\n",
    "Strings can be __concatenated__ using the binary operator __+__.\n",
    "\n",
    "__Example:__"
   ]
  },
  {
   "cell_type": "code",
   "execution_count": 19,
   "metadata": {},
   "outputs": [
    {
     "name": "stdout",
     "output_type": "stream",
     "text": [
      "ancientmagic\n",
      "ancient magic spells\n"
     ]
    }
   ],
   "source": [
    "string_1 = \"ancient\"\n",
    "string_2 = \"magic\"\n",
    "string_3 = \"spells\"\n",
    "\n",
    "print(string_1 + string_2)\n",
    "print(string_1 + \" \" + string_2 + \" \" + string_3)"
   ]
  },
  {
   "attachments": {},
   "cell_type": "markdown",
   "metadata": {},
   "source": [
    "__Exercise:__ Suppose that the statements `a = \"hello\"` and `b = 'world'` have\n",
    "just been run through the interpreter. Determine the output of each of the\n",
    "following statements:\n",
    "\n",
    "(a) `a + a`\n",
    "\n",
    "(b) `b + \" \" + a`\n",
    "\n",
    "(c) `a * 3`\n",
    "\n",
    "(d) `2 * b`\n",
    "\n",
    "(e) `(-1) * a`\n",
    "\n",
    "(f) `1 + \"1\"`\n",
    "\n",
    "(g) `a * b`\n",
    "\n",
    "(h) `a - a`\n",
    "\n",
    "(i) `0 == '0'`\n",
    "\n",
    "(j) `True == \"True\"`"
   ]
  },
  {
   "cell_type": "code",
   "execution_count": null,
   "metadata": {},
   "outputs": [],
   "source": []
  },
  {
   "attachments": {},
   "cell_type": "markdown",
   "metadata": {},
   "source": [
    "📝 In analogy with the interpretation of `+` as concatenation of strings, if one\n",
    "uses `*` to \"multiply\" a string by a positive integer $ n $, then the result is\n",
    "a new string which consists of $ n $ copies of the original string, concatenated\n",
    "one after another. More concisely, for strings `*` denotes __repetition__.  The\n",
    "remaining arithmetic operators (`-`, `/`, `//` and `%`) cannot be applied to\n",
    "strings."
   ]
  },
  {
   "cell_type": "code",
   "execution_count": 2,
   "metadata": {},
   "outputs": [
    {
     "name": "stdout",
     "output_type": "stream",
     "text": [
      "foofoofoo\n",
      "foofoofoo\n"
     ]
    }
   ],
   "source": [
    "word = \"foo\"\n",
    "print(word * 3)\n",
    "print(3 * word)"
   ]
  },
  {
   "attachments": {},
   "cell_type": "markdown",
   "metadata": {},
   "source": [
    "The function `len` applied to a string returns its **length**, i.e., the number of characters it contains, which is always a non-negative integer.\n",
    "\n",
    "__Example:__"
   ]
  },
  {
   "cell_type": "code",
   "execution_count": 5,
   "metadata": {},
   "outputs": [
    {
     "name": "stdout",
     "output_type": "stream",
     "text": [
      "four 4 <class 'int'>\n",
      "Polysyllabic 12 <class 'int'>\n"
     ]
    }
   ],
   "source": [
    "f = \"four\"\n",
    "p = \"Polysyllabic\"\n",
    "print(f, len(f), type(len(f)))\n",
    "print(p, len(p), type(len(p)))"
   ]
  },
  {
   "cell_type": "code",
   "execution_count": 4,
   "metadata": {},
   "outputs": [
    {
     "name": "stdout",
     "output_type": "stream",
     "text": [
      "fourfour 8\n",
      "fourPolysyllabic 16\n"
     ]
    }
   ],
   "source": [
    "print(2 * f, len(2 * f))\n",
    "print(f + p, len(f + p))"
   ]
  },
  {
   "cell_type": "code",
   "execution_count": 7,
   "metadata": {},
   "outputs": [
    {
     "name": "stdout",
     "output_type": "stream",
     "text": [
      "0\n",
      "3\n"
     ]
    }
   ],
   "source": [
    "# The empty string is the only string having length 0:\n",
    "print(len(\"\"))\n",
    "\n",
    "# Note that whitespaces also count as valid characters:\n",
    "print(len(\"   \"))    # <--- This string consists of three spaces."
   ]
  },
  {
   "attachments": {},
   "cell_type": "markdown",
   "metadata": {},
   "source": [
    "🚫 A string is an __immutable__ object, meaning that its individual characters\n",
    "_cannot be modified_. Trying to do so will make the interpreter throw a\n",
    "`TypeError`."
   ]
  },
  {
   "cell_type": "code",
   "execution_count": 35,
   "metadata": {},
   "outputs": [
    {
     "ename": "TypeError",
     "evalue": "'str' object does not support item assignment",
     "output_type": "error",
     "traceback": [
      "\u001b[0;31m---------------------------------------------------------------------------\u001b[0m",
      "\u001b[0;31mTypeError\u001b[0m                                 Traceback (most recent call last)",
      "Cell \u001b[0;32mIn[35], line 3\u001b[0m\n\u001b[1;32m      1\u001b[0m g \u001b[39m=\u001b[39m \u001b[39m\"\u001b[39m\u001b[39mGandalf\u001b[39m\u001b[39m\"\u001b[39m\n\u001b[1;32m      2\u001b[0m \u001b[39m# Let's try to modify the first string of g to see what happens:\u001b[39;00m\n\u001b[0;32m----> 3\u001b[0m g[\u001b[39m0\u001b[39;49m] \u001b[39m=\u001b[39m \u001b[39m'\u001b[39m\u001b[39mR\u001b[39m\u001b[39m'\u001b[39m\n",
      "\u001b[0;31mTypeError\u001b[0m: 'str' object does not support item assignment"
     ]
    }
   ],
   "source": [
    "g = \"Gandalf\"\n",
    "# Let's try to modify the first string of g to see what happens:\n",
    "g[0] = 'R'"
   ]
  },
  {
   "attachments": {},
   "cell_type": "markdown",
   "metadata": {},
   "source": [
    "The __colon operator `:`__, as in `[i:j]`, is used to __slice__ a string from\n",
    "its $ i $-th character (inclusive) to its $ j $-th character (exclusive).\n",
    "This operation does not modify the string (after all, strings are immutable);\n",
    "rather, it creates a _new_ string which consists of the characters having index\n",
    "ranging from $ i $ up to and including $ j - 1 $.\n",
    "\n",
    "__Example:__"
   ]
  },
  {
   "cell_type": "code",
   "execution_count": 2,
   "metadata": {},
   "outputs": [
    {
     "name": "stdout",
     "output_type": "stream",
     "text": [
      "ma <class 'str'>\n",
      "gic <class 'str'>\n",
      "magic\n"
     ]
    }
   ],
   "source": [
    "string = 'magic'\n",
    "\n",
    "# Slice from the 0th character to the 2nd (not including the 2nd):\n",
    "init = string[0:2]\n",
    "print(init, type(init))\n",
    "\n",
    "# Slice from the 2nd character to the 5th (not including the 5th):\n",
    "final = string[2:5]   \n",
    "print(final, type(final))\n",
    "\n",
    "print(init + final)"
   ]
  },
  {
   "attachments": {},
   "cell_type": "markdown",
   "metadata": {},
   "source": [
    "Omitting the first index in a slice has the same effect slicing from the\n",
    "beginning.  Similarly, if we omit the second index, then the string will be\n",
    "sliced until the end."
   ]
  },
  {
   "cell_type": "code",
   "execution_count": 37,
   "metadata": {},
   "outputs": [
    {
     "name": "stdout",
     "output_type": "stream",
     "text": [
      "auto\n",
      "maton\n"
     ]
    }
   ],
   "source": [
    "word = 'automaton'\n",
    "print(word[:4])\n",
    "print(word[4:])"
   ]
  },
  {
   "attachments": {},
   "cell_type": "markdown",
   "metadata": {},
   "source": [
    "One frequently has a need to make an independent copy of a string. To achieve\n",
    "this, a _full slice_ `[:]` can be used.\n",
    "\n",
    "__Example:__"
   ]
  },
  {
   "cell_type": "code",
   "execution_count": 4,
   "metadata": {},
   "outputs": [
    {
     "name": "stdout",
     "output_type": "stream",
     "text": [
      "magic potion\n"
     ]
    }
   ],
   "source": [
    "string_1 = 'potion'\n",
    "\n",
    "# Omit both indices in the slice to create a copy of the original string:\n",
    "string_2 = string_1[:]    \n",
    "\n",
    "string_1 = 'magic'\n",
    "print(string_1, string_2)"
   ]
  },
  {
   "attachments": {},
   "cell_type": "markdown",
   "metadata": {},
   "source": [
    "__Exercise:__ Let $ s $ be a variable whose value is a string. True or False? Explain.\n",
    "\n",
    "(a) `s[:] == s[0:]`\n",
    "\n",
    "(b) `s[:] == s[0:len(s)]`\n",
    "\n",
    "(c) `s[:] == s[0:-1]`\n"
   ]
  },
  {
   "cell_type": "code",
   "execution_count": null,
   "metadata": {},
   "outputs": [],
   "source": []
  },
  {
   "attachments": {},
   "cell_type": "markdown",
   "metadata": {},
   "source": [
    "The slice construct also admits a third argument, which specifies the\n",
    "__step size__ in the slicing operation. The syntax of a slice whice makes use of\n",
    "all three arguments is thus:\n",
    "`[<start index (inclusive)>:<stop index (exclusive)>: <step size>]`. If omitted,\n",
    "the step size is set to $ 1 $ by default. Step sizes can also be negative, which\n",
    "causes the string to be sliced in the right-to-left direction.\n",
    "\n",
    "__Example:__"
   ]
  },
  {
   "cell_type": "code",
   "execution_count": 8,
   "metadata": {},
   "outputs": [
    {
     "name": "stdout",
     "output_type": "stream",
     "text": [
      "magic\n",
      "magic\n",
      "mgc\n",
      "ai\n",
      "cigam\n"
     ]
    }
   ],
   "source": [
    "s = \"magic\"\n",
    "print(s[::])    # Full slice, step size set to 1 by default.\n",
    "print(s[::1])   # Full slice, explicit step size of 1.\n",
    "print(s[::2])   # Slice consisting of even-indexed characters.\n",
    "print(s[1::2])  # Slice consisting of odd-indexed characters.\n",
    "print(s[::-1])  # Slice which amounts to the reverse of the string."
   ]
  },
  {
   "attachments": {},
   "cell_type": "markdown",
   "metadata": {},
   "source": [
    "📝 As above, to create a copy of string $ s $ with its characters reversed, we use `s[::-1]`."
   ]
  },
  {
   "attachments": {},
   "cell_type": "markdown",
   "metadata": {},
   "source": [
    "__Exercise:__ Suppose that $ p $ is the name of a variable whose value is the string \"racecar\". What is the output of the following statements?\n",
    "\n",
    "(a) `p[::-1]`\n",
    "\n",
    "(b) `p[0::2]`\n",
    "\n",
    "(c) `p[::2]`\n",
    "\n",
    "(d) `p[1::4]`\n",
    "\n",
    "(e) `p[2:4:2]`\n",
    "\n",
    "(f) `p[2:5:2]`\n",
    "\n",
    "(g) `p[2:6:2]`\n",
    "\n",
    "(h) `p[2:7:2]`\n",
    "\n",
    "(i) `p[4:0:-1]`\n",
    "\n",
    "(j) `p[4::-2]`\n",
    "\n",
    "(k) `p[1::-1]`"
   ]
  },
  {
   "cell_type": "code",
   "execution_count": null,
   "metadata": {},
   "outputs": [],
   "source": []
  },
  {
   "attachments": {},
   "cell_type": "markdown",
   "metadata": {},
   "source": [
    "Here is a summary of the operations on strings that we have considered thus far:\n",
    "\n",
    "| Operation       | Meaning                    |\n",
    "| :--------------| :---------------------------|\n",
    "| `+`             | Concatenation              |\n",
    "| `*`             | Repetition                 |\n",
    "| `<string>[]`    | Indexing (accessing)       |\n",
    "| `<string>[:]`   | Slicing                    |\n",
    "| `len(<string>)` | Length                     |\n"
   ]
  },
  {
   "attachments": {},
   "cell_type": "markdown",
   "metadata": {},
   "source": [
    "### $ 1.3 $ Comparing strings\n",
    "\n",
    "All of the comparison operators introduced in the previous notebook work for\n",
    "strings as well. Strings are ordered according to the __lexicographic__ (or __dictionary__) __order__.\n",
    "Therefore:\n",
    "\n",
    "* The operators `==` and `!=` tell whether two given strings have the\n",
    "  same value or not, i.e., if they consist of exactly the same characters in the\n",
    "  same order (this includes distinguishing uppercase from lowercase letters).\n",
    "* When applied to two strings $ a $ and $ b $, `a < b` returns `True` if and\n",
    "  only if $ a $ comes before $ b $ in the dictionary order. Similarly for\n",
    "  `<=`, `>` and `>=`.\n",
    "\n",
    "__Exercise:__ Let $ a,\\,b,\\,q,\\,r $ be as defined in the code cell below.\n",
    "Determine the value of:\n",
    "\n",
    "(a) `a < b`\n",
    "\n",
    "(b) `b < q `\n",
    "\n",
    "(c) `a == a`\n",
    "\n",
    "(d) `a != b`\n",
    "\n",
    "(e) `q >= r`\n",
    "\n",
    "(f) `b < a < q < r`"
   ]
  },
  {
   "cell_type": "code",
   "execution_count": 7,
   "metadata": {},
   "outputs": [],
   "source": [
    "a = \"potion\"\n",
    "b = \"portion\"\n",
    "q = \"quarterstaff\"  \n",
    "r = \"robe\""
   ]
  },
  {
   "attachments": {},
   "cell_type": "markdown",
   "metadata": {},
   "source": [
    "### $ 1.4 $ Some useful string methods\n",
    "\n",
    "A __method__ is a function that is associated with an object of a given class,\n",
    "such as the class of strings. It performs a specific action involving this\n",
    "object and may return a value or modify the object directly. Methods are\n",
    "called using the notation `<object>.<method>`.\n",
    "\n",
    "Since text is one of the most common forms of data, being able to manipulate and\n",
    "process it effectively is essential for many applications.  Python provides\n",
    "several built-in methods for the string type. We mention some of the most\n",
    "important ones very briefly so that the reader may get a rough idea of what is\n",
    "possible (don't try to memorize their names!). For a full list, refer to the\n",
    "official\n",
    "[documentation](https://docs.python.org/3/library/stdtypes.html#string-methods).\n",
    "\n",
    "__Examples:__"
   ]
  },
  {
   "cell_type": "code",
   "execution_count": 18,
   "metadata": {},
   "outputs": [
    {
     "name": "stdout",
     "output_type": "stream",
     "text": [
      "The quick brown dog jumps over the lazy Python.\n",
      "Replace 'dog' with 'fox': The quick brown fox jumps over the lazy Python.\n",
      "Find the index of the first occurrence of 'Python': 40\n",
      "Count the occurrences of the substring 'o': 4\n",
      "Strip leading and trailing whitespace: The quick brown dog jumps over the lazy Python.\n",
      "Split the string by a delimiter: ['The', 'quick', 'brown', 'dog', 'jumps', 'over', 'the', 'lazy', 'Python.']\n",
      "Join a list of strings, separated by a specified delimiter: Parallel lines have so much in common.\n"
     ]
    }
   ],
   "source": [
    "# Create a string:\n",
    "s = \"The quick brown dog jumps over the lazy Python.\"\n",
    "print(s)\n",
    "\n",
    "# replace -- Replaces occurrences of a substring with another substring:\n",
    "s_replace = s.replace(\"dog\", \"fox\")\n",
    "print(\"Replace 'dog' with 'fox':\", s_replace)\n",
    "\n",
    "# find -- Returns the index of the first occurrence of a substring:\n",
    "index = s.find(\"Python\")\n",
    "print(\"Find the index of the first occurrence of 'Python':\", index)\n",
    "\n",
    "# count -- Counts the occurrences of a substring:\n",
    "count_o = s.count(\"o\")\n",
    "print(\"Count the occurrences of the substring 'o':\", count_o)\n",
    "\n",
    "# strip -- Removes leading and trailing whitespace (or specified chars):\n",
    "s_with_spaces = \"     \" + s + \"     \"\n",
    "s_stripped = s_with_spaces.strip()\n",
    "print(\"Strip leading and trailing whitespace:\", s_stripped)\n",
    "# There are also methods 'lstrip' and 'rstrip' for removing specified\n",
    "# characters from the beginning or end of the string, respectively.\n",
    "\n",
    "# split -- Splits the string into a list using a delimiter (default = space):\n",
    "words = s.split()\n",
    "print(\"Split the string by a delimiter:\", words)\n",
    "\n",
    "# join -- Joins elements of an iterable (e.g., list) using the string:\n",
    "separator = \" \"    # This is the string to which join will be applied.\n",
    "list_of_words = [\"Parallel\", \"lines\", \"have\", \"so\", \"much\", \"in\", \"common.\"]\n",
    "sentence = separator.join(list_of_words)\n",
    "print(\"Join a list of strings, separated by a specified delimiter:\", sentence)"
   ]
  },
  {
   "cell_type": "code",
   "execution_count": 19,
   "metadata": {},
   "outputs": [
    {
     "name": "stdout",
     "output_type": "stream",
     "text": [
      "tHE qUIcK BRown DOG JUMPS oVer tHE lAZY pYTHON.\n",
      "Capitalize: The quick brown dog jumps over the lazy python.\n",
      "Convert all characters to lowercase: the quick brown dog jumps over the lazy python.\n",
      "Convert all characters to uppercase: THE QUICK BROWN DOG JUMPS OVER THE LAZY PYTHON.\n",
      "Convert the string to titlecase: The Quick Brown Dog Jumps Over The Lazy Python.\n",
      "Center the string within a specified width:\n",
      "            tHE qUIcK BRown DOG JUMPS oVer tHE lAZY pYTHON.            \n"
     ]
    }
   ],
   "source": [
    "# Some more methods:\n",
    "s = \"tHE qUIcK BRown DOG JUMPS oVer tHE lAZY pYTHON.\"\n",
    "print(s)\n",
    "\n",
    "# capitalize -- Capitalizes the first character and lowercases the rest:\n",
    "s_capitalize = s.capitalize()\n",
    "print(\"Capitalize:\", s_capitalize)\n",
    "\n",
    "# lower -- Converts the string to lowercase:\n",
    "s_lower = s.lower()\n",
    "print(\"Convert all characters to lowercase:\", s_lower)\n",
    "\n",
    "# upper -- Converts the string to uppercase:\n",
    "s_upper = s.upper()\n",
    "print(\"Convert all characters to uppercase:\", s_upper)\n",
    "\n",
    "# title -- Capitalizes the first character of each word:\n",
    "s_title = s.title()\n",
    "print(\"Convert the string to titlecase:\", s_title)\n",
    "\n",
    "# center -- Centers the string within a specified width:\n",
    "s_centered = s.center(70)\n",
    "print(\"Center the string within a specified width:\\n\", s_centered)\n"
   ]
  },
  {
   "attachments": {},
   "cell_type": "markdown",
   "metadata": {},
   "source": [
    "## $ \\S 2 $ Lists"
   ]
  },
  {
   "attachments": {},
   "cell_type": "markdown",
   "metadata": {},
   "source": [
    "### $ 2.1 $ The `list` type\n",
    "\n",
    "A __list__ (that is, an object of type `list`) consists of zero, one or several\n",
    "objects ordered in sequence. The types of the elements of a list can be of any\n",
    "kind whatsoever, and they do not need to coincide. For example, one can create\n",
    "lists which contain integers, floats and strings; or lists whose elements can be\n",
    "either complex numbers or functions.  In particular, lists in Python have the\n",
    "important property of __closure__: one is allowed to make lists of lists, or\n",
    "lists of lists of lists, etc.\n",
    "\n",
    "A list is represented using _brackets_ `[]`, with its elements separated by\n",
    "commas. Just as for strings, the function `len` can be used to count\n",
    "the number of items contained in a list.\n",
    "\n",
    "__Example:__"
   ]
  },
  {
   "cell_type": "code",
   "execution_count": null,
   "metadata": {},
   "outputs": [
    {
     "name": "stdout",
     "output_type": "stream",
     "text": [
      "4\n",
      "0\n",
      "['acai', 'apple', 'apricot', 'avocado', 'Delfador']\n"
     ]
    }
   ],
   "source": [
    "fruits = [\"acai\", 'apple', \"apricot\", 'avocado']\n",
    "# The elements of a list can be of different types:\n",
    "numbers = [0, 'eight', -53, 12.34, (3 + 4j)]\n",
    "\n",
    "empty = []                  # This is an empty list.\n",
    "mages = ['Delfador']        # This list has a single element.\n",
    "\n",
    "print(len(fruits))          # Use 'len' to get the length of a list.\n",
    "print(len(empty))\n",
    "\n",
    "new_list = fruits + mages   # We can concatenate two lists using '+'.\n",
    "print(new_list)"
   ]
  },
  {
   "attachments": {},
   "cell_type": "markdown",
   "metadata": {},
   "source": [
    "Just like strings, lists can be __concatenated__ with the `+` operator,\n",
    "__repeated__ by \"multiplication\" with a positive integers using `*` and\n",
    "__sliced__ with the `:` operator. Note that none of these operations\n",
    "_modifies_ the original list; instead, they create a _new_ list.\n",
    "\n",
    "\n",
    "__Exercises:__ Let _movies_ be the list in the code cell below. Determine the output of the following statements:\n",
    "\n",
    "(a) `movies * 2`\n",
    "\n",
    "(b) `movies + [\"Paths of Glory\", \"Modern Times\"]`\n",
    "\n",
    "(c) `[\"Star Wars\", \"The Third Man\"] + movies`\n",
    "\n",
    "(d) `movies[:2]`\n",
    "\n",
    "(e) `movies[::-1]`\n",
    "\n",
    "(f) `movies + []`\n",
    "\n",
    "(g) `movies + \"error\"`"
   ]
  },
  {
   "cell_type": "code",
   "execution_count": null,
   "metadata": {},
   "outputs": [],
   "source": [
    "movies = [\"Gone with the Wind\",\n",
    "         \"Interstellar\",\n",
    "         \"E.T.\",\n",
    "         \"It's a Wonderful Life\",\n",
    "         \"Rain Man\",\n",
    "         \"Rambo\"]"
   ]
  },
  {
   "attachments": {},
   "cell_type": "markdown",
   "metadata": {},
   "source": [
    "### $ 2.2 $ Modifying lists\n",
    "\n",
    "In contrast to strings, lists are __mutable__ objects, meaning that their individual elements can be modified by assignments.\n",
    "\n",
    "__Exercise:__ Let _movies_ be the list in the next code cell. What is the value\n",
    "of _movies_ after each of the statements below are run through the interpreter\n",
    "in sequence?\n",
    "\n",
    "(a) `movies[1] = \"Forrest Gump\"`\n",
    "\n",
    "(b) `movies[2:4] = [\"Modern Times\", \"Paths of Glory\"]`\n",
    "\n",
    "(c) `movies[-1] = \"Bicycle Thieves\"`\n",
    "\n",
    "(d) `movies += \"Das Leben der Anderen\"`\n"
   ]
  },
  {
   "cell_type": "code",
   "execution_count": 9,
   "metadata": {},
   "outputs": [],
   "source": [
    "movies = [\"Gone with the Wind\",\n",
    "         \"Interstellar\",\n",
    "         \"E.T.\",\n",
    "         \"It's a Wonderful Life\",\n",
    "         \"Rain Man\",\n",
    "         \"Rambo\"]"
   ]
  },
  {
   "attachments": {},
   "cell_type": "markdown",
   "metadata": {},
   "source": [
    "⚠️ In order to _modify_ the element at the $ k $-th index of a list, the list\n",
    "must have items associated with every index between $ 0 $ and $ k - 1 $. Trying\n",
    "to access in any way the $ k $-th element of a list of length $ \\le k $\n",
    "generates an `IndexError`.\n",
    "\n",
    "__Example:__"
   ]
  },
  {
   "cell_type": "code",
   "execution_count": 40,
   "metadata": {},
   "outputs": [
    {
     "ename": "IndexError",
     "evalue": "list assignment index out of range",
     "output_type": "error",
     "traceback": [
      "\u001b[0;31m---------------------------------------------------------------------------\u001b[0m",
      "\u001b[0;31mIndexError\u001b[0m                                Traceback (most recent call last)",
      "Cell \u001b[0;32mIn[40], line 2\u001b[0m\n\u001b[1;32m      1\u001b[0m words \u001b[39m=\u001b[39m [\u001b[39m\"\u001b[39m\u001b[39mplanet\u001b[39m\u001b[39m\"\u001b[39m, \u001b[39m\"\u001b[39m\u001b[39mPluto\u001b[39m\u001b[39m\"\u001b[39m, \u001b[39m\"\u001b[39m\u001b[39mdwarf\u001b[39m\u001b[39m\"\u001b[39m, \u001b[39m\"\u001b[39m\u001b[39mrevenge\u001b[39m\u001b[39m\"\u001b[39m, \u001b[39m\"\u001b[39m\u001b[39msolarsystem\u001b[39m\u001b[39m\"\u001b[39m]\n\u001b[0;32m----> 2\u001b[0m words[\u001b[39m5\u001b[39;49m] \u001b[39m=\u001b[39m \u001b[39m\"\u001b[39m\u001b[39mMars\u001b[39m\u001b[39m\"\u001b[39m\n",
      "\u001b[0;31mIndexError\u001b[0m: list assignment index out of range"
     ]
    }
   ],
   "source": [
    "words = [\"planet\", \"Pluto\", \"dwarf\", \"revenge\", \"solarsystem\"]\n",
    "words[5] = \"Mars\""
   ]
  },
  {
   "attachments": {},
   "cell_type": "markdown",
   "metadata": {},
   "source": [
    "### $ 2.3 $ Some methods defined on lists\n",
    "\n",
    "Lists also support several useful methods (recall that a __method__ is a\n",
    "function associated with a specific class or type). Here are examples of how\n",
    "some of them are used.\n",
    "\n",
    "__Examples:__"
   ]
  },
  {
   "cell_type": "code",
   "execution_count": 12,
   "metadata": {},
   "outputs": [
    {
     "name": "stdout",
     "output_type": "stream",
     "text": [
      "['apple', 'avocado', 'apricot', 'acai', 'apple']\n"
     ]
    }
   ],
   "source": [
    "fruits = ['apple', \"avocado\", 'apricot', \"acai\"]\n",
    "\n",
    "fruits.append('apple')             # Append an element to the end of a list.\n",
    "print(fruits)"
   ]
  },
  {
   "cell_type": "code",
   "execution_count": 13,
   "metadata": {},
   "outputs": [
    {
     "name": "stdout",
     "output_type": "stream",
     "text": [
      "['strawberry', 'apple', 'avocado', 'apricot', 'acai', 'apple']\n"
     ]
    }
   ],
   "source": [
    "fruits.insert(0, \"strawberry\")     # Insert an element at a specified position.\n",
    "print(fruits)"
   ]
  },
  {
   "cell_type": "code",
   "execution_count": 14,
   "metadata": {},
   "outputs": [
    {
     "name": "stdout",
     "output_type": "stream",
     "text": [
      "1\n"
     ]
    }
   ],
   "source": [
    "# The method 'index' returns the index of the first occurrence of an element\n",
    "# in a list. If there is no such element, it yields a ValueError.\n",
    "print(fruits.index('apple'))"
   ]
  },
  {
   "cell_type": "code",
   "execution_count": null,
   "metadata": {},
   "outputs": [],
   "source": [
    "fruits.index('banana')"
   ]
  },
  {
   "cell_type": "code",
   "execution_count": 15,
   "metadata": {},
   "outputs": [
    {
     "name": "stdout",
     "output_type": "stream",
     "text": [
      "['strawberry', 'avocado', 'apricot', 'acai', 'apple']\n"
     ]
    }
   ],
   "source": [
    "fruits.remove('apple')   # Remove the _first occurrence_ of an element.\n",
    "print(fruits)\n"
   ]
  },
  {
   "cell_type": "code",
   "execution_count": 16,
   "metadata": {},
   "outputs": [
    {
     "name": "stdout",
     "output_type": "stream",
     "text": [
      "['acai', 'apple', 'apricot', 'avocado', 'strawberry']\n",
      "['strawberry', 'avocado', 'apricot', 'apple', 'acai']\n"
     ]
    }
   ],
   "source": [
    "fruits.sort()            # Sort the list.\n",
    "print(fruits)\n",
    "fruits.reverse()         # Reverse the order of the elements in the list.\n",
    "print(fruits)"
   ]
  },
  {
   "cell_type": "code",
   "execution_count": 17,
   "metadata": {},
   "outputs": [
    {
     "name": "stdout",
     "output_type": "stream",
     "text": [
      "['strawberry', 'avocado', 'apricot', 'apple', 'acai']\n",
      "['strawberry', 'avocado', 'apple', 'acai']\n",
      "['strawberry', 'avocado', 'apple']\n"
     ]
    },
    {
     "data": {
      "text/plain": [
       "('apricot', 'acai')"
      ]
     },
     "execution_count": 17,
     "metadata": {},
     "output_type": "execute_result"
    }
   ],
   "source": [
    "print(fruits)\n",
    "\n",
    "a = fruits.pop(2)       # Remove the element at the specified\n",
    "print(fruits)           # position and return it as output. \n",
    "\n",
    "b = fruits.pop()        # Use 'pop' without any arguments to remove the\n",
    "print(fruits)           # last item of a list and return it as output.\n",
    "\n",
    "a, b"
   ]
  },
  {
   "attachments": {},
   "cell_type": "markdown",
   "metadata": {},
   "source": [
    "Note that, in each case, the name of the list appears before the method and is\n",
    "separated from it by a dot (`.`). More formally:\n",
    "\n",
    "| Method        | Description                                                  |\n",
    "|---------------|--------------------------------------------------------------|\n",
    "| `append(x)`   | Adds an element `x` to the _end_ of the list.                 |\n",
    "| `insert(i, x)`| Inserts an element `x` at position `i` in the list.      |\n",
    "| `remove(x)`   | Removes the _first occurrence_ of the element `x` from the list. Raises a `ValueError` if the element is not found.|\n",
    "| `sort()`      | Sorts the list in ascending order, or according to a custom sorting function if provided.|\n",
    "| `reverse()`    | Reverses the order of the elements in the list. |\n",
    "| `pop(i)`      | Removes and returns the element at the position `i` in the list. If `i` is not provided, removes and returns the last element.|\n",
    "| `index(x)`    | Returns the index of the first occurrence of the element `x` in the list. Raises a `ValueError` if the element is not found.|\n",
    "\n",
    "📝 The first five of these methods _modify_ the list in-place as\n",
    "described and return `None` as output. `pop` removes the specified element\n",
    "and returns it as output; `index` does not modify the list, but\n",
    "returns the index as output.\n",
    "\n",
    "__Exercise:__ Let _planets_ be the list provided in the code cell below,\n",
    "representing the planets of our solar system. Describe the list and the\n",
    "output after each of the following statements is run in sequence through the\n",
    "interpreter.\n",
    "\n",
    "(a) `planets.insert(1, \"Vulcan\")`\n",
    "\n",
    "(b) `planets = planets + [\"Pluto\"]`\n",
    "\n",
    "(c) `planets.remove(\"Vulcan\")`\n",
    "\n",
    "(d) `planets.sort(reverse=True)`\n",
    "\n",
    "(e) `planets.index(\"Mars\")`\n",
    "\n",
    "(f) `planets.append(\"Planet X\")`\n",
    "\n",
    "(g) `planets.pop(2)`\n",
    "\n",
    "(h) `planets.reverse()`"
   ]
  },
  {
   "cell_type": "code",
   "execution_count": 10,
   "metadata": {},
   "outputs": [],
   "source": [
    "planets = [\"Mercury\", \"Venus\", \"Earth\", \"Mars\", \"Jupiter\", \"Saturn\", \"Uranus\", \"Neptune\"]\n"
   ]
  },
  {
   "attachments": {},
   "cell_type": "markdown",
   "metadata": {},
   "source": [
    "__Exercise:__ What is `[] * 3`? What is `[[]] * 3`? "
   ]
  },
  {
   "cell_type": "code",
   "execution_count": null,
   "metadata": {},
   "outputs": [],
   "source": []
  },
  {
   "cell_type": "markdown",
   "metadata": {},
   "source": [
    "## $ \\S 3 $ Tuples\n",
    "\n",
    "### $ 3.1 $ The `tuple` type\n",
    "\n",
    "Another sequential data type is `tuple`, the type of __tuples__. Like a list, a\n",
    "tuple consists of a sequence of objects of possibly distinct types, separated by\n",
    "commas.  However, tuples are enclosed by _parentheses_ `()` instead of brackets.\n",
    "Also, tuples are __immutable__ (like strings), so that unlike lists, their\n",
    "individual elements _cannot_ be modified.\n",
    "\n",
    "__Example:__"
   ]
  },
  {
   "cell_type": "code",
   "execution_count": 25,
   "metadata": {},
   "outputs": [
    {
     "name": "stdout",
     "output_type": "stream",
     "text": [
      "(8, 'Anna', 23.49, [1, 2, 3]) <class 'tuple'>\n"
     ]
    }
   ],
   "source": [
    "t = (8, 'Anna', 23.49, [1, 2, 3])\n",
    "print(t, type(t))"
   ]
  },
  {
   "attachments": {},
   "cell_type": "markdown",
   "metadata": {},
   "source": [
    "### $ 3.2 $ Operations on tuples\n",
    "\n",
    "As for the other sequential types that we have considered (strings and lists), tuples can be concatenated with `+`, their length can be retrieved using `len`, and their elements and slices can be accessed using `[:]`.\n",
    "\n",
    "__Exercise:__ The tuple in the code cell below records some data about a famous\n",
    "scientist. Describe the output and the effect of the following statements:\n",
    "\n",
    "(a) `record[0]`\n",
    "\n",
    "(b) `record[2]`\n",
    "\n",
    "(c) `record[-1]`\n",
    "\n",
    "(d) `record[:]`\n",
    "\n",
    "(e) `len(record)`\n",
    "\n",
    "(f) `record + record`\n",
    "\n",
    "(g) `record *= 2`\n",
    "\n",
    "(h) `record[4] = 'American'`\n",
    "\n",
    "(i) `print(record[0], record[1])`"
   ]
  },
  {
   "cell_type": "code",
   "execution_count": 28,
   "metadata": {},
   "outputs": [
    {
     "name": "stdout",
     "output_type": "stream",
     "text": [
      "Albert Einstein\n"
     ]
    }
   ],
   "source": [
    "record = ('Albert', 'Einstein', 'physicist', 26, 'Germany')"
   ]
  },
  {
   "attachments": {},
   "cell_type": "markdown",
   "metadata": {},
   "source": [
    "To convert a tuple to a list, use `list` as a function. Similarly,\n",
    "to convert a list to a tuple, apply `tuple` to it.\n",
    "\n",
    "__Example:__"
   ]
  },
  {
   "cell_type": "code",
   "execution_count": 32,
   "metadata": {},
   "outputs": [
    {
     "name": "stdout",
     "output_type": "stream",
     "text": [
      "['Marie', 'Curie', 'chemist', 32, 'Poland'] <class 'list'>\n"
     ]
    }
   ],
   "source": [
    "scientist = ('Marie', 'Curie', 'chemist', 32, 'Poland')\n",
    "data = list(scientist)\n",
    "print(data, type(data))"
   ]
  },
  {
   "cell_type": "code",
   "execution_count": 2,
   "metadata": {},
   "outputs": [
    {
     "name": "stdout",
     "output_type": "stream",
     "text": [
      "(1, 2.0, (3+0j), 0.123) <class 'tuple'>\n"
     ]
    }
   ],
   "source": [
    "numbers = [1, 2.0, 3.0 + 0j, .123]\n",
    "quartet = tuple(numbers)\n",
    "print(quartet, type(quartet))"
   ]
  },
  {
   "attachments": {},
   "cell_type": "markdown",
   "metadata": {},
   "source": [
    "### $ 3.3 $ Some warnings"
   ]
  },
  {
   "cell_type": "markdown",
   "metadata": {},
   "source": [
    "⚠️ To define a tuple consisting of a single item, a comma must still be used, so that the tuple can be disambiguated from an expression surrounded by parentheses:"
   ]
  },
  {
   "cell_type": "code",
   "execution_count": null,
   "metadata": {},
   "outputs": [
    {
     "name": "stdout",
     "output_type": "stream",
     "text": [
      "('Sindarin',) <class 'tuple'>\n",
      "Sindarin <class 'str'>\n"
     ]
    }
   ],
   "source": [
    "language = ('Sindarin', )         # To define a tuple, we must include a comma!\n",
    "print(language, type(language))\n",
    "\n",
    "lang = ('Sindarin')               # This is not a tuple, but rather a string;\n",
    "print(lang, type(lang))           # the parentheses play no role in this case.\n"
   ]
  },
  {
   "attachments": {},
   "cell_type": "markdown",
   "metadata": {},
   "source": [
    "<div class=\"alert alert-warning\"> Even if $ x $ and $ y $ are two tuples or\n",
    "lists of the same length and whose items are of the same numerical type,\n",
    "<code>x + y</code> is <i>not</i> obtained by summing their respective elements;\n",
    "it is instead the <i>concatenation</i> of $ x $ and $ y $.  Similarly, if $ a $\n",
    "is a scalar, then <code>a * x</code> is not the result obtained by multiplying\n",
    "each item of $ x $ by $ a $, even if $ a $ is an integer.  </div>"
   ]
  },
  {
   "attachments": {},
   "cell_type": "markdown",
   "metadata": {},
   "source": [
    "Neither lists nor tuples are adequate data structures to represent _vectors_ in\n",
    "the sense of linear algebra. The most adequate type for this task is an\n",
    "`ndarray` (short for _$n$-_dimensional array_), provided by the\n",
    "[__NumPy__](https://scipy.github.io/old-wiki/pages/Numpy_Example_List.html)\n",
    "module), which we will consider later."
   ]
  },
  {
   "attachments": {},
   "cell_type": "markdown",
   "metadata": {},
   "source": [
    "## ⚡ $ \\S 4 $ Mutable and immutable objects\n",
    "\n",
    "If lists and tuples are so similar, it may not be clear why Python provides\n",
    "both data types. In fact, technically we could always get by using only one of\n",
    "them. However, the versatility has a few advantages.\n",
    "\n",
    "In some cases, an object in the real world may more adequately be conceived of\n",
    "as having an identity which is completely determined by its parts. For\n",
    "example, we think of a rational number such as $ 2 / 3 $ as a pair of integers\n",
    "(its numerator and denominator); if we change the denominator to $ 5 $, the\n",
    "result is usually thought of as an entirely different number.\n",
    "\n",
    "In other cases, however, it is better to think about an object's identity as \n",
    "being something distinct from the mere totality of its pieces. For instance, it\n",
    "is more adequate to think of someone's bank account as being the same object\n",
    "from one day to the next, even though the client's address or balance may have\n",
    "been changed in the meantime.\n",
    "\n",
    "To what extent does an object retain its identity after it is modified? This is\n",
    "a difficult philosophical question which has _a priori_ nothing to do with\n",
    "programming, even though it greatly affects how we may choose to represent a\n",
    "given object in Python."
   ]
  },
  {
   "attachments": {},
   "cell_type": "markdown",
   "metadata": {},
   "source": [
    "### $ 4.1 $ Definitions and examples\n",
    "\n",
    "An object in Python is called __mutable__ if its state or contents can be\n",
    "changed after it is created; otherwise, it is called __immutable__.\n",
    "* Strings, integers, floats, and tuples are all _immutable_.\n",
    "* Examples of _mutable_ objects include lists, dictionaries, and sets (more about\n",
    "  the latter two in the next section).\n",
    "\n",
    "🚫 Since a tuple is _immutable_, any attempt to modify one or more of its\n",
    "elements results in a `TypeError`:"
   ]
  },
  {
   "cell_type": "code",
   "execution_count": 15,
   "metadata": {},
   "outputs": [
    {
     "ename": "TypeError",
     "evalue": "'tuple' object does not support item assignment",
     "output_type": "error",
     "traceback": [
      "\u001b[0;31m---------------------------------------------------------------------------\u001b[0m",
      "\u001b[0;31mTypeError\u001b[0m                                 Traceback (most recent call last)",
      "Cell \u001b[0;32mIn[15], line 2\u001b[0m\n\u001b[1;32m      1\u001b[0m coordinates \u001b[39m=\u001b[39m (\u001b[39m1.234\u001b[39m, \u001b[39m5.678\u001b[39m)\n\u001b[0;32m----> 2\u001b[0m coordinates[\u001b[39m0\u001b[39;49m] \u001b[39m=\u001b[39m \u001b[39m0.123\u001b[39m\n",
      "\u001b[0;31mTypeError\u001b[0m: 'tuple' object does not support item assignment"
     ]
    }
   ],
   "source": [
    "coordinates = (1.234, 5.678)\n",
    "coordinates[0] = 0.123"
   ]
  },
  {
   "cell_type": "code",
   "execution_count": 16,
   "metadata": {},
   "outputs": [
    {
     "name": "stdout",
     "output_type": "stream",
     "text": [
      "[47, 2, 3]\n"
     ]
    }
   ],
   "source": [
    "# Example of a mutable object:\n",
    "my_list = [1, 2, 3]\n",
    "\n",
    "# Modifying an element of the list is allowed!\n",
    "my_list[0] = 47\n",
    "print(my_list)    # Output: [47, 2, 3]"
   ]
  },
  {
   "attachments": {},
   "cell_type": "markdown",
   "metadata": {},
   "source": [
    "### $ 4.2 $ Understanding assignments of mutable and immutable objects\n",
    "\n",
    "When binding a variable to an object, at first sight the behavior of the\n",
    "assignment may seem different based on whether the object is mutable or\n",
    "immutable. In order to dispel any confusion, it is helpful to think of the\n",
    "assignment in terms of __pointers__ or __references__ to objects. When an object\n",
    "is assigned to a variable, this variable does not become _identified_ with the\n",
    "object; rather, it is merely a _pointer_ to the memory location storing the\n",
    "object.  Therefore, if we _reassign_ another object to `x`, this variable will\n",
    "now refer to a new memory location holding the new object:"
   ]
  },
  {
   "cell_type": "code",
   "execution_count": 3,
   "metadata": {},
   "outputs": [
    {
     "name": "stdout",
     "output_type": "stream",
     "text": [
      "12 12\n",
      "34 12\n"
     ]
    }
   ],
   "source": [
    "x = 12         # x points to the memory location holding the integer 12.\n",
    "y = x          # y points to the same memory location as x, but,\n",
    "print(x, y)    # despite the use of the equality sign, it is not _equal_ to x!\n",
    "x = 34         # x now points to a _new_ memory location, holding the integer 34.\n",
    "print(x, y)    # However, y still points to the memory location holding 12."
   ]
  },
  {
   "attachments": {},
   "cell_type": "markdown",
   "metadata": {},
   "source": [
    "In this case, the assignment statements create two references to the immutable\n",
    "object `12`, and the reassignment of `x` changes its reference point to a new\n",
    "object, `34`. If we redo this example using a mutable object, we get essentially\n",
    "the same result as before:"
   ]
  },
  {
   "cell_type": "code",
   "execution_count": 13,
   "metadata": {},
   "outputs": [
    {
     "name": "stdout",
     "output_type": "stream",
     "text": [
      "[1, 2] [1, 2]\n",
      "[3, 4] [1, 2]\n"
     ]
    }
   ],
   "source": [
    "x = [1, 2]     # x points to the location holding a list containing 1 and 2.\n",
    "y = x          # y refers to the same memory location (list object) as x.\n",
    "print(x, y)\n",
    "x = [3, 4]     # x now points to a _new_ memory location holding another list.\n",
    "print(x, y)    # However, y still points to the original memory location."
   ]
  },
  {
   "attachments": {},
   "cell_type": "markdown",
   "metadata": {},
   "source": [
    "Finally, consider the following example:"
   ]
  },
  {
   "cell_type": "code",
   "execution_count": 14,
   "metadata": {},
   "outputs": [
    {
     "name": "stdout",
     "output_type": "stream",
     "text": [
      "[1, 2] [1, 2]\n",
      "[34, 2] [34, 2]\n"
     ]
    }
   ],
   "source": [
    "x = [1, 2]     # x points to the location holding a list containing 1 and 2.\n",
    "y = x          # y refers to the same memory location as x.\n",
    "print(x, y)\n",
    "x[0] = 34      # The list object in that location is _modified_ to [34, 2].\n",
    "print(x, y)    # Both x and y still point to the same object."
   ]
  },
  {
   "attachments": {},
   "cell_type": "markdown",
   "metadata": {},
   "source": [
    "Using our mental model, this result should not come as a suprise.\n",
    "Again, `x` should not be thought of as _coinciding_ with the object to\n",
    "which it was assigned (the list `[1, 2]`); rather, it is only a pointer to\n",
    "its _location_. If we _modify_ the mutable object through `x`, we are actually\n",
    "modifying the _contents_ of that object, but its location in memory does not\n",
    "change. Hence, when we access that object once again through `y`, the\n",
    "modification will be shown, as expected."
   ]
  },
  {
   "attachments": {},
   "cell_type": "markdown",
   "metadata": {},
   "source": [
    "📝 To create an independent copy of a string or list, we can use a complete\n",
    "slice of the object.\n",
    "\n",
    "__Example:__"
   ]
  },
  {
   "cell_type": "code",
   "execution_count": 14,
   "metadata": {},
   "outputs": [
    {
     "name": "stdout",
     "output_type": "stream",
     "text": [
      "[0, 1] [0, 1, 2]\n"
     ]
    }
   ],
   "source": [
    "x = [0, 1, 2]\n",
    "y = x[:]         # To create an independent copy of x, use a complete slice.\n",
    "\n",
    "x.pop()\n",
    "print(x, y)      # Note that y has not been affected by the modification of x."
   ]
  },
  {
   "attachments": {},
   "cell_type": "markdown",
   "metadata": {},
   "source": [
    "### $ 4. 3 $ Differences between mutable and immutable objects\n",
    " \n",
    "Immutable objects are unchangeable, while mutable objects can be changed; this\n",
    "is the primary difference between the two categories. However, this also has\n",
    "several implications:\n",
    "\n",
    "* _Object sharing:_ Mutable objects can have unintended side effects when shared\n",
    "  across different parts of the code, as changes made to the object through one\n",
    "  reference affect all references.\n",
    "* _Usage as dictionary keys:_ Only immutable objects can be used as\n",
    "  keys in dictionaries. This way we can guarantee that the key's hash value will\n",
    "  not change during the lifetime of the dictionary.\n",
    "* _Performance:_ Operations on immutable objects are faster in some cases\n",
    "  since Python can optimize the handling of immutable data. However, in general\n",
    "  the difference is not significant.\n",
    "* _Safety in concurrent programming:_ Immutable objects are safer to use in\n",
    "  concurrent programming. Also, they eliminate the need for complex\n",
    "  synchronization mechanisms, which can be error-prone and slow.\n",
    "\n",
    "Understanding the difference between mutable and immutable objects is important\n",
    "because it directly influences how we design data structures, functions and\n",
    "algorithms."
   ]
  },
  {
   "attachments": {},
   "cell_type": "markdown",
   "metadata": {},
   "source": [
    "## $ \\S 5 $ Other common iterable data types\n",
    "\n",
    "Although we will not discuss them in any detail, Python also provides a few\n",
    "other iterable data types besides strings, lists, tuples and NumPy arrays. The\n",
    "most important and useful ones are __sets__ (type: `set`), which behave very\n",
    "much like sets in mathematics, and __dictionaries__ (type: `dictionary`), which\n",
    "consist of key-value pairs. Both sets and dictionaries are _mutable_, that is,\n",
    "they can be modified, like lists.\n",
    "\n",
    "__Example:__"
   ]
  },
  {
   "cell_type": "code",
   "execution_count": 1,
   "metadata": {},
   "outputs": [
    {
     "name": "stdout",
     "output_type": "stream",
     "text": [
      "{1, 2, 3} <class 'set'>\n",
      "True\n"
     ]
    }
   ],
   "source": [
    "# To create a set, we may list its elements separated by commas\n",
    "# and within braces { }. Here is an example of a set:\n",
    "set_1 = {1, 2, 3}\n",
    "print(set_1, type(set_1))\n",
    "# In sets, repetitions do not matter. Hence, set_1 == set_2 if\n",
    "set_2 = {1, 2, 2, 3, 3, 3, 3, 3}\n",
    "print(set_1 == set_2)"
   ]
  },
  {
   "cell_type": "code",
   "execution_count": 2,
   "metadata": {},
   "outputs": [
    {
     "name": "stdout",
     "output_type": "stream",
     "text": [
      "True\n"
     ]
    }
   ],
   "source": [
    "# Similarly, in sets the order in which elements are listed is irrelevant:\n",
    "set_3 = {3, 2, 1}\n",
    "print(set_1 == set_3)"
   ]
  },
  {
   "attachments": {},
   "cell_type": "markdown",
   "metadata": {},
   "source": [
    "Dictionaries allow one to create an iterable object whose values need not be\n",
    "indexed by the integers $ 0,\\,1,\\,2,\\, \\dots $, as is the case for lists and\n",
    "tuples.  Instead, one can use indices (called __keys__ in this context) of any\n",
    "type. This allows for more flexible and intuitive manipulation of data. Note\n",
    "however that both dictionaries and sets use more memory than either lists or\n",
    "tuples.\n",
    "\n",
    "__Example:__"
   ]
  },
  {
   "cell_type": "code",
   "execution_count": 16,
   "metadata": {},
   "outputs": [
    {
     "name": "stdout",
     "output_type": "stream",
     "text": [
      "{'name': 'Bilbo Baggins', 'age': 23, 'race': 'Hobbit', 'height': 110.3, 'email': 'bilbo@hobbitmail.com'} <class 'dict'>\n",
      "Bilbo Baggins\n",
      "23\n"
     ]
    }
   ],
   "source": [
    "# To create a dictionary, we list key-value pairs in the form 'key: value'\n",
    "# inside braces and separated by commas. Both the keys and the values can be of\n",
    "# any type whatsoever.  Here is an example:\n",
    "info = {\"name\": \"Bilbo Baggins\",\n",
    "        \"age\": 23,\n",
    "        \"race\": \"Hobbit\",\n",
    "        \"height\": 110.3,\n",
    "        \"email\": \"bilbo@hobbitmail.com\"}\n",
    "# We can access the values stored in a dictionary by referring to the\n",
    "# corresponding key inside brackets [ ]:\n",
    "print(info, type(info))\n",
    "print(info[\"name\"])\n",
    "print(info[\"age\"])"
   ]
  },
  {
   "cell_type": "code",
   "execution_count": 14,
   "metadata": {},
   "outputs": [
    {
     "name": "stdout",
     "output_type": "stream",
     "text": [
      "Paul Reps\n",
      "a random float key inserted for no particular reason\n",
      "{'Goodreads': 4.17, 'Amazon': 4.7}\n",
      "<class 'IndentationError'>\n"
     ]
    }
   ],
   "source": [
    "# Here is another example of a dictionary, representing some information about a\n",
    "# book, together with other pairs inserted only for the purpose of illustration:\n",
    "book = {'title': 'Zen Flesh, Zen Bones',\n",
    "        'author': 'Paul Reps',\n",
    "        3.14: \"a random float key inserted for no particular reason\",\n",
    "        'year': 1957,\n",
    "        123: [\"a\", 3.14, 2],\n",
    "        'ratings': {'Goodreads': 4.17,\n",
    "                    'Amazon': 4.7},\n",
    "    \"error\": IndentationError\n",
    "    }\n",
    "# Notice again that any object can appear as a value in a dictionary, even\n",
    "# a list, another dictionary or an error type!  The same applies to keys.\n",
    "print(book[\"author\"])\n",
    "print(book[3.14])\n",
    "print(book[\"ratings\"])\n",
    "print(book[\"error\"])\n"
   ]
  },
  {
   "cell_type": "code",
   "execution_count": 1,
   "metadata": {},
   "outputs": [
    {
     "name": "stdout",
     "output_type": "stream",
     "text": [
      "3 3\n",
      "4 3\n"
     ]
    }
   ],
   "source": [
    "x = 3\n",
    "y = x\n",
    "print(x, y)\n",
    "x = 4\n",
    "print(x, y)"
   ]
  }
 ],
 "metadata": {
  "kernelspec": {
   "display_name": "Python 3",
   "language": "python",
   "name": "python3"
  },
  "language_info": {
   "codemirror_mode": {
    "name": "ipython",
    "version": 3
   },
   "file_extension": ".py",
   "mimetype": "text/x-python",
   "name": "python",
   "nbconvert_exporter": "python",
   "pygments_lexer": "ipython3",
   "version": "3.9.2"
  },
  "orig_nbformat": 4
 },
 "nbformat": 4,
 "nbformat_minor": 2
}
