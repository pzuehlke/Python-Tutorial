{
 "cells": [
  {
   "cell_type": "markdown",
   "metadata": {},
   "source": [
    "# Collections (lists, tuples, sets and dictionaries)"
   ]
  },
  {
   "attachments": {},
   "cell_type": "markdown",
   "metadata": {},
   "source": [
    "## $ \\S 1 $ Lists"
   ]
  },
  {
   "attachments": {},
   "cell_type": "markdown",
   "metadata": {},
   "source": [
    "### $ 1.1 $ The `list` type\n",
    "\n",
    "A __list__ (that is, an object of type `list`) consists of zero, one or several\n",
    "objects ordered in sequence. In Python, a list can be __heterogeneous__, meaning\n",
    "that its elements can be of any type whatsoever, and these types need not \n",
    "coincide. For example, one can create a list which contains integers, floats and\n",
    "strings; or a list whose elements can be either complex numbers or functions.  In\n",
    "particular, lists in Python have the important property of __closure__: one is\n",
    "allowed to make lists of lists, or lists of lists of lists, etc. Finally,\n",
    "in contrast to the arrays of some other programming languages, lists are\n",
    "__dynamic__ (not _static_), meaning that their lengths can change during\n",
    "execution.\n",
    "\n",
    "A list is represented using _brackets_ in the form `[<elements>]`, with the\n",
    "elements separated by commas. \n",
    "\n",
    "__Example:__"
   ]
  },
  {
   "cell_type": "code",
   "execution_count": 3,
   "metadata": {},
   "outputs": [
    {
     "name": "stdout",
     "output_type": "stream",
     "text": [
      "['🍑', '🥝', '🍉', '🥥', '🍋', '🍐']\n",
      "[0, 'eight', -53, 12.34, (3+4j)]\n",
      "['Delfador']\n"
     ]
    }
   ],
   "source": [
    "# Here is a list of strings (where each string consists of an emoji):\n",
    "fruits = [\"🍑\", \"🥝\", \"🍉\", \"🥥\", \"🍋\", \"🍐\"]\n",
    "\n",
    "# Here is a list consisting of elements of several distinct types:\n",
    "numbers = [0, 'eight', -53, 12.34, (3 + 4j)]\n",
    "\n",
    "# This list has a single element:\n",
    "mages = ['Delfador']\n",
    "\n",
    "print(fruits)\n",
    "print(numbers)\n",
    "print(mages)"
   ]
  },
  {
   "cell_type": "markdown",
   "metadata": {},
   "source": [
    "The __empty list__ is the unique list which has no elements. There are at least\n",
    "two ways to instantiate it:"
   ]
  },
  {
   "cell_type": "code",
   "execution_count": 5,
   "metadata": {},
   "outputs": [
    {
     "name": "stdout",
     "output_type": "stream",
     "text": [
      "True\n"
     ]
    }
   ],
   "source": [
    "empty1 = []         # first way\n",
    "empty2 = list()     # second way\n",
    "\n",
    "# They represent the same object:\n",
    "print(empty1 == empty2)"
   ]
  },
  {
   "cell_type": "markdown",
   "metadata": {},
   "source": [
    "Just as for strings, the function `len` can be\n",
    "used to count the number of items in a list.\n"
   ]
  },
  {
   "cell_type": "code",
   "execution_count": 6,
   "metadata": {},
   "outputs": [
    {
     "name": "stdout",
     "output_type": "stream",
     "text": [
      "1\n",
      "6\n"
     ]
    }
   ],
   "source": [
    "print(len(mages))\n",
    "print(len(fruits))"
   ]
  },
  {
   "cell_type": "code",
   "execution_count": 7,
   "metadata": {},
   "outputs": [
    {
     "name": "stdout",
     "output_type": "stream",
     "text": [
      "['🍑', '🥝', '🍉', '🥥', '🍋', '🍐', 'Delfador']\n"
     ]
    }
   ],
   "source": [
    "new_list = fruits + mages   # We can concatenate two lists using '+'.\n",
    "print(new_list)"
   ]
  },
  {
   "attachments": {},
   "cell_type": "markdown",
   "metadata": {},
   "source": [
    "Lists can be __concatenated__ with the `+` operator,\n",
    "__repeated__ by \"multiplication\" with a positive integers using `*` and\n",
    "__sliced__ with the `:` operator. Note that none of these operations _modifies_\n",
    "the original list; instead, they create a _new_ list. Recall that all of\n",
    "this is also true for strings.\n",
    "\n",
    "\n",
    "__Exercises:__ Let _movies_ be the list in the code cell below. Determine the output of the following statements:\n",
    "\n",
    "(a) `movies * 2`\n",
    "\n",
    "(b) `movies + [\"Paths of Glory\", \"Modern Times\"]`\n",
    "\n",
    "(c) `[\"Star Wars\", \"The Third Man\"] + movies`\n",
    "\n",
    "(d) `movies[:2]`\n",
    "\n",
    "(e) `movies[::-1]`\n",
    "\n",
    "(f) `movies + []`\n",
    "\n",
    "(g) `movies + \"error\"`"
   ]
  },
  {
   "cell_type": "code",
   "execution_count": null,
   "metadata": {},
   "outputs": [],
   "source": [
    "movies = [\"Gone with the Wind\",\n",
    "         \"Interstellar\",\n",
    "         \"E.T.\",\n",
    "         \"It's a Wonderful Life\",\n",
    "         \"Rain Man\",\n",
    "         \"Rambo\"]"
   ]
  },
  {
   "attachments": {},
   "cell_type": "markdown",
   "metadata": {},
   "source": [
    "### $ 1.2 $ Modifying lists\n",
    "\n",
    "In contrast to strings, lists are __mutable__ objects, meaning that their\n",
    "individual elements can be modified by assignments.\n",
    "\n",
    "__Exercise:__ Let _movies_ be the list in the next code cell. What is the value\n",
    "of _movies_ after each of the statements below is run through the interpreter\n",
    "in sequence?\n",
    "\n",
    "(a) `movies[1] = \"Forrest Gump\"`\n",
    "\n",
    "(b) `movies[2:4] = [\"Modern Times\", \"Paths of Glory\"]`\n",
    "\n",
    "(c) `movies[-1] = \"Bicycle Thieves\"`\n",
    "\n",
    "(d) `movies += [\"Das Leben der Anderen\"]`\n"
   ]
  },
  {
   "cell_type": "code",
   "execution_count": 9,
   "metadata": {},
   "outputs": [],
   "source": [
    "movies = [\"Gone with the Wind\",\n",
    "         \"Interstellar\",\n",
    "         \"E.T.\",\n",
    "         \"It's a Wonderful Life\",\n",
    "         \"Rain Man\",\n",
    "         \"Rambo\"]"
   ]
  },
  {
   "attachments": {},
   "cell_type": "markdown",
   "metadata": {},
   "source": [
    "⚠️ In order to _modify_ the element at the $ k $-th index of a list, the list\n",
    "must have items associated with every index between $ 0 $ and $ k - 1 $. Trying\n",
    "to access in any way the $ k $-th element of a list of length $ \\le k $\n",
    "generates an `IndexError`.\n",
    "\n",
    "__Example:__"
   ]
  },
  {
   "cell_type": "code",
   "execution_count": 10,
   "metadata": {},
   "outputs": [
    {
     "ename": "IndexError",
     "evalue": "list assignment index out of range",
     "output_type": "error",
     "traceback": [
      "\u001b[0;31m---------------------------------------------------------------------------\u001b[0m",
      "\u001b[0;31mIndexError\u001b[0m                                Traceback (most recent call last)",
      "Cell \u001b[0;32mIn[10], line 9\u001b[0m\n\u001b[1;32m      1\u001b[0m \u001b[38;5;66;03m# A long list can be split over several lines for better readability:\u001b[39;00m\n\u001b[1;32m      2\u001b[0m planets \u001b[38;5;241m=\u001b[39m [\n\u001b[1;32m      3\u001b[0m     \u001b[38;5;124m\"\u001b[39m\u001b[38;5;124mEarth\u001b[39m\u001b[38;5;124m\"\u001b[39m,\n\u001b[1;32m      4\u001b[0m     \u001b[38;5;124m\"\u001b[39m\u001b[38;5;124mMars\u001b[39m\u001b[38;5;124m\"\u001b[39m,\n\u001b[0;32m   (...)\u001b[0m\n\u001b[1;32m      7\u001b[0m     \u001b[38;5;124m\"\u001b[39m\u001b[38;5;124mNeptune\u001b[39m\u001b[38;5;124m\"\u001b[39m\n\u001b[1;32m      8\u001b[0m ]\n\u001b[0;32m----> 9\u001b[0m \u001b[43mplanets\u001b[49m\u001b[43m[\u001b[49m\u001b[38;5;241;43m5\u001b[39;49m\u001b[43m]\u001b[49m \u001b[38;5;241m=\u001b[39m \u001b[38;5;124m\"\u001b[39m\u001b[38;5;124mKepler-452b\u001b[39m\u001b[38;5;124m\"\u001b[39m\n",
      "\u001b[0;31mIndexError\u001b[0m: list assignment index out of range"
     ]
    }
   ],
   "source": [
    "# A long list can be split over several lines for better readability:\n",
    "planets = [\n",
    "    \"Earth\",\n",
    "    \"Mars\",\n",
    "    \"Jupiter\",\n",
    "    \"Saturn\",\n",
    "    \"Neptune\"\n",
    "]\n",
    "planets[5] = \"Kepler-452b\""
   ]
  },
  {
   "attachments": {},
   "cell_type": "markdown",
   "metadata": {},
   "source": [
    "### $ 1.3 $ Some list methods\n",
    "\n",
    "Lists support several useful methods (recall that a __method__ is a function\n",
    "associated with a specific class or type). Here are examples of how some of them\n",
    "are used.\n",
    "\n",
    "__Examples:__ Perhaps the most frequently used list method is `append`, which can be used\n",
    "to add an element to the end of a list:"
   ]
  },
  {
   "cell_type": "code",
   "execution_count": 24,
   "metadata": {},
   "outputs": [
    {
     "name": "stdout",
     "output_type": "stream",
     "text": [
      "['🍑', '🥝', '🍉', '🥥', '🍋', '🍐', '🍎']\n"
     ]
    }
   ],
   "source": [
    "fruits = [\"🍑\", \"🥝\", \"🍉\", \"🥥\", \"🍋\", \"🍐\"]\n",
    "\n",
    "fruits.append(\"🍎\")     # Append an apple to the end of the list\n",
    "print(fruits)"
   ]
  },
  {
   "cell_type": "markdown",
   "metadata": {},
   "source": [
    "More generally, we can use `insert` to insert an element at a specified position:"
   ]
  },
  {
   "cell_type": "code",
   "execution_count": 25,
   "metadata": {},
   "outputs": [
    {
     "name": "stdout",
     "output_type": "stream",
     "text": [
      "['🍑', '🫐', '🥝', '🍉', '🥥', '🍋', '🍐', '🍎']\n"
     ]
    }
   ],
   "source": [
    "fruits.insert(1, \"🫐\")     # Insert blueberries as the fruit at index 1\n",
    "print(fruits)"
   ]
  },
  {
   "cell_type": "markdown",
   "metadata": {},
   "source": [
    "The method `index` returns the index of the first occurrence of an element in a\n",
    "list. If there is no such element, it yields a `ValueError`."
   ]
  },
  {
   "cell_type": "code",
   "execution_count": 26,
   "metadata": {},
   "outputs": [
    {
     "name": "stdout",
     "output_type": "stream",
     "text": [
      "4\n"
     ]
    }
   ],
   "source": [
    "print(fruits.index('🥥'))"
   ]
  },
  {
   "cell_type": "code",
   "execution_count": 27,
   "metadata": {},
   "outputs": [
    {
     "ename": "ValueError",
     "evalue": "'🏫' is not in list",
     "output_type": "error",
     "traceback": [
      "\u001b[0;31m---------------------------------------------------------------------------\u001b[0m",
      "\u001b[0;31mValueError\u001b[0m                                Traceback (most recent call last)",
      "Cell \u001b[0;32mIn[27], line 1\u001b[0m\n\u001b[0;32m----> 1\u001b[0m \u001b[43mfruits\u001b[49m\u001b[38;5;241;43m.\u001b[39;49m\u001b[43mindex\u001b[49m\u001b[43m(\u001b[49m\u001b[38;5;124;43m'\u001b[39;49m\u001b[38;5;124;43m🏫\u001b[39;49m\u001b[38;5;124;43m'\u001b[39;49m\u001b[43m)\u001b[49m\n",
      "\u001b[0;31mValueError\u001b[0m: '🏫' is not in list"
     ]
    }
   ],
   "source": [
    "fruits.index('🏫')"
   ]
  },
  {
   "cell_type": "markdown",
   "metadata": {},
   "source": [
    "With `remove` we can remove (in place) the _first occurrence_ of an element of a\n",
    "list. Again, trying to remove an element which is not currently in the list\n",
    "raises a `ValueError`."
   ]
  },
  {
   "cell_type": "code",
   "execution_count": 28,
   "metadata": {},
   "outputs": [
    {
     "name": "stdout",
     "output_type": "stream",
     "text": [
      "['🍑', '🫐', '🥝', '🍉', '🥥', '🍐', '🍎']\n"
     ]
    }
   ],
   "source": [
    "fruits.remove('🍋')\n",
    "print(fruits)\n"
   ]
  },
  {
   "cell_type": "markdown",
   "metadata": {},
   "source": [
    "Perhaps the most useful list method is `sort`, which efficiently sorts the given\n",
    "list in place. Similarly, `reverse` does what its name suggests:"
   ]
  },
  {
   "cell_type": "code",
   "execution_count": 29,
   "metadata": {},
   "outputs": [
    {
     "name": "stdout",
     "output_type": "stream",
     "text": [
      "['🍉', '🍎', '🍐', '🍑', '🥝', '🥥', '🫐']\n",
      "['🫐', '🥥', '🥝', '🍑', '🍐', '🍎', '🍉']\n"
     ]
    }
   ],
   "source": [
    "fruits.sort()            # Sort the list\n",
    "print(fruits)\n",
    "\n",
    "fruits.reverse()         # Reverse the order of the elements in the list\n",
    "print(fruits)"
   ]
  },
  {
   "cell_type": "markdown",
   "metadata": {},
   "source": [
    "The last method that we will consider is `pop`, which is essentially the inverse\n",
    "of `append`: when called without any arguments, it removes the last item of the\n",
    "list and returns it as output."
   ]
  },
  {
   "cell_type": "code",
   "execution_count": 30,
   "metadata": {},
   "outputs": [
    {
     "name": "stdout",
     "output_type": "stream",
     "text": [
      "['🫐', '🥥', '🥝', '🍑', '🍐', '🍎', '🍉']\n",
      "['🫐', '🥥', '🥝', '🍑', '🍐', '🍎']\n",
      "['🫐', '🥥', '🍑', '🍐', '🍎']\n",
      "🍉 🥝\n"
     ]
    }
   ],
   "source": [
    "print(fruits)\n",
    "\n",
    "a = fruits.pop()        # Use 'pop' without any arguments to remove the\n",
    "print(fruits)           # last item and return it as output\n",
    "\n",
    "b = fruits.pop(2)       # Remove the element having index 2\n",
    "print(fruits)           # and return it as output\n",
    "\n",
    "print(a, b)"
   ]
  },
  {
   "attachments": {},
   "cell_type": "markdown",
   "metadata": {},
   "source": [
    "__Exercise:__ Let _planets_ be the list provided in the code cell below,\n",
    "representing the planets of our solar system. Describe the list and the\n",
    "output after each of the following statements is run in sequence through the\n",
    "interpreter.\n",
    "\n",
    "(a) `planets.insert(1, \"Vulcan\")`\n",
    "\n",
    "(b) `planets = planets + [\"Pluto\"]`\n",
    "\n",
    "(c) `planets.remove(\"Vulcan\")`\n",
    "\n",
    "(d) `planets.sort(reverse=True)`\n",
    "\n",
    "(e) `planets.index(\"Mars\")`\n",
    "\n",
    "(f) `planets.append(\"Planet X\")`\n",
    "\n",
    "(g) `planets.pop(2)`\n",
    "\n",
    "(h) `planets.reverse()`"
   ]
  },
  {
   "cell_type": "code",
   "execution_count": 10,
   "metadata": {},
   "outputs": [],
   "source": [
    "planets = [\"Mercury\", \"Venus\", \"Earth\", \"Mars\", \"Jupiter\", \"Saturn\", \"Uranus\", \"Neptune\"]\n"
   ]
  },
  {
   "attachments": {},
   "cell_type": "markdown",
   "metadata": {},
   "source": [
    "__Exercise:__ What is `[] * 3`? What is `[[]] * 3`? What is `[[]] * (-1)`?"
   ]
  },
  {
   "cell_type": "code",
   "execution_count": null,
   "metadata": {},
   "outputs": [],
   "source": []
  },
  {
   "attachments": {},
   "cell_type": "markdown",
   "metadata": {},
   "source": [
    "## $ \\S 2 $ Tuples\n",
    "\n",
    "### $ 2.1 $ The `tuple` type\n",
    "\n",
    "Another sequential data type is `tuple`, the type of __tuples__. Like a list, a\n",
    "tuple consists of an ordered sequence of objects of possibly distinct types,\n",
    "separated by commas. Also as for lists, the types of the elements held in\n",
    "a tuple are completely arbitrary and tuple formation enjoys the closure\n",
    "property, allowing us to create tuples of tuples, etc.\n",
    "\n",
    "Tuples are enclosed by _parentheses_ `()` instead of brackets.  The raison\n",
    "d'être of tuples is that they are __immutable__, so that, like strings but\n",
    "unlike lists, their individual elements _cannot_ be modified. Trying to do\n",
    "so will raise a `TypeError`.\n",
    "\n",
    "__Example:__"
   ]
  },
  {
   "cell_type": "code",
   "execution_count": 25,
   "metadata": {},
   "outputs": [
    {
     "name": "stdout",
     "output_type": "stream",
     "text": [
      "(8, 'Anna', 23.49, [1, 2, 3]) <class 'tuple'>\n"
     ]
    }
   ],
   "source": [
    "t = (8, 'Anna', 23.49, [1, 2, 3])\n",
    "print(t, type(t))"
   ]
  },
  {
   "cell_type": "markdown",
   "metadata": {},
   "source": [
    "📝 Actually, the enclosing parentheses are not strictly required to define a\n",
    "tuple. Rather, it is the presence of commas `,` which makes a sequence of values\n",
    "a tuple. However, it is generally a good idea to include them as delimiters for\n",
    "clarity, especially in more complex expressions.\n"
   ]
  },
  {
   "cell_type": "code",
   "execution_count": 35,
   "metadata": {},
   "outputs": [
    {
     "name": "stdout",
     "output_type": "stream",
     "text": [
      "(1, 2, 3) <class 'tuple'>\n",
      "(1,) <class 'tuple'>\n"
     ]
    }
   ],
   "source": [
    "numbers = 1, 2, 3  # <--- This is a tuple!\n",
    "print(numbers, type(numbers))\n",
    "\n",
    "single = 1,  # <--- This is also a tuple! The comma is necessary to distinguish it from the number 1\n",
    "print(single, type(single))"
   ]
  },
  {
   "cell_type": "code",
   "execution_count": 37,
   "metadata": {},
   "outputs": [
    {
     "name": "stdout",
     "output_type": "stream",
     "text": [
      "() <class 'tuple'>\n",
      "True\n"
     ]
    }
   ],
   "source": [
    "empty_tuple1 = ()       # This is the empty tuple\n",
    "empty_tuple2 = tuple()  # Another way to instantiate the empty tuple\n",
    "\n",
    "print(empty_tuple1, type(empty_tuple1))\n",
    "print(empty_tuple1 == empty_tuple2)"
   ]
  },
  {
   "attachments": {},
   "cell_type": "markdown",
   "metadata": {},
   "source": [
    "### $ 2.2 $ Operations on tuples\n",
    "\n",
    "As for the other sequential types that we have considered (strings and lists), tuples can be concatenated with `+`, their lengths can be computed using `len`, and we can access their elements and slice them using `[]` and `[:]`.\n",
    "\n",
    "__Exercise:__ The tuple in the code cell below records some data about a famous\n",
    "scientist. Describe the output and the effect of the following statements:\n",
    "\n",
    "(a) `record[0]`\n",
    "\n",
    "(b) `record[2]`\n",
    "\n",
    "(c) `record[-1]`\n",
    "\n",
    "(d) `record[:]`\n",
    "\n",
    "(e) `len(record)`\n",
    "\n",
    "(f) `record + record`\n",
    "\n",
    "(g) `record *= 2`\n",
    "\n",
    "(h) `record[4] = 'United States'`\n",
    "\n",
    "(i) `print(record[0], record[1])`"
   ]
  },
  {
   "cell_type": "code",
   "execution_count": 28,
   "metadata": {},
   "outputs": [
    {
     "name": "stdout",
     "output_type": "stream",
     "text": [
      "Albert Einstein\n"
     ]
    }
   ],
   "source": [
    "record = ('Albert', 'Einstein', 'physicist', 26, 'Germany')"
   ]
  },
  {
   "attachments": {},
   "cell_type": "markdown",
   "metadata": {},
   "source": [
    "To convert a tuple to a list, use `list` as a function. Similarly,\n",
    "to convert a list to a tuple, apply `tuple` to it.\n",
    "\n",
    "__Example:__"
   ]
  },
  {
   "cell_type": "code",
   "execution_count": 32,
   "metadata": {},
   "outputs": [
    {
     "name": "stdout",
     "output_type": "stream",
     "text": [
      "['Marie', 'Curie', 'chemist', 32, 'Poland'] <class 'list'>\n"
     ]
    }
   ],
   "source": [
    "scientist = ('Marie', 'Curie', 'chemist', 32, 'Poland')\n",
    "data = list(scientist)\n",
    "print(data, type(data))"
   ]
  },
  {
   "attachments": {},
   "cell_type": "markdown",
   "metadata": {},
   "source": [
    "### $ 2.3 $ Some warnings"
   ]
  },
  {
   "attachments": {},
   "cell_type": "markdown",
   "metadata": {},
   "source": [
    "⚠️ To define a tuple consisting of a single item, a comma must still be used, so that the tuple can be disambiguated from an expression surrounded by parentheses:"
   ]
  },
  {
   "cell_type": "code",
   "execution_count": 39,
   "metadata": {},
   "outputs": [
    {
     "name": "stdout",
     "output_type": "stream",
     "text": [
      "('Sindarin',) <class 'tuple'>\n",
      "Sindarin <class 'str'>\n"
     ]
    }
   ],
   "source": [
    "language = ('Sindarin', )         # To define a nonempty tuple, we must include a comma!\n",
    "print(language, type(language))\n",
    "\n",
    "lang = ('Sindarin')               # This is not a tuple, but rather a string;\n",
    "print(lang, type(lang))           # the parentheses play no role in this case.\n"
   ]
  },
  {
   "attachments": {},
   "cell_type": "markdown",
   "metadata": {},
   "source": [
    "<div class=\"alert alert-warning\"> Even if $ x $ and $ y $ are two tuples or\n",
    "lists of the same length and whose items are of the same numerical type,\n",
    "<code>x + y</code> is <i>not</i> obtained by summing their respective elements;\n",
    "it is instead the <i>concatenation</i> of $ x $ and $ y $.  Similarly, if $ a $\n",
    "is a scalar, then <code>a * x</code> is not the result obtained by multiplying\n",
    "each item of $ x $ by $ a $, even if $ a $ is an integer.  </div>"
   ]
  },
  {
   "attachments": {},
   "cell_type": "markdown",
   "metadata": {},
   "source": [
    "⚠️ Neither lists nor tuples are adequate data structures to represent _vectors_ in\n",
    "the sense of linear algebra. The most adequate type for this task is an\n",
    "`ndarray` (short for _$n$-_dimensional array_), provided by the\n",
    "[__NumPy__](https://scipy.github.io/old-wiki/pages/Numpy_Example_List.html)\n",
    "module, which we will consider later."
   ]
  },
  {
   "attachments": {},
   "cell_type": "markdown",
   "metadata": {},
   "source": [
    "## $ \\S 3 $ Other common iterable data types\n",
    "\n",
    "Although we will not discuss them in detail, Python also provides a few\n",
    "other iterable data types besides strings, lists and tuples. The two most\n",
    "important and useful ones are __sets__ (type: `set`), which behave very much\n",
    "like sets in mathematics, and __dictionaries__ (type: `dict`), which consist of\n",
    "key-value pairs and are also called _hash tables_ or _associative arrays_ in\n",
    "other programming languages.  Both sets and dictionaries are _mutable_, that is,\n",
    "their contents can be modified.\n",
    "\n",
    "### $ 3.1 $ Sets\n",
    "\n",
    "To create a set, we may list its elements separated by commas\n",
    "and within braces `{ }`.\n",
    "\n",
    "__Example:__"
   ]
  },
  {
   "cell_type": "code",
   "execution_count": 45,
   "metadata": {},
   "outputs": [
    {
     "name": "stdout",
     "output_type": "stream",
     "text": [
      "{1, 2, 3} <class 'set'>\n",
      "True\n"
     ]
    }
   ],
   "source": [
    "one_two_three = {1, 2, 3}\n",
    "print(one_two_three, type(one_two_three))\n",
    "\n",
    "# In sets, repetitions do not matter. Hence, one_two_three == set_2 if\n",
    "set_2 = {1, 2, 2, 3, 3, 3, 3, 3}\n",
    "print(one_two_three == set_2)"
   ]
  },
  {
   "cell_type": "code",
   "execution_count": 47,
   "metadata": {},
   "outputs": [
    {
     "name": "stdout",
     "output_type": "stream",
     "text": [
      "True\n"
     ]
    }
   ],
   "source": [
    "# Similarly, in sets the order in which elements are listed is irrelevant:\n",
    "set_3 = {3, 2, 1}\n",
    "print(one_two_three == set_3)"
   ]
  },
  {
   "cell_type": "markdown",
   "metadata": {},
   "source": [
    "Here are the main methods associated to sets, with `a` and `b` denoting arbitrary sets:\n",
    "\n",
    "| Method syntax             | Equivalent syntax | Description                                                        |\n",
    "|-------------------------:|:-----------------:|:------------------------------------------------------------------|\n",
    "| `set.add(elem)`           |        N/A        | adds an element to the set.                                        |\n",
    "| `set.remove(elem)`        |        N/A        | removes an element from the set.                                   |\n",
    "| `set.discard(elem)`       |        N/A        | removes an element from the set if it is a member.                 |\n",
    "| `set.pop()`               |        N/A        | removes and returns an arbitrary element from the set.             |\n",
    "| `a.isdisjoint(b)`         |        N/A        | returns `True` if `a` has no elements in common with `b`.          |\n",
    "| `a.issubset(b)`           |      `a <= b`     | returns `True` if all elements of `a` are in `b`.                  |\n",
    "| `a.issuperset(b)`         |      `a >= b`     | returns `True` if all elements of `b` are in `a`.                  |\n",
    "| `a.union(b)`              |      `a \\| b`     | returns a new set with elements that are in either `a` or `b`.     |\n",
    "| `a.intersection(b)`       |      `a & b`      | returns a new set with elements common to `a` and `b`.             |\n",
    "| `a.difference(b)`         |      `a - b`      | returns a new set with elements in `a` that are not in `b`.        |\n",
    "| `a.symmetric_difference(b)` |    `a ^ b`      | returns a new set with elements in either `a` or `b` but not both. |\n"
   ]
  },
  {
   "cell_type": "markdown",
   "metadata": {},
   "source": [
    "__Exercise:__ Let $ A = \\{1, 2, 3, 4, 5\\} $ and $ B = \\{-3, -1, 1, 3, 5, 7\\} $.\n",
    "Using Python, compute:\n",
    "* The union $ A\\cup B $;\n",
    "* The intersection $ A \\cap B $;\n",
    "* The differences $ A \\smallsetminus B $ and $ B \\smallsetminus A $;\n",
    "* The symmetric difference $ A \\,{\\Delta}\\, B = \\big(A \\smallsetminus B\\big) \\cup \\big(B \\smallsetminus A\\big) $.\n",
    "* The number of elements in each set (using the `len` function).\n"
   ]
  },
  {
   "cell_type": "code",
   "execution_count": null,
   "metadata": {},
   "outputs": [],
   "source": []
  },
  {
   "attachments": {},
   "cell_type": "markdown",
   "metadata": {},
   "source": [
    "### $ 3.2 $ Dictionaries\n",
    "\n",
    "Dictionaries allow one to create an iterable object whose values need not be\n",
    "referenced by the integers $ 0,\\,1,\\,2,\\, \\dots $, as is the case for lists and\n",
    "tuples. Instead, one can use __keys__ of any immutable type as indices. This\n",
    "allows for more flexible and intuitive manipulation of data. Note however that\n",
    "dictionaries and sets use more memory than either lists or tuples.\n",
    "\n",
    "__Example:__ To create a dictionary, we list key-value pairs in the form `<key>:\n",
    "<value>` inside braces and separated by commas. The values can be of any type,\n",
    "while the keys can be of any _immutable_ type. Here is an example:"
   ]
  },
  {
   "cell_type": "code",
   "execution_count": 52,
   "metadata": {},
   "outputs": [
    {
     "name": "stdout",
     "output_type": "stream",
     "text": [
      "{'name': 'Bilbo Baggins', 'age': 23, 'race': 'Hobbit', 'height': 110.3, 'email': 'bilbo@hobbitmail.com', 'friends': ['Frodo', 'Pippin']}\n",
      "<class 'dict'>\n"
     ]
    }
   ],
   "source": [
    "info = {\"name\": \"Bilbo Baggins\",\n",
    "        \"age\": 23,\n",
    "        \"race\": \"Hobbit\",\n",
    "        \"height\": 110.3,\n",
    "        \"email\": \"bilbo@hobbitmail.com\",\n",
    "        \"friends\": [\"Frodo\", \"Pippin\"]}\n",
    "\n",
    "print(info)\n",
    "print(type(info))"
   ]
  },
  {
   "cell_type": "markdown",
   "metadata": {},
   "source": [
    "We can access the values stored in a dictionary by referring to the\n",
    "corresponding key inside brackets:"
   ]
  },
  {
   "cell_type": "code",
   "execution_count": 53,
   "metadata": {},
   "outputs": [
    {
     "name": "stdout",
     "output_type": "stream",
     "text": [
      "Bilbo Baggins\n",
      "['Frodo', 'Pippin']\n"
     ]
    }
   ],
   "source": [
    "print(info[\"name\"])\n",
    "print(info[\"friends\"])"
   ]
  },
  {
   "cell_type": "markdown",
   "metadata": {},
   "source": [
    "## ⚡ $ \\S 4 $ Mutable and immutable objects\n",
    "\n",
    "If lists and tuples are so similar, it may not be clear why Python provides\n",
    "both data types. In fact, technically we could always get by using only one of\n",
    "them. However, the versatility has a few advantages.\n",
    "\n",
    "In some cases, an object in the real world may more adequately be conceived of\n",
    "as having an identity which is completely determined by its parts. For\n",
    "example, we think of a rational number such as $ 2 / 3 $ as a pair of integers\n",
    "(its numerator and denominator); if we change the denominator to $ 5 $, the\n",
    "result is a different fraction.\n",
    "\n",
    "In other cases, however, it is better to think about an object's identity as \n",
    "being something distinct from the mere totality of its pieces. For instance, it\n",
    "is more adequate to think of someone's bank account as being the same object\n",
    "from one day to the next, even though the client's address, balance or even\n",
    "her legal name may have changed in the meantime.\n",
    "\n",
    "To what extent does an object retain its identity after it is modified? This is\n",
    "a difficult philosophical question which has _a priori_ nothing to do with\n",
    "programming, even though it greatly affects how we may choose to represent a\n",
    "given object in Python."
   ]
  },
  {
   "cell_type": "markdown",
   "metadata": {},
   "source": [
    "### $ 4.1 $ Definitions and examples\n",
    "\n",
    "An object in Python is called __mutable__ if its state or contents can be\n",
    "changed after it is created; otherwise, it is called __immutable__.\n",
    "* Strings, integers, floats, and tuples are all _immutable_.\n",
    "* Examples of _mutable_ objects include lists, dictionaries, and sets.\n",
    "\n",
    "🚫 Since a tuple is _immutable_, an attempt to modify one or more of its\n",
    "elements by an assignment results in a `TypeError`:"
   ]
  },
  {
   "cell_type": "code",
   "execution_count": null,
   "metadata": {},
   "outputs": [
    {
     "ename": "TypeError",
     "evalue": "'tuple' object does not support item assignment",
     "output_type": "error",
     "traceback": [
      "\u001b[0;31m---------------------------------------------------------------------------\u001b[0m\n",
      "\u001b[0;31mTypeError\u001b[0m                                 Traceback (most recent call last)\n",
      "Cell \u001b[0;32mIn[40], line 2\u001b[0m\n",
      "\u001b[1;32m      1\u001b[0m coordinates \u001b[38;5;241m=\u001b[39m (\u001b[38;5;241m1.2\u001b[39m, \u001b[38;5;241m5.6\u001b[39m)\n",
      "\u001b[0;32m----> 2\u001b[0m \u001b[43mcoordinates\u001b[49m\u001b[43m[\u001b[49m\u001b[38;5;241;43m0\u001b[39;49m\u001b[43m]\u001b[49m \u001b[38;5;241m=\u001b[39m \u001b[38;5;241m3.4\u001b[39m\n",
      "\n",
      "\u001b[0;31mTypeError\u001b[0m: 'tuple' object does not support item assignment"
     ]
    }
   ],
   "source": [
    "coordinates = (1.2, 5.6)\n",
    "coordinates[0] = 3.4"
   ]
  },
  {
   "cell_type": "code",
   "execution_count": null,
   "metadata": {},
   "outputs": [
    {
     "name": "stdout",
     "output_type": "stream",
     "text": [
      "[47, 2, 3]\n"
     ]
    }
   ],
   "source": [
    "# A list is a mutable object:\n",
    "a_list = [1, 2, 3]\n",
    "\n",
    "# Hence, modifying an element of the list is allowed:\n",
    "a_list[0] = 47\n",
    "print(a_list)    # Output: [47, 2, 3]"
   ]
  },
  {
   "cell_type": "markdown",
   "metadata": {},
   "source": [
    "### $ 4.2 $ Understanding assignments of mutable and immutable objects\n",
    "\n",
    "When binding a variable to an object, at first sight the behavior of the\n",
    "assignment may seem different based on whether the object is mutable or\n",
    "immutable. In order to dispel any confusion, it is helpful to think of the\n",
    "assignment in terms of __pointers__ or __references__ to objects. When an object\n",
    "is assigned to a variable, this variable does not become _identified_ with the\n",
    "object; rather, it is merely a _pointer_ to the memory location storing the\n",
    "object.  Therefore, if we reassign another object to the identifier `x`, this\n",
    "variable will now refer to a new memory location holding the new object:"
   ]
  },
  {
   "cell_type": "code",
   "execution_count": null,
   "metadata": {},
   "outputs": [
    {
     "name": "stdout",
     "output_type": "stream",
     "text": [
      "12 12\n",
      "34 12\n"
     ]
    }
   ],
   "source": [
    "x = 12         # x points to the memory location holding the integer 12.\n",
    "y = x          # y points to the same memory location as x\n",
    "print(x, y)\n",
    "# Despite the use of the equality sign, y is not equal to x. They\n",
    "# are two distinct identifiers that currently _refer_ to the same object.\n",
    "\n",
    "x = 34         # x now points to a _new_ memory location, holding the integer 34.\n",
    "print(x, y)    # However, y still points to the memory location holding 12."
   ]
  },
  {
   "cell_type": "markdown",
   "metadata": {},
   "source": [
    "In this case, the assignment statements create two references to the immutable\n",
    "object `12`, and the reassignment of `x` changes its reference point to a new\n",
    "object, `34`. The same description also holds when the objects involved are\n",
    "mutable:"
   ]
  },
  {
   "cell_type": "code",
   "execution_count": null,
   "metadata": {},
   "outputs": [
    {
     "name": "stdout",
     "output_type": "stream",
     "text": [
      "[1, 2] [1, 2]\n",
      "[3, 4] [1, 2]\n"
     ]
    }
   ],
   "source": [
    "x = [1, 2]     # x points to the location holding a list containing 1 and 2.\n",
    "y = x          # y refers to the same memory location (list object) as x.\n",
    "print(x, y)\n",
    "\n",
    "x = [3, 4]     # x now points to a _new_ memory location holding another list.\n",
    "print(x, y)    # However, y still points to the original memory location."
   ]
  },
  {
   "cell_type": "markdown",
   "metadata": {},
   "source": [
    "Finally, consider the following example:"
   ]
  },
  {
   "cell_type": "code",
   "execution_count": null,
   "metadata": {},
   "outputs": [
    {
     "name": "stdout",
     "output_type": "stream",
     "text": [
      "[1, 2] [1, 2]\n",
      "[34, 2] [34, 2]\n"
     ]
    }
   ],
   "source": [
    "x = [1, 2]\n",
    "y = x\n",
    "print(x, y)\n",
    "\n",
    "x[0] = 34      # The list object in that location is _modified_ to [34, 2].\n",
    "print(x, y)    # Both x and y still point to the same object."
   ]
  },
  {
   "cell_type": "markdown",
   "metadata": {},
   "source": [
    "Using our mental model, the last result should not come as a suprise.\n",
    "Again, `x` should not be thought of as _coinciding_ with the object to\n",
    "which it was assigned (the list `[1, 2]`); rather, it is only a _reference_\n",
    "to it. If we modify the object itself through `x` as in the fifth line,\n",
    "its location in memory does not change. Hence, when we access that object once\n",
    "again through the reference `y`, the modification will be shown, as expected."
   ]
  },
  {
   "cell_type": "markdown",
   "metadata": {},
   "source": [
    "📝 To create an independent copy of a string or list, we can use a complete\n",
    "slice of the object.\n",
    "\n",
    "__Example:__"
   ]
  },
  {
   "cell_type": "code",
   "execution_count": null,
   "metadata": {},
   "outputs": [
    {
     "name": "stdout",
     "output_type": "stream",
     "text": [
      "[0, 1]\n",
      "[0, 1, 2]\n"
     ]
    }
   ],
   "source": [
    "x = [0, 1, 2]\n",
    "y = x[:]         # y points to an independent copy, stored at another memory address.\n",
    "\n",
    "x.pop()\n",
    "print(x)\n",
    "print(y)        # Note that y has not been affected by the modification of x."
   ]
  },
  {
   "cell_type": "markdown",
   "metadata": {},
   "source": [
    "The immutability of a tuple means that once a tuple is created, the tuple\n",
    "itself cannot be altered. This includes adding/removing elements and changing\n",
    "the identity of any element within the tuple. However, if a tuple contains\n",
    "mutable objects (like lists), the _state_ of those mutable objects can be changed,\n",
    "even though the tuple itself cannot be modified directly. Consider the following example:"
   ]
  },
  {
   "cell_type": "code",
   "execution_count": null,
   "metadata": {},
   "outputs": [
    {
     "name": "stdout",
     "output_type": "stream",
     "text": [
      "(1, 2, [30, 40, 50])\n"
     ]
    }
   ],
   "source": [
    "my_tuple = (1, 2, [30, 40])\n",
    "my_tuple[2].append(50)  # Appends 50 to the list [30, 40]\n",
    "# This is allowed because we're modifying the mutable list, not the tuple itself.\n",
    "print(my_tuple)"
   ]
  },
  {
   "cell_type": "code",
   "execution_count": null,
   "metadata": {},
   "outputs": [
    {
     "ename": "TypeError",
     "evalue": "'tuple' object does not support item assignment",
     "output_type": "error",
     "traceback": [
      "\u001b[0;31m---------------------------------------------------------------------------\u001b[0m\n",
      "\u001b[0;31mTypeError\u001b[0m                                 Traceback (most recent call last)\n",
      "\u001b[0;32m/tmp/ipykernel_284269/3223195122.py\u001b[0m in \u001b[0;36m<module>\u001b[0;34m\u001b[0m\n",
      "\u001b[1;32m      1\u001b[0m \u001b[0;31m# Attempting to change (the identity of) an element directly\u001b[0m\u001b[0;34m\u001b[0m\u001b[0;34m\u001b[0m\u001b[0m\n",
      "\u001b[1;32m      2\u001b[0m \u001b[0;31m# through assignment, however, results in an error:\u001b[0m\u001b[0;34m\u001b[0m\u001b[0;34m\u001b[0m\u001b[0m\n",
      "\u001b[0;32m----> 3\u001b[0;31m \u001b[0mmy_tuple\u001b[0m\u001b[0;34m[\u001b[0m\u001b[0;36m2\u001b[0m\u001b[0;34m]\u001b[0m \u001b[0;34m=\u001b[0m \u001b[0;34m[\u001b[0m\u001b[0;36m30\u001b[0m\u001b[0;34m,\u001b[0m \u001b[0;36m40\u001b[0m\u001b[0;34m,\u001b[0m \u001b[0;36m50\u001b[0m\u001b[0;34m]\u001b[0m\u001b[0;34m\u001b[0m\u001b[0;34m\u001b[0m\u001b[0m\n",
      "\u001b[0m\n",
      "\u001b[0;31mTypeError\u001b[0m: 'tuple' object does not support item assignment"
     ]
    }
   ],
   "source": [
    "# Attempting to change (the identity of) an element directly\n",
    "# through assignment, however, results in an error:\n",
    "my_tuple[2] = [30, 40, 50]"
   ]
  },
  {
   "cell_type": "markdown",
   "metadata": {},
   "source": [
    "### $ 4. 3 $ Differences between mutable and immutable objects\n",
    " \n",
    "Immutable objects cannot be modified directly, while mutable objects can; this\n",
    "is the primary difference between the two categories. However, this also has\n",
    "several implications:\n",
    "\n",
    "* _Object sharing:_ Mutable objects can have unintended side effects when shared\n",
    "  across different parts of the code, as changes made to the object through one\n",
    "  reference affect all references. This type of bug can be particularly\n",
    "  dangerous and difficult to spot.\n",
    "* _Usage as dictionary keys:_ Only immutable objects can be used as\n",
    "  keys in dictionaries. This way we can guarantee that the key's hash value will\n",
    "  not change during the lifetime of the dictionary.\n",
    "* _Performance:_ Operations on immutable objects are faster in some cases.\n",
    "  However, in general the difference is not significant.\n",
    "\n",
    "Understanding the difference between mutable and immutable objects is important\n",
    "because it directly influences how we design data structures and algorithms."
   ]
  },
  {
   "cell_type": "markdown",
   "metadata": {},
   "source": []
  }
 ],
 "metadata": {
  "kernelspec": {
   "display_name": "Python 3",
   "language": "python",
   "name": "python3"
  },
  "language_info": {
   "codemirror_mode": {
    "name": "ipython",
    "version": 3
   },
   "file_extension": ".py",
   "mimetype": "text/x-python",
   "name": "python",
   "nbconvert_exporter": "python",
   "pygments_lexer": "ipython3",
   "version": "3.12.3"
  },
  "orig_nbformat": 4
 },
 "nbformat": 4,
 "nbformat_minor": 2
}
