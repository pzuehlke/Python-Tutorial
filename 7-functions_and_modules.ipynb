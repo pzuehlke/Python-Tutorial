{
 "cells": [
  {
   "attachments": {},
   "cell_type": "markdown",
   "id": "b6f1b490",
   "metadata": {},
   "source": [
    "# Functions and modules\n",
    "\n",
    "## $ \\S 1 $ Functions/procedures\n",
    "\n",
    "### $ 1.1 $ What is a procedure/function?\n",
    "\n",
    "In the context of programming languages, a __procedure__ is a collection of\n",
    "instructions to be performed by the computer to accomplish a given task,\n",
    "packaged as a unit. Procedures are also called __functions__ or __(sub)routines__.\n",
    "\n",
    "__Examples:__ We may implement procedures to perform the following tasks:\n",
    "* Take a positive real number (more precisely, a floating-point number) as\n",
    "  argument and return an approximation to its square root.\n",
    "* Take a positive integer as input and decide whether it is prime.\n",
    "* Take two strings, representing a person's bank account ID and password,\n",
    "  and a float, representing an amount to be withdrawn from that account,\n",
    "  and if the password matches that associated with the client's\n",
    "  as stored in a database, decrement the client's balance by that amount.\n",
    "* Take a square matrix and return its inverse if it exists or raise an error\n",
    "  otherwise.\n",
    "* Simulate $ 1\\,000 $ dice rolls and display the results in the form of a\n",
    "  histogram.\n",
    "* Take a list of points in the plane and plot them all together with the line\n",
    "  that best fits them.\n",
    "\n",
    "The term \"procedure\" may provide a clearer understanding of the concept than\n",
    "\"function\", which evokes comparisons with the traditional functions found\n",
    "in mathematics (e.g., real functions of a real variable). However, the notion of\n",
    "a procedure is more general. The difference stems from the fact that a\n",
    "procedure in Python and most other languages can interact with and modify\n",
    "objects outside of its scope. Procedures exhibiting this behavior are said to\n",
    "have __side effects__. For instance, the most fitting mathematical\n",
    "representation of a procedure that takes no input and returns no output would be\n",
    "the (unique) function from the empty set to the empty set. In contrast, in\n",
    "Python, there are *infinitely many* such procedures, such as those that print a\n",
    "message or a random number to the screen, modify the value of a global variable,\n",
    "enter an infinite loop, take input from the user, write to a file, raise an\n",
    "error, and so on. Each of these procedures alters the state of the program, even\n",
    "though they take no input and produce no output. It is also worth noting that\n",
    "while mathematical functions consistently yield the same result when applied to\n",
    "the same arguments, this may not be true for a procedure with side effects.\n",
    "Regrettably, despite the potential ambiguity that the term \"function\" may\n",
    "cause in this context, its use is widespread.\n",
    "\n",
    "📝 In the __functional programming (FP)__ paradigm, programs are structured as a\n",
    "series of function definitions, with tasks being accomplished through their\n",
    "composition. As a best practice, each function should ideally perform a single\n",
    "task. An important design principle in this context is\n",
    "the use of __abstraction barriers__: one should be able to use a function\n",
    "without knowing its implementation details. That is, programs should be\n",
    "organized so that the only relevant information for using a given function is\n",
    "its required input and corresponding output, rather than _how_ this output is\n",
    "obtained. In particular, functions having side effects should be avoided, or at\n",
    "least restricted to the edges of the program. The absence of side effects\n",
    "simplifies the task of verifying that a program operates as intended."
   ]
  },
  {
   "cell_type": "markdown",
   "id": "9a6485c5",
   "metadata": {},
   "source": [
    "### $ 1.2 $ Defining a function with `def`\n",
    "\n",
    "In order to work with a function of our own, we must first __define__ it using\n",
    "`def`. Here is a simple example, a function that takes two arguments $ a $ and $ b $\n",
    "and returns their sum."
   ]
  },
  {
   "cell_type": "code",
   "execution_count": 2,
   "id": "6e69858a",
   "metadata": {},
   "outputs": [
    {
     "data": {
      "text/plain": [
       "5"
      ]
     },
     "execution_count": 2,
     "metadata": {},
     "output_type": "execute_result"
    }
   ],
   "source": [
    "# We use the keyword `def` to tell Python that we want to define a function.\n",
    "# Then we provide a name to the function and to its parameters (if any), which\n",
    "# should be listed inside parentheses and separated by commas:\n",
    "def add(a, b):  \n",
    "    \"\"\"\n",
    "    We provide information about the function, such as the expected\n",
    "    type of its parameters, how it works, its running time, etc.\n",
    "    inside a so-called _docstring_ such as this text. Docstrings\n",
    "    are delimited by triple quotes. For example:\n",
    "\n",
    "    Parameters:\n",
    "        * a (int): The first number to be added.\n",
    "        * b (int): The second number to be added.\n",
    "\n",
    "    Return:\n",
    "        * result (int): The sum of a and b.\n",
    "    \"\"\"\n",
    "    # In the function block itself we write one or more statements to be\n",
    "    # executed each time the function is called:\n",
    "    result = a + b\n",
    "    return result\n",
    "\n",
    "\n",
    "# The end of the function definition is indicated by returning to the previous\n",
    "# level of indentation. To call the function on specific arguments, we use the\n",
    "# following syntax:\n",
    "add(2, 3)"
   ]
  },
  {
   "attachments": {},
   "cell_type": "markdown",
   "id": "0a138989",
   "metadata": {},
   "source": [
    "__Example:__ To compute the square root $ s $ of a real number $ x > 0 $ \n",
    "to an accuracy of $ \\varepsilon $ using _Heron's method_:\n",
    "1. Start with an initial estimate $ s = 1 $.\n",
    "2. Update the current estimate to the arithmetic mean of $ s $ and $ \\frac{x}{s} $.\n",
    "In symbols,\n",
    "$$\n",
    "    s  \\leftarrow \\frac{1}{2}\\bigg(s + \\frac{x}{s}\\bigg)\\,.\n",
    "$$\n",
    "3. If $ \\left\\vert\\frac{s^2 - x}{x}\\right\\vert \\le \\varepsilon\\,, $\n",
    "then return $ s $ as the approximation; otherwise, go back to step 2.\n",
    "\n",
    "Define a function `square_root(x, eps)` which is the implementation in Python of Heron's method.\n"
   ]
  },
  {
   "cell_type": "code",
   "execution_count": 4,
   "id": "bbda3cd7",
   "metadata": {},
   "outputs": [],
   "source": [
    "def square_root(x, eps):\n",
    "    \"\"\"\n",
    "    Computes an approximation to the square root of a positive number 'x' within\n",
    "    a precision of 'eps', using Heron's method.\n",
    "        1. Denote the square root by s;\n",
    "        2. Take any positive initial guess for its value, say s = 1;\n",
    "        3. Let the new value of s be the average of s and x / s;\n",
    "        4. Iterate on step 3 until the error is at most eps.\n",
    "    \"\"\"\n",
    "    s = 1\n",
    "    while abs((s**2 - x) / x) > eps:      # While the error is large:\n",
    "        s = (s + (x / s)) / 2 \n",
    "        \n",
    "    return s"
   ]
  },
  {
   "cell_type": "code",
   "execution_count": 5,
   "id": "ac7524c9",
   "metadata": {},
   "outputs": [
    {
     "name": "stdout",
     "output_type": "stream",
     "text": [
      "1.4142156862745097\n",
      "4.000000636692939\n",
      "4.000000000000051\n"
     ]
    }
   ],
   "source": [
    "# Testing our function:\n",
    "eps = 1e-5       # eps is 10 to the -5.\n",
    "# Call square_root with arguments 2 and eps:\n",
    "print(square_root(2, eps))      \n",
    "# Call square_root with arguments 16 and eps:\n",
    "print(square_root(16, eps))         \n",
    "# Call square_root with arguments 1/100 and eps squared:\n",
    "print(square_root(16, eps**2))      "
   ]
  },
  {
   "cell_type": "markdown",
   "id": "6ce28f04",
   "metadata": {},
   "source": [
    "__Exercise:__ Create a function as specified in each item below. Before actually\n",
    "writing the definition, think about how many parameters there are, what their\n",
    "types are, and what the type of the output should be.\n",
    "\n",
    "(a) A function `greet` that takes a name as argument and prints a greeting\n",
    "message, such as \"My name's Forrest Gump, people call me Forrest Gump\".\n",
    "_Hint:_ To print the name inside the greeting message, use an f-string.\n",
    "\n",
    "(b) A function `circle_area` that takes the radius of a circle as argument\n",
    "and returns its area.\n",
    "\n",
    "(c) A function `is_odd` that takes an integer and returns `True` or `False`\n",
    "according to whether the number is or is not odd, respectively.\n",
    "\n",
    "(d) A function `reverse_str` that takes a string and returns the same string in\n",
    "the reversed order. _Hint:_ Use `s[::-1]` or `reversed(s)` to produce\n",
    "the reversed string.\n",
    "\n",
    "(e) A function `average` that takes a list of real numbers and returns their\n",
    "average (arithmetic mean).\n",
    "\n",
    "(f) A function `roll_dice` which takes no arguments and returns an integer\n",
    "between $ 3 $ and $ 18 $ which is the result of rolling three six-sided\n",
    "die. _Hint:_ Include the statement\n",
    "`from numpy.random import randint` and use `randint(1, 7)` to simulate\n",
    "a single die being rolled.\n"
   ]
  },
  {
   "cell_type": "code",
   "execution_count": null,
   "id": "926c24b3",
   "metadata": {},
   "outputs": [],
   "source": []
  },
  {
   "attachments": {},
   "cell_type": "markdown",
   "id": "3cd96130",
   "metadata": {},
   "source": [
    "Here is a more detailed description of the general template of function\n",
    "definitions:"
   ]
  },
  {
   "cell_type": "code",
   "execution_count": null,
   "id": "165f2dec",
   "metadata": {},
   "outputs": [],
   "source": [
    "def <function_name>(<parameters>):\n",
    "    \"\"\"<docstring>\"\"\" # Optional documentation describing the function\n",
    "    # Function block: one or more \n",
    "    # statements to be executed\n",
    "    # each time the function is called.\n",
    "    return <output>\n",
    "\n",
    "\n",
    "# Code outside of the function definition.\n",
    "# Note that the indentation here is the same\n",
    "# as that of the first line of the cell."
   ]
  },
  {
   "cell_type": "markdown",
   "id": "a258bb9d",
   "metadata": {},
   "source": [
    "* In the first line of the definition, called the __signature__ of the\n",
    "  function, we introduce the name to be given to the function (for instance,\n",
    "  `add`) and names for its __parameters__, i.e., the variables (such as\n",
    "  `a` and `b`) that will store the values, called __arguments__, to be\n",
    "  passed by a user of the function in any specific call. The parameters are\n",
    "  enclosed by parentheses and separated by commas.\n",
    "* The signature should be ended by a *colon* `:` to indicate the beginning\n",
    "  of the block containing the definition. This block is delimited by an additional\n",
    "  level of indentation.\n",
    "* Immediately below the first line, enclosed in __triple quotes__ `\"\"\"`, we\n",
    "  provide a concise description of the function, called its __docstring__. This\n",
    "  description is optional, but highly recommended. It can include information\n",
    "  such as:\n",
    "    * The types of the inputs and outputs;\n",
    "    * The task that the function performs;\n",
    "    * Details about its implementation, such as an estimate of the amount\n",
    "      of resources (time or memory) required as a function of the\n",
    "      parameters;\n",
    "    * Any other information that may be helpful to someone who needs to use the\n",
    "      function.\n",
    "* To __call__ (i.e., apply) a function $ f $ on arguments $ a, b, c, \\dots, z $,\n",
    "  the notation is: `f(a, b, c, ..., z)`. This will make the interpreter actually\n",
    "  run the code in the function definition, with the specific values associated\n",
    "  with these arguments substituted for the parameters. The _value_ of this call\n",
    "  is the expression on the right of the first `return` instruction encountered\n",
    "  by the interpreter, as it goes through the function definition."
   ]
  },
  {
   "attachments": {},
   "cell_type": "markdown",
   "id": "2730edc1",
   "metadata": {},
   "source": [
    "<div class=\"alert alert-info\">\n",
    "<ul><li> A function may have any finite number of parameters, including zero. In\n",
    "the latter case, the declaration of a such a function $ f $ would be <code>def\n",
    "f():</code> ...</li>\n",
    "<li> The parameters of a function may be of any type at all, and distinct\n",
    "parameters may have distinct types. For instance, a parameter may be a list, a\n",
    "tuple, another function, a list of functions, etc..\n",
    "<li> The names of the parameters have a scope which is <i>local</i> to the block\n",
    "of the definition.  In particular, the same name $ x $ may store completely\n",
    "different values of different types inside and outside the definition of a given\n",
    "function.\n",
    "<li> <code>return</code> statements are optional. If no such statement appears\n",
    "in the body, then the function returns <code>None</code> by default.\n",
    "<li> To improve legibility, it is recommended that a function definition be\n",
    "separated by exactly <i>two</i> blank lines from the surrounding code, and that\n",
    "all function definitions in a script be grouped together at the beginning.\n",
    "</ul></div>"
   ]
  },
  {
   "attachments": {},
   "cell_type": "markdown",
   "id": "92cf6239",
   "metadata": {},
   "source": [
    "**Example:** What is the type of a function?"
   ]
  },
  {
   "cell_type": "code",
   "execution_count": 9,
   "id": "74b4ef76",
   "metadata": {},
   "outputs": [
    {
     "name": "stdout",
     "output_type": "stream",
     "text": [
      "<class 'function'>\n",
      "<class 'function'>\n"
     ]
    }
   ],
   "source": [
    "def constant():\n",
    "    \"\"\" A constant function which takes the value 1 for any argument. \"\"\"\n",
    "    return 1\n",
    "\n",
    "\n",
    "def is_palindrome(s):\n",
    "    \"\"\" Decides whether a string is a palindrome. \"\"\"\n",
    "    if s == s[::-1]:\n",
    "        return True\n",
    "    else:\n",
    "        return False\n",
    "\n",
    "\n",
    "print(type(constant))\n",
    "print(type(is_palindrome))"
   ]
  },
  {
   "cell_type": "markdown",
   "id": "269ac8e5",
   "metadata": {},
   "source": [
    "To print the signature and docstring of the function, use the command `help`:"
   ]
  },
  {
   "cell_type": "code",
   "execution_count": 8,
   "id": "811ceac7",
   "metadata": {},
   "outputs": [
    {
     "name": "stdout",
     "output_type": "stream",
     "text": [
      "Help on function is_palindrome in module __main__:\n",
      "\n",
      "is_palindrome(s)\n",
      "    Decides whether a string is a palindrome.\n",
      "\n"
     ]
    }
   ],
   "source": [
    "help(is_palindrome)"
   ]
  },
  {
   "attachments": {},
   "cell_type": "markdown",
   "id": "7050b417",
   "metadata": {},
   "source": [
    "### $ 1.3 $ The scope of a function\n",
    "\n",
    "⚠️ Here are some examples showing how the scope of a variable in a function\n",
    "declaration is _local_, not _global_, by default.\n",
    "\n",
    "__Example:__"
   ]
  },
  {
   "cell_type": "code",
   "execution_count": 4,
   "id": "23ac1e43",
   "metadata": {},
   "outputs": [
    {
     "name": "stdout",
     "output_type": "stream",
     "text": [
      "10\n"
     ]
    }
   ],
   "source": [
    "x = 10        # Create a variable and assign the value 10 to it.\n",
    "\n",
    "def fun():\n",
    "    x = 2     # This variable x has nothing to do with the variable\n",
    "              # having the same name outside the function declaration.\n",
    "\n",
    "fun()         # Calling the function.\n",
    "print(x)      # Note how the value of x has not been changed!"
   ]
  },
  {
   "attachments": {},
   "cell_type": "markdown",
   "id": "97d71ad5",
   "metadata": {},
   "source": [
    "__Example:__"
   ]
  },
  {
   "cell_type": "code",
   "execution_count": 5,
   "id": "255db0e9",
   "metadata": {},
   "outputs": [
    {
     "ename": "NameError",
     "evalue": "name 'num' is not defined",
     "output_type": "error",
     "traceback": [
      "\u001b[0;31m---------------------------------------------------------------------------\u001b[0m",
      "\u001b[0;31mNameError\u001b[0m                                 Traceback (most recent call last)",
      "\u001b[0;32m/tmp/ipykernel_87452/1058107938.py\u001b[0m in \u001b[0;36m<module>\u001b[0;34m\u001b[0m\n\u001b[1;32m      5\u001b[0m \u001b[0;34m\u001b[0m\u001b[0m\n\u001b[1;32m      6\u001b[0m \u001b[0mother_function\u001b[0m\u001b[0;34m(\u001b[0m\u001b[0;34m)\u001b[0m\u001b[0;34m\u001b[0m\u001b[0;34m\u001b[0m\u001b[0m\n\u001b[0;32m----> 7\u001b[0;31m \u001b[0mprint\u001b[0m\u001b[0;34m(\u001b[0m\u001b[0mnum\u001b[0m\u001b[0;34m)\u001b[0m\u001b[0;34m\u001b[0m\u001b[0;34m\u001b[0m\u001b[0m\n\u001b[0m\u001b[1;32m      8\u001b[0m \u001b[0;31m# Since the scope of definition of 'num' is local the function, the interpreter\u001b[0m\u001b[0;34m\u001b[0m\u001b[0;34m\u001b[0m\u001b[0m\n\u001b[1;32m      9\u001b[0m \u001b[0;31m# doesn't know what it means once the function call is terminated.\u001b[0m\u001b[0;34m\u001b[0m\u001b[0;34m\u001b[0m\u001b[0m\n",
      "\u001b[0;31mNameError\u001b[0m: name 'num' is not defined"
     ]
    }
   ],
   "source": [
    "def other_function():\n",
    "    num = 1    # Create a (local) variable num  and store the value 1 in it.\n",
    "    num = 2    # Modify the value of num.\n",
    "\n",
    "\n",
    "other_function()\n",
    "print(num)     \n",
    "# Since the scope of definition of 'num' is local the function, the interpreter\n",
    "# doesn't know what it means once the function call is terminated."
   ]
  },
  {
   "attachments": {},
   "cell_type": "markdown",
   "id": "808cfcf5",
   "metadata": {},
   "source": [
    "If we _do_ want to modify the value of a variable which is outside the scope of\n",
    "a function, we can use the keyword `global`. This will tell the interpreter that\n",
    "we would like to work with a global variable having that name (not one created\n",
    "everytime the function is called) and that any changes to its value should\n",
    "persist after the call to the function ends.\n",
    "\n",
    "__Example:__"
   ]
  },
  {
   "cell_type": "code",
   "execution_count": 7,
   "id": "909f0cdf",
   "metadata": {},
   "outputs": [
    {
     "name": "stdout",
     "output_type": "stream",
     "text": [
      "2\n"
     ]
    }
   ],
   "source": [
    "x = 10        # Create a variable and assign the value 10 to it.\n",
    "\n",
    "def fun():\n",
    "    global x  # Telling the interpreter that we are referring to the x above.\n",
    "    x = 2     # Now any changes to the value stored in x will persist.\n",
    "\n",
    "fun()         # Calling the function.\n",
    "print(x)      # Note how the value of x _has_ been changed."
   ]
  },
  {
   "attachments": {},
   "cell_type": "markdown",
   "id": "fc3768c3",
   "metadata": {},
   "source": [
    "## $ \\S 2 $ Type annotations"
   ]
  },
  {
   "attachments": {},
   "cell_type": "markdown",
   "id": "094cfeff",
   "metadata": {},
   "source": [
    "### $ 2.1 $ Annotating the types of variables\n",
    "\n",
    "Even though the Python interpreter can infer the type of an object based on\n",
    "its value, it is sometimes desirable, for the sake of clarity, to indicate this\n",
    "type explicitly in the code. This can be done by a __type annotation__, as in\n",
    "the following example. Note however that these type annotations are ignored by\n",
    "the interpreter. In particular,\n",
    "_they may not match the actual type of the arguments passed by a user_.\n",
    "\n",
    "__Example:__"
   ]
  },
  {
   "cell_type": "code",
   "execution_count": 8,
   "id": "20e08301",
   "metadata": {},
   "outputs": [
    {
     "name": "stdout",
     "output_type": "stream",
     "text": [
      "2 <class 'int'>\n",
      "some random string <class 'str'>\n"
     ]
    }
   ],
   "source": [
    "x: int = 2        # Assign 2 to x and annotate its type as 'int'.\n",
    "y: str = \"some random string\"  \n",
    "\n",
    "print(x, type(x))\n",
    "print(y, type(y))"
   ]
  },
  {
   "attachments": {},
   "cell_type": "markdown",
   "id": "6ec85f05",
   "metadata": {},
   "source": [
    "__Example:__ Incorrect annotations are also allowed:"
   ]
  },
  {
   "cell_type": "code",
   "execution_count": 10,
   "id": "9f419c4f",
   "metadata": {},
   "outputs": [
    {
     "name": "stdout",
     "output_type": "stream",
     "text": [
      "3.1415 <class 'float'>\n"
     ]
    }
   ],
   "source": [
    "z: int = 3.1415\n",
    "\n",
    "# In the definition of z, we (incorrectly!) annotated the type of z\n",
    "# as being 'int' even though it is actually a float:\n",
    "print(z, type(z))\n",
    "\n",
    "# Since type annotations are ignored, no error is raised."
   ]
  },
  {
   "attachments": {},
   "cell_type": "markdown",
   "id": "c103e2c2",
   "metadata": {},
   "source": [
    "### $ 2.2 $ Annotating the type of parameters and return values of functions\n",
    "\n",
    "We can also annotate the types of the parameter(s) and return value(s) of a function using the syntax in the following example.\n",
    "\n",
    "<a name=\"1.3\"></a>__Exercise:__ Define a function that converts\n",
    "temperatures in Fahrenheit ($ T_F $) to temperatures in Kelvin ($ T_K$). The\n",
    "formula for the conversion is: \n",
    "\n",
    "$$ T_K = \\frac{5}{9}\\, \\big(T_F - 32\\big) + 273.15 $$"
   ]
  },
  {
   "cell_type": "code",
   "execution_count": 13,
   "id": "4bbb1be8",
   "metadata": {},
   "outputs": [
    {
     "name": "stdout",
     "output_type": "stream",
     "text": [
      "The freezing point of water is 273.15 K.\n",
      "The boiling point of water is 373.15 K.\n"
     ]
    }
   ],
   "source": [
    "def fahr_to_kelvin(temp_F: float) -> float:\n",
    "    \"\"\"\n",
    "    A function that converts a temperature temp_F measured in\n",
    "    Fahrenheit degrees (F) to its equivalent value in Kelvin (K).\n",
    "    \"\"\"\n",
    "\n",
    "\n"
   ]
  },
  {
   "cell_type": "markdown",
   "id": "2a18c9e3",
   "metadata": {},
   "source": [
    "Note the optional type annotation for the parameter `temp_F` and\n",
    "for the return type (after the arrow `->`). Now test\n",
    "your function on a couple of values:"
   ]
  },
  {
   "cell_type": "code",
   "execution_count": null,
   "id": "de8409c0",
   "metadata": {},
   "outputs": [],
   "source": [
    "# The freezing point of water is 32 F:\n",
    "freezing_temp_K = fahr_to_kelvin(32)\n",
    "print(f\"The freezing point of water is {freezing_temp_K} K.\")\n",
    "\n",
    "# The boiling temperature of water is 212 F:\n",
    "boiling_temp_K = fahr_to_kelvin(212)\n",
    "print(f\"The boiling point of water is {boiling_temp_K} K.\")"
   ]
  },
  {
   "attachments": {},
   "cell_type": "markdown",
   "id": "b22bc85b",
   "metadata": {},
   "source": [
    "The formula for converting a temperature $ T_K $ measured in Kelvin to its equivalent $ T_C $ measured in Celsius is even simpler:\n",
    "$$ T_C = T_K - 273.15 $$\n",
    "\n",
    "**Exercise:** Implement the function below and annotate its parameters and return values."
   ]
  },
  {
   "cell_type": "code",
   "execution_count": null,
   "id": "323d0048",
   "metadata": {},
   "outputs": [],
   "source": [
    "def kelvin_to_celsius(<parameters>):\n",
    "    \"\"\"\n",
    "    A function that converts a temperature temp_K measured in Kelvin (K)\n",
    "    to its equivalent value in Celsius (C) degrees.\n",
    "    \"\"\""
   ]
  },
  {
   "attachments": {},
   "cell_type": "markdown",
   "id": "beb05daf",
   "metadata": {},
   "source": [
    "## $ \\S 3 $ Examples and exercises\n",
    "\n",
    "### $ 3.1 $ Testing whether a number is prime\n",
    "\n",
    "__Example:__ Write a function that decides whether an integer $ n \\ge 2 $ is prime or not, given the description below."
   ]
  },
  {
   "cell_type": "code",
   "execution_count": 2,
   "id": "90068169",
   "metadata": {
    "scrolled": true
   },
   "outputs": [
    {
     "name": "stdout",
     "output_type": "stream",
     "text": [
      "True\n",
      "False\n",
      "True\n",
      "True\n",
      "True\n",
      "False\n"
     ]
    }
   ],
   "source": [
    "def is_prime(n: int) -> bool:\n",
    "    \"\"\"\n",
    "    Decides whether a positive integer n is prime or not by testing if it is\n",
    "    divisible by some integer between 2 and n - 1.\n",
    "    \"\"\"\n",
    "\n",
    "\n",
    "# Examples:\n",
    "print(is_prime(2))\n",
    "print(is_prime(6))\n",
    "print(is_prime(19))\n",
    "print(is_prime(199))\n",
    "print(is_prime(1999))\n",
    "print(is_prime(19999))"
   ]
  },
  {
   "attachments": {},
   "cell_type": "markdown",
   "id": "4928e95e",
   "metadata": {},
   "source": [
    "__Exercise:__ Is the `continue` statement really necessary in the preceding example?"
   ]
  },
  {
   "cell_type": "code",
   "execution_count": null,
   "id": "533e9731",
   "metadata": {},
   "outputs": [],
   "source": []
  },
  {
   "cell_type": "markdown",
   "id": "ab9b90c0",
   "metadata": {},
   "source": [
    "\n",
    "__Exercise (gambler's ruin):__ Suppose that a gambler makes a series of fair \n",
    "$ \\$ 1 $ bets, starting with some given initial stake, until he either goes broke\n",
    "or walks away after reaching a target amount, or goal.\n",
    "\n",
    "A theorem states that _the probability of success is the ratio of the stake to\n",
    "the goal_ and that _the expected number of bets_ until the betting session ends\n",
    "_is the product of the stake and the desired gain_ (the difference between the\n",
    "goal and the stake).\n",
    "\n",
    "Write a function that computes the probability of success and the expected\n",
    "number of bets, given the initial stake and the goal. Compute these values for a\n",
    "goal of $ \\$ 2000 $ and an initial stake of $ \\$ 100 $."
   ]
  },
  {
   "cell_type": "code",
   "execution_count": null,
   "id": "2214b613",
   "metadata": {},
   "outputs": [],
   "source": []
  },
  {
   "cell_type": "markdown",
   "id": "432f5ca1",
   "metadata": {},
   "source": [
    "__Exercise__: Implement a function which, given integers $ a $ and $ b $:\n",
    "\n",
    "(a) Returns the sum of all integers $ n $ satisfying $ a \\le n \\le b $.\n",
    "\n",
    "(b) Does the same for their product."
   ]
  },
  {
   "cell_type": "code",
   "execution_count": null,
   "id": "423da99d",
   "metadata": {},
   "outputs": [],
   "source": []
  },
  {
   "attachments": {},
   "cell_type": "markdown",
   "id": "fc37b2f1",
   "metadata": {},
   "source": [
    "__Exercise:__ \n",
    "\n",
    "(a) Write a function `smallest_divisor` which computes the smallest divisor\n",
    "    $ > 1 $ of a positive integer $ n \\ge 2 $.\n",
    "\n",
    "(b) Use `smallest_divisor` to redefine `is_prime`. _Hint:_ A positive integer\n",
    "    $ n $ is prime if and only if its smallest divisor $ > 1 $ equals $ n $.\n",
    "\n",
    "(c) Write a function which takes a positive integer $ n $ as argument and\n",
    "    prints a message stating that $ n $ is or is not prime, and in the latter\n",
    "    case also prints its smallest divisor $ > 1 $. What is the return type\n",
    "    of this function?"
   ]
  },
  {
   "cell_type": "code",
   "execution_count": null,
   "id": "5cb33f27",
   "metadata": {},
   "outputs": [],
   "source": []
  },
  {
   "attachments": {},
   "cell_type": "markdown",
   "id": "2235b953",
   "metadata": {},
   "source": [
    "__Exercise:__ Regarding your implementation of `is_prime`:\n",
    "\n",
    "(a) What happens if you try to determine whether $ 1 $, $ 0 $ are\n",
    "prime? \n",
    "\n",
    "(b) Which negative numbers are prime according to it?\n",
    "\n",
    "(c) What happens if you pass a float or a complex number as an argument?"
   ]
  },
  {
   "cell_type": "code",
   "execution_count": null,
   "id": "7563a4e6",
   "metadata": {},
   "outputs": [],
   "source": []
  },
  {
   "attachments": {},
   "cell_type": "markdown",
   "id": "221f56b6",
   "metadata": {},
   "source": [
    "### $ 3.2 $ The `assert` statement"
   ]
  },
  {
   "attachments": {},
   "cell_type": "markdown",
   "id": "8dd05175",
   "metadata": {},
   "source": [
    "In order to debug, test or catch unexpected behavior in a piece of code before\n",
    "it occurs, Python provides the `assert` statement. It tests if a particular\n",
    "expression is true. If it is, the interpreter simply proceeds to the next line.\n",
    "Otherwise, it raises an `AssertionError` and displays an optional\n",
    "error message. Here's the basic syntax:"
   ]
  },
  {
   "cell_type": "code",
   "execution_count": null,
   "id": "b2874597",
   "metadata": {},
   "outputs": [],
   "source": [
    "assert <boolean expression>, \"error message\""
   ]
  },
  {
   "attachments": {},
   "cell_type": "markdown",
   "id": "48bd1578",
   "metadata": {},
   "source": [
    "**Example**: Let us modify the definition of `is_prime` so that it checks whether its argument is indeed an integer $ \\ge 2 $ before actually computing anything.<a name=\"prime\"></a>"
   ]
  },
  {
   "cell_type": "code",
   "execution_count": 12,
   "id": "dfbb0e21",
   "metadata": {},
   "outputs": [],
   "source": [
    "def is_prime(n: int) -> bool:\n",
    "\n",
    "    # The string containing the custom error message\n",
    "    # and the comma preceding it are optional:\n",
    "    assert isinstance(n, int)\n",
    "\n",
    "    # We can also use an f-strings as the error message:\n",
    "    assert n >= 2, f\"The argument {n} is not >= 2!\"\n",
    "    \n",
    "    for k in range(2, n):\n",
    "        if n % k == 0:\n",
    "            print(f\"{n} is divisible by {k}, hence it is not prime!\")\n",
    "            return False\n",
    "    return True"
   ]
  },
  {
   "cell_type": "code",
   "execution_count": 13,
   "id": "c45ef26e",
   "metadata": {},
   "outputs": [
    {
     "ename": "AssertionError",
     "evalue": "The argument -1 is not >= 2!",
     "output_type": "error",
     "traceback": [
      "\u001b[0;31m---------------------------------------------------------------------------\u001b[0m",
      "\u001b[0;31mAssertionError\u001b[0m                            Traceback (most recent call last)",
      "Cell \u001b[0;32mIn[13], line 1\u001b[0m\n\u001b[0;32m----> 1\u001b[0m \u001b[43mis_prime\u001b[49m\u001b[43m(\u001b[49m\u001b[38;5;241;43m-\u001b[39;49m\u001b[38;5;241;43m1\u001b[39;49m\u001b[43m)\u001b[49m\n",
      "Cell \u001b[0;32mIn[12], line 8\u001b[0m, in \u001b[0;36mis_prime\u001b[0;34m(n)\u001b[0m\n\u001b[1;32m      5\u001b[0m \u001b[38;5;28;01massert\u001b[39;00m \u001b[38;5;28misinstance\u001b[39m(n, \u001b[38;5;28mint\u001b[39m)\n\u001b[1;32m      7\u001b[0m \u001b[38;5;66;03m# We can also use an f-strings as the error message:\u001b[39;00m\n\u001b[0;32m----> 8\u001b[0m \u001b[38;5;28;01massert\u001b[39;00m n \u001b[38;5;241m>\u001b[39m\u001b[38;5;241m=\u001b[39m \u001b[38;5;241m2\u001b[39m, \u001b[38;5;124mf\u001b[39m\u001b[38;5;124m\"\u001b[39m\u001b[38;5;124mThe argument \u001b[39m\u001b[38;5;132;01m{\u001b[39;00mn\u001b[38;5;132;01m}\u001b[39;00m\u001b[38;5;124m is not >= 2!\u001b[39m\u001b[38;5;124m\"\u001b[39m\n\u001b[1;32m     10\u001b[0m \u001b[38;5;28;01mfor\u001b[39;00m k \u001b[38;5;129;01min\u001b[39;00m \u001b[38;5;28mrange\u001b[39m(\u001b[38;5;241m2\u001b[39m, n):\n\u001b[1;32m     11\u001b[0m     \u001b[38;5;28;01mif\u001b[39;00m n \u001b[38;5;241m%\u001b[39m k \u001b[38;5;241m==\u001b[39m \u001b[38;5;241m0\u001b[39m:\n",
      "\u001b[0;31mAssertionError\u001b[0m: The argument -1 is not >= 2!"
     ]
    }
   ],
   "source": [
    "is_prime(-1)"
   ]
  },
  {
   "cell_type": "code",
   "execution_count": 14,
   "id": "37045167",
   "metadata": {
    "scrolled": true
   },
   "outputs": [
    {
     "ename": "AssertionError",
     "evalue": "",
     "output_type": "error",
     "traceback": [
      "\u001b[0;31m---------------------------------------------------------------------------\u001b[0m",
      "\u001b[0;31mAssertionError\u001b[0m                            Traceback (most recent call last)",
      "Cell \u001b[0;32mIn[14], line 1\u001b[0m\n\u001b[0;32m----> 1\u001b[0m \u001b[43mis_prime\u001b[49m\u001b[43m(\u001b[49m\u001b[38;5;241;43m3.14\u001b[39;49m\u001b[43m)\u001b[49m\n",
      "Cell \u001b[0;32mIn[12], line 5\u001b[0m, in \u001b[0;36mis_prime\u001b[0;34m(n)\u001b[0m\n\u001b[1;32m      1\u001b[0m \u001b[38;5;28;01mdef\u001b[39;00m \u001b[38;5;21mis_prime\u001b[39m(n: \u001b[38;5;28mint\u001b[39m) \u001b[38;5;241m-\u001b[39m\u001b[38;5;241m>\u001b[39m \u001b[38;5;28mbool\u001b[39m:\n\u001b[1;32m      2\u001b[0m \n\u001b[1;32m      3\u001b[0m     \u001b[38;5;66;03m# The string containing the custom error message\u001b[39;00m\n\u001b[1;32m      4\u001b[0m     \u001b[38;5;66;03m# and the comma preceding it are optional:\u001b[39;00m\n\u001b[0;32m----> 5\u001b[0m     \u001b[38;5;28;01massert\u001b[39;00m \u001b[38;5;28misinstance\u001b[39m(n, \u001b[38;5;28mint\u001b[39m)\n\u001b[1;32m      7\u001b[0m     \u001b[38;5;66;03m# We can also use an f-strings as the error message:\u001b[39;00m\n\u001b[1;32m      8\u001b[0m     \u001b[38;5;28;01massert\u001b[39;00m n \u001b[38;5;241m>\u001b[39m\u001b[38;5;241m=\u001b[39m \u001b[38;5;241m2\u001b[39m, \u001b[38;5;124mf\u001b[39m\u001b[38;5;124m\"\u001b[39m\u001b[38;5;124mThe argument \u001b[39m\u001b[38;5;132;01m{\u001b[39;00mn\u001b[38;5;132;01m}\u001b[39;00m\u001b[38;5;124m is not >= 2!\u001b[39m\u001b[38;5;124m\"\u001b[39m\n",
      "\u001b[0;31mAssertionError\u001b[0m: "
     ]
    }
   ],
   "source": [
    "is_prime(3.14)"
   ]
  },
  {
   "attachments": {},
   "cell_type": "markdown",
   "id": "ab2d435b",
   "metadata": {},
   "source": [
    "## $ \\S 4 $ Function composition\n",
    "\n",
    "In a previous section we defined two procedures:\n",
    "* A function `fahr_to_kelvin` which converts from Fahrenheit to Kelvin;\n",
    "* A function `kelvin_to_celsius` which converts from Kelvin to Celsius.\n",
    "\n",
    "We may now easily obtain a function which converts from Fahrenheit to Celsius by\n",
    "__composition__ of these two, just as in the context of Mathematics.\n",
    "\n",
    "__Example__:"
   ]
  },
  {
   "cell_type": "code",
   "execution_count": 10,
   "id": "78fc47b0",
   "metadata": {},
   "outputs": [
    {
     "name": "stdout",
     "output_type": "stream",
     "text": [
      "0.0\n",
      "100.0\n"
     ]
    }
   ],
   "source": [
    "def fahr_to_celsius(temp_F: float) -> float:\n",
    "    return kelvin_to_celsius(fahr_to_kelvin(temp_F))\n",
    "\n",
    "\n",
    "# The freezing point of water is 32 F:\n",
    "freezing_temp_C = fahr_to_celsius(32)\n",
    "print(freezing_temp_C)\n",
    "\n",
    "# The boiling temperature of water is 212 F:\n",
    "boiling_temp_C = fahr_to_celsius(212)\n",
    "print(boiling_temp_C)"
   ]
  },
  {
   "cell_type": "markdown",
   "id": "4050828e",
   "metadata": {},
   "source": [
    "__Exercise:__ Consider the function\n",
    "$$\n",
    "g \\colon [0, 1] \\to [0, 1]\\,, \\quad g(x) = 4x(1 - x)\\,.\n",
    "$$\n",
    "\n",
    "(a) Create a Python function (procedure) `composition` that, given $ x $,\n",
    "computes\n",
    "$$\n",
    "g^{\\circ 100}(x) = \\underbrace{g \\circ g \\circ \\cdots \\circ g}_{100\\text{ times}} (x)\\,,\n",
    "$$\n",
    "that is, the result of applying the function $ g $ repeatedly a total\n",
    "of $ 100 $ times, with an initial argument $ x $ between $ 0 $ and $ 1 $ provided\n",
    "by the user. _Hint:_ Use a `for` loop and update the value of $ x $ in each\n",
    "iteration. \n",
    "\n",
    "(b) Call your function on the following arguments: $ 0.3 $, $ 0.33 $, $ 0.333 $\n",
    "and $ 0.3333 $.  This illustrates the fact that $ g $ exhibits chaotic behavior; in\n",
    "particular, small differences in the initial value of $ x $ may lead to very\n",
    "different outcomes for $ g^{\\circ 100}(x) $.\n",
    "\n",
    "(c) Generalize your function `composition` so that it now takes two arguments:\n",
    "the point `x` and the number of times `n` that $ g $ should be composed with\n",
    "itself.\n",
    "\n",
    "(d) Generalize the definition further so that the function ($ g $, in the case of item(a))\n",
    "which is to be composed is passed by the user of `composition` as a third argument. Thus,\n",
    "the signature should now be: `composition(x, n, f)`. Test your implementation with\n",
    "$ x = 1 $, $ n = 3 $ and $ f \\colon x \\mapsto \\frac{x}{2} $."
   ]
  },
  {
   "cell_type": "code",
   "execution_count": 30,
   "id": "30771a40",
   "metadata": {},
   "outputs": [
    {
     "data": {
      "text/plain": [
       "0.986186717224522"
      ]
     },
     "execution_count": 30,
     "metadata": {},
     "output_type": "execute_result"
    }
   ],
   "source": [
    "g = lambda x: 4 * x * (1 - x)\n",
    "\n",
    "def composition(x):\n",
    "    for k in range(100):\n",
    "        x = g(x)\n",
    "    return x\n",
    "\n",
    "\n",
    "x = 0.3333\n",
    "composition(x)"
   ]
  },
  {
   "attachments": {},
   "cell_type": "markdown",
   "id": "144e9639",
   "metadata": {},
   "source": [
    "__Exercise__: Define and test a function that, given an integer $ N > 0 $, computes the\n",
    "$ N $-th _harmonic number_, given by\n",
    "$$\n",
    "H_n = \\sum_{k=1}^{N} \\frac{1}{k}\\,.\n",
    "$$\n",
    "Do this in two different ways:\n",
    "\n",
    "(a) By storing the summands in a list, and then taking its `sum`.\n",
    "\n",
    "(b) By storing the partial sums in a variable which is incremented in turn.\n",
    "\n",
    "It can be shown that the $ N $-th harmonic number tends to $ \\infty $ as $ N \\to\n",
    "\\infty $, although it does so quite slowly. In fact, $ H_n \\sim \\ln n $."
   ]
  },
  {
   "cell_type": "code",
   "execution_count": null,
   "id": "92d010ea",
   "metadata": {},
   "outputs": [],
   "source": []
  },
  {
   "attachments": {},
   "cell_type": "markdown",
   "id": "8839c4ce",
   "metadata": {},
   "source": [
    "__Exercise__: Implement a function which, given a positive integer $ N $,\n",
    "returns the list of all prime numbers $ \\le N $. _Hint:_ Use the function\n",
    "`is_prime` which decides whether an individual number is prime. "
   ]
  },
  {
   "cell_type": "code",
   "execution_count": null,
   "id": "d15ef9b7",
   "metadata": {},
   "outputs": [],
   "source": []
  },
  {
   "attachments": {},
   "cell_type": "markdown",
   "id": "c605734c",
   "metadata": {},
   "source": [
    "## $ \\S 5 $ Importing modules\n",
    "\n",
    "A __module__ is a file containing Python code which is designed to be imported\n",
    "and reused in other Python scripts. Modules can include definitions of\n",
    "functions, variables and classes. They are used to organize the design of\n",
    "complex programs, facilitate debugging and promote code reusability."
   ]
  },
  {
   "attachments": {},
   "cell_type": "markdown",
   "id": "e3887902",
   "metadata": {},
   "source": [
    "### $ 5.1 $ Importing a module\n",
    "\n",
    "Core Python contains very few mathematical functions, among them `max`, `min`, `abs` and `sum`.\n",
    "\n",
    "__Example:__"
   ]
  },
  {
   "cell_type": "code",
   "execution_count": 14,
   "id": "3be91190",
   "metadata": {},
   "outputs": [
    {
     "name": "stdout",
     "output_type": "stream",
     "text": [
      "2.71\n",
      "-3000.0\n",
      "-2998.79\n",
      "1\n"
     ]
    }
   ],
   "source": [
    "numbers = [1.0, -3.5, 2.71, 77 % 2, -3e3]\n",
    "\n",
    "print(max(numbers))    # Maximum element of 'numbers'.\n",
    "print(min(numbers))    # Minimum element of 'numbers'.\n",
    "print(sum(numbers))    # Sum of 'numbers'.\n",
    "print(abs(-1))         # Absolute value of -1."
   ]
  },
  {
   "attachments": {},
   "cell_type": "markdown",
   "id": "4e5caa83",
   "metadata": {},
   "source": [
    "To import a module, for instance the module **math**, which contains implementations of some additional mathematical functions, use the statement `import math`. To then call, say, a function $ f $ defined in this module, use the syntax `math.f`.\n",
    "\n",
    "**Example:**"
   ]
  },
  {
   "cell_type": "code",
   "execution_count": 12,
   "id": "9df5f3a3",
   "metadata": {},
   "outputs": [
    {
     "name": "stdout",
     "output_type": "stream",
     "text": [
      "21.133202430493824\n",
      "20.085536923187668\n",
      "True\n"
     ]
    },
    {
     "data": {
      "text/plain": [
       "3.141592653589793"
      ]
     },
     "execution_count": 12,
     "metadata": {},
     "output_type": "execute_result"
    }
   ],
   "source": [
    "import math\n",
    "\n",
    "\n",
    "x = math.log(23e5, 2)    # Assign the logarithm of (23 * 10**5) in base 2 to x.\n",
    "y = math.exp(3)          # Assign the value of e cubed to y.\n",
    "\n",
    "print(x)\n",
    "print(y)\n",
    "print(x > y)\n",
    "\n",
    "math.pi                  # Return the value of the constant 'pi'."
   ]
  },
  {
   "attachments": {},
   "cell_type": "markdown",
   "id": "317b7953",
   "metadata": {},
   "source": [
    "📝 It is recommended practice that `import` statements be grouped together at the very beginning of a script and that they be separated from the remainder of the script by two blank lines."
   ]
  },
  {
   "attachments": {},
   "cell_type": "markdown",
   "id": "e2a7d59f",
   "metadata": {},
   "source": [
    "The module **math** does not contain too many functions, but among others, it provides implementations of:\n",
    "* The constants `pi` ($ \\pi $) and `e` ($ e $).\n",
    "* The *exponential* `exp` and the *logarithm* `log`. Regarding the latter, `log(a, b)` yields $ \\log_b a $, the logarithm base $ b $ of $ a $;\n",
    "* The basic *trigonometric functions* `cos`, `sin`, `tan` and their inverses `acos`, `asin`, `atan`;\n",
    "* The *ceiling* and *floor* functions `floor` and `ceil`, which, given a floating-point number $ x $, return the greatest integer $ \\le x $ (resp. the smallest integer $ \\ge x $);\n",
    "* The *square root* function `sqrt` and the *integer square root* function `isqrt`, which is equivalent to the composition of `sqrt` with `int` (but more efficient);\n",
    "* The *product* function `prod` which returns the product of a list of numbers;\n",
    "* The *factorial* function: `factorial(n)` yields the product\n",
    "  $ n! = n \\cdot (n - 1) \\cdots 2 \\cdot 1 $ of all integers from $ 1 $ to $ n $\n",
    "  (where $ n $ is a positive integer);"
   ]
  },
  {
   "cell_type": "markdown",
   "id": "a7f81e9f",
   "metadata": {},
   "source": [
    "__Exercise:__ By making use of functions/constants available in `math`, write functions that:\n",
    "\n",
    "(a) Computes the euclidean distance between two given points $ (a, b) $ and\n",
    "$ (c, d) $ in the plane. _Hint:_ Use the square root function.\n",
    "\n",
    "(b) Computes the binomial coefficient $ n \\choose m $. _Hint:_ Use the factorial function.\n",
    "\n",
    "(c) Given an integer $ n >= 3 $, returns in the form of two lists `xs` and `ys`\n",
    "the coordinates of the vertices of a regular $ n $-gon inscribed in the unit\n",
    "circle centered at the origin. _Hint:_ Use the cosine and sine functions,\n",
    "together with $ \\pi $ and a `for` loop to generate these coordinates, which\n",
    "are given by\n",
    "$$\n",
    "\\big(x_k, y_k\\big) = \\bigg(\\cos\\Big(\\frac{k\\pi}{n}\\Big)\\,,\\, \\sin\\Big(\\frac{k\\pi}{n}\\Big)\\bigg)\n",
    "\\qquad (k = 0, 1, \\dots, n - 1)\\,.\n",
    "$$"
   ]
  },
  {
   "cell_type": "code",
   "execution_count": null,
   "id": "2d01a4ce",
   "metadata": {},
   "outputs": [],
   "source": []
  },
  {
   "attachments": {},
   "cell_type": "markdown",
   "id": "4c8223d9",
   "metadata": {},
   "source": [
    "We can import a module using an **alias** to avoid having to type its full name\n",
    "using the syntax `import <module_name> as <alias>`.\n",
    "\n",
    "**Example:**"
   ]
  },
  {
   "cell_type": "code",
   "execution_count": 13,
   "id": "0ee8b991",
   "metadata": {},
   "outputs": [
    {
     "name": "stdout",
     "output_type": "stream",
     "text": [
      "120\n",
      "2.718281828459045\n"
     ]
    }
   ],
   "source": [
    "import math as m\n",
    "\n",
    "\n",
    "print(m.factorial(5))\n",
    "print(m.e)"
   ]
  },
  {
   "attachments": {},
   "cell_type": "markdown",
   "id": "31f1577f",
   "metadata": {},
   "source": [
    "### $ 5.2 $ Importing functions directly\n",
    "\n",
    "To avoid having to refer to the name of the module every time one of its functions/objects is called, we have two options:\n",
    "1. Explicitly import the functions/objects $ f_1, f_2, \\dots, f_n $ through the statement\n",
    "   `from <module_name> import f_1, f_2, ..., f_n`.\n",
    "2. Import every function/object provided by the module using the statement `from <module_name> import *`.\n",
    "\n",
    "⚠️ Both methods may lead to conflicts with definitions loaded from other modules\n",
    "(or from core Python). For example, both math and NumPy provide implementations\n",
    "of the sine function as `sin`; if both are loaded using either of these methods,\n",
    "then `sin` will take on the meaning provided by whichever module was loaded\n",
    "last.  Moreover, the second method is also wasteful since it will load several\n",
    "objects that will probably not be used."
   ]
  },
  {
   "attachments": {},
   "cell_type": "markdown",
   "id": "03f2f4d7",
   "metadata": {},
   "source": [
    "__Example:__"
   ]
  },
  {
   "cell_type": "code",
   "execution_count": 3,
   "id": "8ed7899f",
   "metadata": {},
   "outputs": [
    {
     "name": "stdout",
     "output_type": "stream",
     "text": [
      "1.7320508075688772\n",
      "1\n",
      "1.0 -1.0 6.123233995736766e-17\n"
     ]
    }
   ],
   "source": [
    "from math import sqrt, isqrt, cos, sin, pi\n",
    "\n",
    "\n",
    "print(sqrt(3))\n",
    "print(isqrt(3))\n",
    "\n",
    "print(cos(0), cos(pi), cos(pi / 2))"
   ]
  },
  {
   "cell_type": "code",
   "execution_count": 11,
   "id": "f42ebcb3",
   "metadata": {},
   "outputs": [
    {
     "name": "stdout",
     "output_type": "stream",
     "text": [
      "2 3\n",
      "-3 -2\n",
      "120\n"
     ]
    }
   ],
   "source": [
    "from math import *\n",
    "\n",
    "\n",
    "print(floor(2.5), ceil(2.5))\n",
    "print(floor(-2.5), ceil(-2.5))\n",
    "print(prod([1, 2, 3, 4, 5]))"
   ]
  },
  {
   "attachments": {},
   "cell_type": "markdown",
   "id": "6d928629",
   "metadata": {},
   "source": [
    "**Exercise:** What happens if you try to call the tangent function on $ \\frac{\\pi}{2} $? What is the factorial of $ 0 $ and $ - 1 $ according to Python? Why is the cosine of $ \\pi $ not exactly $ -1 $?"
   ]
  },
  {
   "cell_type": "code",
   "execution_count": null,
   "id": "d3fe347d",
   "metadata": {},
   "outputs": [],
   "source": []
  },
  {
   "attachments": {},
   "cell_type": "markdown",
   "id": "e0734275",
   "metadata": {},
   "source": [
    "📝 To explore the complete list of functions/objects provided by a module, use\n",
    "the `dir` command. To get help on how a specific function works, you can use\n",
    "`help(<function_name>)`. Note that in both cases, the corresponding module\n",
    "must be loaded first.\n",
    "\n",
    "__Example:__"
   ]
  },
  {
   "cell_type": "code",
   "execution_count": 11,
   "id": "aea79110",
   "metadata": {
    "scrolled": false
   },
   "outputs": [
    {
     "name": "stdout",
     "output_type": "stream",
     "text": [
      "['__doc__', '__file__', '__loader__', '__name__', '__package__', '__spec__', 'acos', 'acosh', 'asin', 'asinh', 'atan', 'atan2', 'atanh', 'ceil', 'comb', 'copysign', 'cos', 'cosh', 'degrees', 'dist', 'e', 'erf', 'erfc', 'exp', 'expm1', 'fabs', 'factorial', 'floor', 'fmod', 'frexp', 'fsum', 'gamma', 'gcd', 'hypot', 'inf', 'isclose', 'isfinite', 'isinf', 'isnan', 'isqrt', 'lcm', 'ldexp', 'lgamma', 'log', 'log10', 'log1p', 'log2', 'modf', 'nan', 'nextafter', 'perm', 'pi', 'pow', 'prod', 'radians', 'remainder', 'sin', 'sinh', 'sqrt', 'tan', 'tanh', 'tau', 'trunc', 'ulp']\n",
      "Help on built-in function ceil in module math:\n",
      "\n",
      "ceil(x, /)\n",
      "    Return the ceiling of x as an Integral.\n",
      "    \n",
      "    This is the smallest integer >= x.\n",
      "\n"
     ]
    }
   ],
   "source": [
    "import math\n",
    "print(dir(math))\n",
    "help(math.floor)"
   ]
  },
  {
   "attachments": {},
   "cell_type": "markdown",
   "id": "0f25a307",
   "metadata": {},
   "source": [
    "__Exercise:__ Let $ n \\ge 2 $ be an integer. If $ d $ is a divisor of $ n $ then\n",
    "$ \\frac{n}{d} $ is also a divisor, and $ d $ and $\\frac{n}{d} $ cannot both be\n",
    "greater than $ \\sqrt{n} $. Use this observation and the `isqrt` function from\n",
    "the *math* module to modify the definition of [`is_prime`](#prime) so that it\n",
    "tests only the numbers from $ 1 $ to $ \\sqrt{n} $ (including the latter!) as\n",
    "possible divisors of $ n $."
   ]
  },
  {
   "cell_type": "code",
   "execution_count": null,
   "id": "302b28d0",
   "metadata": {},
   "outputs": [],
   "source": []
  }
 ],
 "metadata": {
  "kernelspec": {
   "display_name": "Python 3 (ipykernel)",
   "language": "python",
   "name": "python3"
  },
  "language_info": {
   "codemirror_mode": {
    "name": "ipython",
    "version": 3
   },
   "file_extension": ".py",
   "mimetype": "text/x-python",
   "name": "python",
   "nbconvert_exporter": "python",
   "pygments_lexer": "ipython3",
   "version": "3.12.3"
  }
 },
 "nbformat": 4,
 "nbformat_minor": 5
}
